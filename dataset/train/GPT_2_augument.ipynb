{
  "nbformat": 4,
  "nbformat_minor": 0,
  "metadata": {
    "colab": {
      "provenance": []
    },
    "kernelspec": {
      "name": "python3",
      "display_name": "Python 3"
    },
    "language_info": {
      "name": "python"
    },
    "accelerator": "GPU",
    "gpuClass": "standard",
    "widgets": {
      "application/vnd.jupyter.widget-state+json": {
        "d2f13d0e69c149c3b196cc30fe75d111": {
          "model_module": "@jupyter-widgets/controls",
          "model_name": "HBoxModel",
          "model_module_version": "1.5.0",
          "state": {
            "_dom_classes": [],
            "_model_module": "@jupyter-widgets/controls",
            "_model_module_version": "1.5.0",
            "_model_name": "HBoxModel",
            "_view_count": null,
            "_view_module": "@jupyter-widgets/controls",
            "_view_module_version": "1.5.0",
            "_view_name": "HBoxView",
            "box_style": "",
            "children": [
              "IPY_MODEL_d8aa2fb1ad6c41da8776a962a1229072",
              "IPY_MODEL_ba910358102343d8b4544c12437bca88",
              "IPY_MODEL_c7ba8fecad8f4f35a997d60ac99014ab"
            ],
            "layout": "IPY_MODEL_94164543569c4dc2b6ed17819d1bb81c"
          }
        },
        "d8aa2fb1ad6c41da8776a962a1229072": {
          "model_module": "@jupyter-widgets/controls",
          "model_name": "HTMLModel",
          "model_module_version": "1.5.0",
          "state": {
            "_dom_classes": [],
            "_model_module": "@jupyter-widgets/controls",
            "_model_module_version": "1.5.0",
            "_model_name": "HTMLModel",
            "_view_count": null,
            "_view_module": "@jupyter-widgets/controls",
            "_view_module_version": "1.5.0",
            "_view_name": "HTMLView",
            "description": "",
            "description_tooltip": null,
            "layout": "IPY_MODEL_edb39eac9f744efabfc81eb551f99156",
            "placeholder": "​",
            "style": "IPY_MODEL_7cd99b70c88e4f998f52d5c44fb0baf8",
            "value": "tokenizing: 100%"
          }
        },
        "ba910358102343d8b4544c12437bca88": {
          "model_module": "@jupyter-widgets/controls",
          "model_name": "FloatProgressModel",
          "model_module_version": "1.5.0",
          "state": {
            "_dom_classes": [],
            "_model_module": "@jupyter-widgets/controls",
            "_model_module_version": "1.5.0",
            "_model_name": "FloatProgressModel",
            "_view_count": null,
            "_view_module": "@jupyter-widgets/controls",
            "_view_module_version": "1.5.0",
            "_view_name": "ProgressView",
            "bar_style": "success",
            "description": "",
            "description_tooltip": null,
            "layout": "IPY_MODEL_56a1ce642a2349679b62583b4c12babe",
            "max": 25976,
            "min": 0,
            "orientation": "horizontal",
            "style": "IPY_MODEL_f96126c203414c1ab1e9f666819b0ca5",
            "value": 25976
          }
        },
        "c7ba8fecad8f4f35a997d60ac99014ab": {
          "model_module": "@jupyter-widgets/controls",
          "model_name": "HTMLModel",
          "model_module_version": "1.5.0",
          "state": {
            "_dom_classes": [],
            "_model_module": "@jupyter-widgets/controls",
            "_model_module_version": "1.5.0",
            "_model_name": "HTMLModel",
            "_view_count": null,
            "_view_module": "@jupyter-widgets/controls",
            "_view_module_version": "1.5.0",
            "_view_name": "HTMLView",
            "description": "",
            "description_tooltip": null,
            "layout": "IPY_MODEL_edd828fb7b164e82a521295205558715",
            "placeholder": "​",
            "style": "IPY_MODEL_54d1f37160cf4f71b4964f2c701a7dff",
            "value": " 25976/25976 [00:10&lt;00:00, 2484.95it/s]"
          }
        },
        "94164543569c4dc2b6ed17819d1bb81c": {
          "model_module": "@jupyter-widgets/base",
          "model_name": "LayoutModel",
          "model_module_version": "1.2.0",
          "state": {
            "_model_module": "@jupyter-widgets/base",
            "_model_module_version": "1.2.0",
            "_model_name": "LayoutModel",
            "_view_count": null,
            "_view_module": "@jupyter-widgets/base",
            "_view_module_version": "1.2.0",
            "_view_name": "LayoutView",
            "align_content": null,
            "align_items": null,
            "align_self": null,
            "border": null,
            "bottom": null,
            "display": null,
            "flex": null,
            "flex_flow": null,
            "grid_area": null,
            "grid_auto_columns": null,
            "grid_auto_flow": null,
            "grid_auto_rows": null,
            "grid_column": null,
            "grid_gap": null,
            "grid_row": null,
            "grid_template_areas": null,
            "grid_template_columns": null,
            "grid_template_rows": null,
            "height": null,
            "justify_content": null,
            "justify_items": null,
            "left": null,
            "margin": null,
            "max_height": null,
            "max_width": null,
            "min_height": null,
            "min_width": null,
            "object_fit": null,
            "object_position": null,
            "order": null,
            "overflow": null,
            "overflow_x": null,
            "overflow_y": null,
            "padding": null,
            "right": null,
            "top": null,
            "visibility": null,
            "width": null
          }
        },
        "edb39eac9f744efabfc81eb551f99156": {
          "model_module": "@jupyter-widgets/base",
          "model_name": "LayoutModel",
          "model_module_version": "1.2.0",
          "state": {
            "_model_module": "@jupyter-widgets/base",
            "_model_module_version": "1.2.0",
            "_model_name": "LayoutModel",
            "_view_count": null,
            "_view_module": "@jupyter-widgets/base",
            "_view_module_version": "1.2.0",
            "_view_name": "LayoutView",
            "align_content": null,
            "align_items": null,
            "align_self": null,
            "border": null,
            "bottom": null,
            "display": null,
            "flex": null,
            "flex_flow": null,
            "grid_area": null,
            "grid_auto_columns": null,
            "grid_auto_flow": null,
            "grid_auto_rows": null,
            "grid_column": null,
            "grid_gap": null,
            "grid_row": null,
            "grid_template_areas": null,
            "grid_template_columns": null,
            "grid_template_rows": null,
            "height": null,
            "justify_content": null,
            "justify_items": null,
            "left": null,
            "margin": null,
            "max_height": null,
            "max_width": null,
            "min_height": null,
            "min_width": null,
            "object_fit": null,
            "object_position": null,
            "order": null,
            "overflow": null,
            "overflow_x": null,
            "overflow_y": null,
            "padding": null,
            "right": null,
            "top": null,
            "visibility": null,
            "width": null
          }
        },
        "7cd99b70c88e4f998f52d5c44fb0baf8": {
          "model_module": "@jupyter-widgets/controls",
          "model_name": "DescriptionStyleModel",
          "model_module_version": "1.5.0",
          "state": {
            "_model_module": "@jupyter-widgets/controls",
            "_model_module_version": "1.5.0",
            "_model_name": "DescriptionStyleModel",
            "_view_count": null,
            "_view_module": "@jupyter-widgets/base",
            "_view_module_version": "1.2.0",
            "_view_name": "StyleView",
            "description_width": ""
          }
        },
        "56a1ce642a2349679b62583b4c12babe": {
          "model_module": "@jupyter-widgets/base",
          "model_name": "LayoutModel",
          "model_module_version": "1.2.0",
          "state": {
            "_model_module": "@jupyter-widgets/base",
            "_model_module_version": "1.2.0",
            "_model_name": "LayoutModel",
            "_view_count": null,
            "_view_module": "@jupyter-widgets/base",
            "_view_module_version": "1.2.0",
            "_view_name": "LayoutView",
            "align_content": null,
            "align_items": null,
            "align_self": null,
            "border": null,
            "bottom": null,
            "display": null,
            "flex": null,
            "flex_flow": null,
            "grid_area": null,
            "grid_auto_columns": null,
            "grid_auto_flow": null,
            "grid_auto_rows": null,
            "grid_column": null,
            "grid_gap": null,
            "grid_row": null,
            "grid_template_areas": null,
            "grid_template_columns": null,
            "grid_template_rows": null,
            "height": null,
            "justify_content": null,
            "justify_items": null,
            "left": null,
            "margin": null,
            "max_height": null,
            "max_width": null,
            "min_height": null,
            "min_width": null,
            "object_fit": null,
            "object_position": null,
            "order": null,
            "overflow": null,
            "overflow_x": null,
            "overflow_y": null,
            "padding": null,
            "right": null,
            "top": null,
            "visibility": null,
            "width": null
          }
        },
        "f96126c203414c1ab1e9f666819b0ca5": {
          "model_module": "@jupyter-widgets/controls",
          "model_name": "ProgressStyleModel",
          "model_module_version": "1.5.0",
          "state": {
            "_model_module": "@jupyter-widgets/controls",
            "_model_module_version": "1.5.0",
            "_model_name": "ProgressStyleModel",
            "_view_count": null,
            "_view_module": "@jupyter-widgets/base",
            "_view_module_version": "1.2.0",
            "_view_name": "StyleView",
            "bar_color": null,
            "description_width": ""
          }
        },
        "edd828fb7b164e82a521295205558715": {
          "model_module": "@jupyter-widgets/base",
          "model_name": "LayoutModel",
          "model_module_version": "1.2.0",
          "state": {
            "_model_module": "@jupyter-widgets/base",
            "_model_module_version": "1.2.0",
            "_model_name": "LayoutModel",
            "_view_count": null,
            "_view_module": "@jupyter-widgets/base",
            "_view_module_version": "1.2.0",
            "_view_name": "LayoutView",
            "align_content": null,
            "align_items": null,
            "align_self": null,
            "border": null,
            "bottom": null,
            "display": null,
            "flex": null,
            "flex_flow": null,
            "grid_area": null,
            "grid_auto_columns": null,
            "grid_auto_flow": null,
            "grid_auto_rows": null,
            "grid_column": null,
            "grid_gap": null,
            "grid_row": null,
            "grid_template_areas": null,
            "grid_template_columns": null,
            "grid_template_rows": null,
            "height": null,
            "justify_content": null,
            "justify_items": null,
            "left": null,
            "margin": null,
            "max_height": null,
            "max_width": null,
            "min_height": null,
            "min_width": null,
            "object_fit": null,
            "object_position": null,
            "order": null,
            "overflow": null,
            "overflow_x": null,
            "overflow_y": null,
            "padding": null,
            "right": null,
            "top": null,
            "visibility": null,
            "width": null
          }
        },
        "54d1f37160cf4f71b4964f2c701a7dff": {
          "model_module": "@jupyter-widgets/controls",
          "model_name": "DescriptionStyleModel",
          "model_module_version": "1.5.0",
          "state": {
            "_model_module": "@jupyter-widgets/controls",
            "_model_module_version": "1.5.0",
            "_model_name": "DescriptionStyleModel",
            "_view_count": null,
            "_view_module": "@jupyter-widgets/base",
            "_view_module_version": "1.2.0",
            "_view_name": "StyleView",
            "description_width": ""
          }
        },
        "ce7de7785ea84c25b0c56abb2074eea3": {
          "model_module": "@jupyter-widgets/controls",
          "model_name": "HBoxModel",
          "model_module_version": "1.5.0",
          "state": {
            "_dom_classes": [],
            "_model_module": "@jupyter-widgets/controls",
            "_model_module_version": "1.5.0",
            "_model_name": "HBoxModel",
            "_view_count": null,
            "_view_module": "@jupyter-widgets/controls",
            "_view_module_version": "1.5.0",
            "_view_name": "HBoxView",
            "box_style": "",
            "children": [
              "IPY_MODEL_419e030c75bb4d3fa1cd4c764d999cb7",
              "IPY_MODEL_65d6e30f6a2d47c49752158aaf0e1fa1",
              "IPY_MODEL_cc2514d9515d4794afb8dc6ea3ee5163"
            ],
            "layout": "IPY_MODEL_843ac3fcb05c4bcf92064b69c8d30af7"
          }
        },
        "419e030c75bb4d3fa1cd4c764d999cb7": {
          "model_module": "@jupyter-widgets/controls",
          "model_name": "HTMLModel",
          "model_module_version": "1.5.0",
          "state": {
            "_dom_classes": [],
            "_model_module": "@jupyter-widgets/controls",
            "_model_module_version": "1.5.0",
            "_model_name": "HTMLModel",
            "_view_count": null,
            "_view_module": "@jupyter-widgets/controls",
            "_view_module_version": "1.5.0",
            "_view_name": "HTMLView",
            "description": "",
            "description_tooltip": null,
            "layout": "IPY_MODEL_91ae785b5f704790bdc7b3f69f1f40d3",
            "placeholder": "​",
            "style": "IPY_MODEL_bfebe29e7c404083af7d4ff33da5cf2c",
            "value": "tokenizing: 100%"
          }
        },
        "65d6e30f6a2d47c49752158aaf0e1fa1": {
          "model_module": "@jupyter-widgets/controls",
          "model_name": "FloatProgressModel",
          "model_module_version": "1.5.0",
          "state": {
            "_dom_classes": [],
            "_model_module": "@jupyter-widgets/controls",
            "_model_module_version": "1.5.0",
            "_model_name": "FloatProgressModel",
            "_view_count": null,
            "_view_module": "@jupyter-widgets/controls",
            "_view_module_version": "1.5.0",
            "_view_name": "ProgressView",
            "bar_style": "success",
            "description": "",
            "description_tooltip": null,
            "layout": "IPY_MODEL_1e94c3d16529427b851405755d9f44a9",
            "max": 25976,
            "min": 0,
            "orientation": "horizontal",
            "style": "IPY_MODEL_8ea8f498219247579d7a1c6a51647d95",
            "value": 25976
          }
        },
        "cc2514d9515d4794afb8dc6ea3ee5163": {
          "model_module": "@jupyter-widgets/controls",
          "model_name": "HTMLModel",
          "model_module_version": "1.5.0",
          "state": {
            "_dom_classes": [],
            "_model_module": "@jupyter-widgets/controls",
            "_model_module_version": "1.5.0",
            "_model_name": "HTMLModel",
            "_view_count": null,
            "_view_module": "@jupyter-widgets/controls",
            "_view_module_version": "1.5.0",
            "_view_name": "HTMLView",
            "description": "",
            "description_tooltip": null,
            "layout": "IPY_MODEL_3177ab0e86d44f178dbfbd861b42530f",
            "placeholder": "​",
            "style": "IPY_MODEL_ca7defa050224333b69a5168e484c444",
            "value": " 25976/25976 [00:10&lt;00:00, 2432.58it/s]"
          }
        },
        "843ac3fcb05c4bcf92064b69c8d30af7": {
          "model_module": "@jupyter-widgets/base",
          "model_name": "LayoutModel",
          "model_module_version": "1.2.0",
          "state": {
            "_model_module": "@jupyter-widgets/base",
            "_model_module_version": "1.2.0",
            "_model_name": "LayoutModel",
            "_view_count": null,
            "_view_module": "@jupyter-widgets/base",
            "_view_module_version": "1.2.0",
            "_view_name": "LayoutView",
            "align_content": null,
            "align_items": null,
            "align_self": null,
            "border": null,
            "bottom": null,
            "display": null,
            "flex": null,
            "flex_flow": null,
            "grid_area": null,
            "grid_auto_columns": null,
            "grid_auto_flow": null,
            "grid_auto_rows": null,
            "grid_column": null,
            "grid_gap": null,
            "grid_row": null,
            "grid_template_areas": null,
            "grid_template_columns": null,
            "grid_template_rows": null,
            "height": null,
            "justify_content": null,
            "justify_items": null,
            "left": null,
            "margin": null,
            "max_height": null,
            "max_width": null,
            "min_height": null,
            "min_width": null,
            "object_fit": null,
            "object_position": null,
            "order": null,
            "overflow": null,
            "overflow_x": null,
            "overflow_y": null,
            "padding": null,
            "right": null,
            "top": null,
            "visibility": null,
            "width": null
          }
        },
        "91ae785b5f704790bdc7b3f69f1f40d3": {
          "model_module": "@jupyter-widgets/base",
          "model_name": "LayoutModel",
          "model_module_version": "1.2.0",
          "state": {
            "_model_module": "@jupyter-widgets/base",
            "_model_module_version": "1.2.0",
            "_model_name": "LayoutModel",
            "_view_count": null,
            "_view_module": "@jupyter-widgets/base",
            "_view_module_version": "1.2.0",
            "_view_name": "LayoutView",
            "align_content": null,
            "align_items": null,
            "align_self": null,
            "border": null,
            "bottom": null,
            "display": null,
            "flex": null,
            "flex_flow": null,
            "grid_area": null,
            "grid_auto_columns": null,
            "grid_auto_flow": null,
            "grid_auto_rows": null,
            "grid_column": null,
            "grid_gap": null,
            "grid_row": null,
            "grid_template_areas": null,
            "grid_template_columns": null,
            "grid_template_rows": null,
            "height": null,
            "justify_content": null,
            "justify_items": null,
            "left": null,
            "margin": null,
            "max_height": null,
            "max_width": null,
            "min_height": null,
            "min_width": null,
            "object_fit": null,
            "object_position": null,
            "order": null,
            "overflow": null,
            "overflow_x": null,
            "overflow_y": null,
            "padding": null,
            "right": null,
            "top": null,
            "visibility": null,
            "width": null
          }
        },
        "bfebe29e7c404083af7d4ff33da5cf2c": {
          "model_module": "@jupyter-widgets/controls",
          "model_name": "DescriptionStyleModel",
          "model_module_version": "1.5.0",
          "state": {
            "_model_module": "@jupyter-widgets/controls",
            "_model_module_version": "1.5.0",
            "_model_name": "DescriptionStyleModel",
            "_view_count": null,
            "_view_module": "@jupyter-widgets/base",
            "_view_module_version": "1.2.0",
            "_view_name": "StyleView",
            "description_width": ""
          }
        },
        "1e94c3d16529427b851405755d9f44a9": {
          "model_module": "@jupyter-widgets/base",
          "model_name": "LayoutModel",
          "model_module_version": "1.2.0",
          "state": {
            "_model_module": "@jupyter-widgets/base",
            "_model_module_version": "1.2.0",
            "_model_name": "LayoutModel",
            "_view_count": null,
            "_view_module": "@jupyter-widgets/base",
            "_view_module_version": "1.2.0",
            "_view_name": "LayoutView",
            "align_content": null,
            "align_items": null,
            "align_self": null,
            "border": null,
            "bottom": null,
            "display": null,
            "flex": null,
            "flex_flow": null,
            "grid_area": null,
            "grid_auto_columns": null,
            "grid_auto_flow": null,
            "grid_auto_rows": null,
            "grid_column": null,
            "grid_gap": null,
            "grid_row": null,
            "grid_template_areas": null,
            "grid_template_columns": null,
            "grid_template_rows": null,
            "height": null,
            "justify_content": null,
            "justify_items": null,
            "left": null,
            "margin": null,
            "max_height": null,
            "max_width": null,
            "min_height": null,
            "min_width": null,
            "object_fit": null,
            "object_position": null,
            "order": null,
            "overflow": null,
            "overflow_x": null,
            "overflow_y": null,
            "padding": null,
            "right": null,
            "top": null,
            "visibility": null,
            "width": null
          }
        },
        "8ea8f498219247579d7a1c6a51647d95": {
          "model_module": "@jupyter-widgets/controls",
          "model_name": "ProgressStyleModel",
          "model_module_version": "1.5.0",
          "state": {
            "_model_module": "@jupyter-widgets/controls",
            "_model_module_version": "1.5.0",
            "_model_name": "ProgressStyleModel",
            "_view_count": null,
            "_view_module": "@jupyter-widgets/base",
            "_view_module_version": "1.2.0",
            "_view_name": "StyleView",
            "bar_color": null,
            "description_width": ""
          }
        },
        "3177ab0e86d44f178dbfbd861b42530f": {
          "model_module": "@jupyter-widgets/base",
          "model_name": "LayoutModel",
          "model_module_version": "1.2.0",
          "state": {
            "_model_module": "@jupyter-widgets/base",
            "_model_module_version": "1.2.0",
            "_model_name": "LayoutModel",
            "_view_count": null,
            "_view_module": "@jupyter-widgets/base",
            "_view_module_version": "1.2.0",
            "_view_name": "LayoutView",
            "align_content": null,
            "align_items": null,
            "align_self": null,
            "border": null,
            "bottom": null,
            "display": null,
            "flex": null,
            "flex_flow": null,
            "grid_area": null,
            "grid_auto_columns": null,
            "grid_auto_flow": null,
            "grid_auto_rows": null,
            "grid_column": null,
            "grid_gap": null,
            "grid_row": null,
            "grid_template_areas": null,
            "grid_template_columns": null,
            "grid_template_rows": null,
            "height": null,
            "justify_content": null,
            "justify_items": null,
            "left": null,
            "margin": null,
            "max_height": null,
            "max_width": null,
            "min_height": null,
            "min_width": null,
            "object_fit": null,
            "object_position": null,
            "order": null,
            "overflow": null,
            "overflow_x": null,
            "overflow_y": null,
            "padding": null,
            "right": null,
            "top": null,
            "visibility": null,
            "width": null
          }
        },
        "ca7defa050224333b69a5168e484c444": {
          "model_module": "@jupyter-widgets/controls",
          "model_name": "DescriptionStyleModel",
          "model_module_version": "1.5.0",
          "state": {
            "_model_module": "@jupyter-widgets/controls",
            "_model_module_version": "1.5.0",
            "_model_name": "DescriptionStyleModel",
            "_view_count": null,
            "_view_module": "@jupyter-widgets/base",
            "_view_module_version": "1.2.0",
            "_view_name": "StyleView",
            "description_width": ""
          }
        },
        "7aabf138169146ea91a3efa7aed5f6e7": {
          "model_module": "@jupyter-widgets/controls",
          "model_name": "HBoxModel",
          "model_module_version": "1.5.0",
          "state": {
            "_dom_classes": [],
            "_model_module": "@jupyter-widgets/controls",
            "_model_module_version": "1.5.0",
            "_model_name": "HBoxModel",
            "_view_count": null,
            "_view_module": "@jupyter-widgets/controls",
            "_view_module_version": "1.5.0",
            "_view_name": "HBoxView",
            "box_style": "",
            "children": [
              "IPY_MODEL_186e39b05dfb46dda5bb8f642311acdb",
              "IPY_MODEL_c00e006851e34693b79c0c495b7de054",
              "IPY_MODEL_3d8fdbfc4cc64c21a91dd615e961d99e"
            ],
            "layout": "IPY_MODEL_260ef8d5a7f949409937d214e32c0586"
          }
        },
        "186e39b05dfb46dda5bb8f642311acdb": {
          "model_module": "@jupyter-widgets/controls",
          "model_name": "HTMLModel",
          "model_module_version": "1.5.0",
          "state": {
            "_dom_classes": [],
            "_model_module": "@jupyter-widgets/controls",
            "_model_module_version": "1.5.0",
            "_model_name": "HTMLModel",
            "_view_count": null,
            "_view_module": "@jupyter-widgets/controls",
            "_view_module_version": "1.5.0",
            "_view_name": "HTMLView",
            "description": "",
            "description_tooltip": null,
            "layout": "IPY_MODEL_ab1857010a4e419abb403227d67c4936",
            "placeholder": "​",
            "style": "IPY_MODEL_be48f7029d144225b1b44964906a3326",
            "value": "Downloading: 100%"
          }
        },
        "c00e006851e34693b79c0c495b7de054": {
          "model_module": "@jupyter-widgets/controls",
          "model_name": "FloatProgressModel",
          "model_module_version": "1.5.0",
          "state": {
            "_dom_classes": [],
            "_model_module": "@jupyter-widgets/controls",
            "_model_module_version": "1.5.0",
            "_model_name": "FloatProgressModel",
            "_view_count": null,
            "_view_module": "@jupyter-widgets/controls",
            "_view_module_version": "1.5.0",
            "_view_name": "ProgressView",
            "bar_style": "success",
            "description": "",
            "description_tooltip": null,
            "layout": "IPY_MODEL_8ec9084047e24bf8a5cb71c5d17dcb81",
            "max": 2825034,
            "min": 0,
            "orientation": "horizontal",
            "style": "IPY_MODEL_157707a0cb3a4f1794874ad61c0df48b",
            "value": 2825034
          }
        },
        "3d8fdbfc4cc64c21a91dd615e961d99e": {
          "model_module": "@jupyter-widgets/controls",
          "model_name": "HTMLModel",
          "model_module_version": "1.5.0",
          "state": {
            "_dom_classes": [],
            "_model_module": "@jupyter-widgets/controls",
            "_model_module_version": "1.5.0",
            "_model_name": "HTMLModel",
            "_view_count": null,
            "_view_module": "@jupyter-widgets/controls",
            "_view_module_version": "1.5.0",
            "_view_name": "HTMLView",
            "description": "",
            "description_tooltip": null,
            "layout": "IPY_MODEL_63fc31c8a32149798d5005b37cc30579",
            "placeholder": "​",
            "style": "IPY_MODEL_9220c885dd814842ba7e885a1e74e6d2",
            "value": " 2.83M/2.83M [00:01&lt;00:00, 1.85MB/s]"
          }
        },
        "260ef8d5a7f949409937d214e32c0586": {
          "model_module": "@jupyter-widgets/base",
          "model_name": "LayoutModel",
          "model_module_version": "1.2.0",
          "state": {
            "_model_module": "@jupyter-widgets/base",
            "_model_module_version": "1.2.0",
            "_model_name": "LayoutModel",
            "_view_count": null,
            "_view_module": "@jupyter-widgets/base",
            "_view_module_version": "1.2.0",
            "_view_name": "LayoutView",
            "align_content": null,
            "align_items": null,
            "align_self": null,
            "border": null,
            "bottom": null,
            "display": null,
            "flex": null,
            "flex_flow": null,
            "grid_area": null,
            "grid_auto_columns": null,
            "grid_auto_flow": null,
            "grid_auto_rows": null,
            "grid_column": null,
            "grid_gap": null,
            "grid_row": null,
            "grid_template_areas": null,
            "grid_template_columns": null,
            "grid_template_rows": null,
            "height": null,
            "justify_content": null,
            "justify_items": null,
            "left": null,
            "margin": null,
            "max_height": null,
            "max_width": null,
            "min_height": null,
            "min_width": null,
            "object_fit": null,
            "object_position": null,
            "order": null,
            "overflow": null,
            "overflow_x": null,
            "overflow_y": null,
            "padding": null,
            "right": null,
            "top": null,
            "visibility": null,
            "width": null
          }
        },
        "ab1857010a4e419abb403227d67c4936": {
          "model_module": "@jupyter-widgets/base",
          "model_name": "LayoutModel",
          "model_module_version": "1.2.0",
          "state": {
            "_model_module": "@jupyter-widgets/base",
            "_model_module_version": "1.2.0",
            "_model_name": "LayoutModel",
            "_view_count": null,
            "_view_module": "@jupyter-widgets/base",
            "_view_module_version": "1.2.0",
            "_view_name": "LayoutView",
            "align_content": null,
            "align_items": null,
            "align_self": null,
            "border": null,
            "bottom": null,
            "display": null,
            "flex": null,
            "flex_flow": null,
            "grid_area": null,
            "grid_auto_columns": null,
            "grid_auto_flow": null,
            "grid_auto_rows": null,
            "grid_column": null,
            "grid_gap": null,
            "grid_row": null,
            "grid_template_areas": null,
            "grid_template_columns": null,
            "grid_template_rows": null,
            "height": null,
            "justify_content": null,
            "justify_items": null,
            "left": null,
            "margin": null,
            "max_height": null,
            "max_width": null,
            "min_height": null,
            "min_width": null,
            "object_fit": null,
            "object_position": null,
            "order": null,
            "overflow": null,
            "overflow_x": null,
            "overflow_y": null,
            "padding": null,
            "right": null,
            "top": null,
            "visibility": null,
            "width": null
          }
        },
        "be48f7029d144225b1b44964906a3326": {
          "model_module": "@jupyter-widgets/controls",
          "model_name": "DescriptionStyleModel",
          "model_module_version": "1.5.0",
          "state": {
            "_model_module": "@jupyter-widgets/controls",
            "_model_module_version": "1.5.0",
            "_model_name": "DescriptionStyleModel",
            "_view_count": null,
            "_view_module": "@jupyter-widgets/base",
            "_view_module_version": "1.2.0",
            "_view_name": "StyleView",
            "description_width": ""
          }
        },
        "8ec9084047e24bf8a5cb71c5d17dcb81": {
          "model_module": "@jupyter-widgets/base",
          "model_name": "LayoutModel",
          "model_module_version": "1.2.0",
          "state": {
            "_model_module": "@jupyter-widgets/base",
            "_model_module_version": "1.2.0",
            "_model_name": "LayoutModel",
            "_view_count": null,
            "_view_module": "@jupyter-widgets/base",
            "_view_module_version": "1.2.0",
            "_view_name": "LayoutView",
            "align_content": null,
            "align_items": null,
            "align_self": null,
            "border": null,
            "bottom": null,
            "display": null,
            "flex": null,
            "flex_flow": null,
            "grid_area": null,
            "grid_auto_columns": null,
            "grid_auto_flow": null,
            "grid_auto_rows": null,
            "grid_column": null,
            "grid_gap": null,
            "grid_row": null,
            "grid_template_areas": null,
            "grid_template_columns": null,
            "grid_template_rows": null,
            "height": null,
            "justify_content": null,
            "justify_items": null,
            "left": null,
            "margin": null,
            "max_height": null,
            "max_width": null,
            "min_height": null,
            "min_width": null,
            "object_fit": null,
            "object_position": null,
            "order": null,
            "overflow": null,
            "overflow_x": null,
            "overflow_y": null,
            "padding": null,
            "right": null,
            "top": null,
            "visibility": null,
            "width": null
          }
        },
        "157707a0cb3a4f1794874ad61c0df48b": {
          "model_module": "@jupyter-widgets/controls",
          "model_name": "ProgressStyleModel",
          "model_module_version": "1.5.0",
          "state": {
            "_model_module": "@jupyter-widgets/controls",
            "_model_module_version": "1.5.0",
            "_model_name": "ProgressStyleModel",
            "_view_count": null,
            "_view_module": "@jupyter-widgets/base",
            "_view_module_version": "1.2.0",
            "_view_name": "StyleView",
            "bar_color": null,
            "description_width": ""
          }
        },
        "63fc31c8a32149798d5005b37cc30579": {
          "model_module": "@jupyter-widgets/base",
          "model_name": "LayoutModel",
          "model_module_version": "1.2.0",
          "state": {
            "_model_module": "@jupyter-widgets/base",
            "_model_module_version": "1.2.0",
            "_model_name": "LayoutModel",
            "_view_count": null,
            "_view_module": "@jupyter-widgets/base",
            "_view_module_version": "1.2.0",
            "_view_name": "LayoutView",
            "align_content": null,
            "align_items": null,
            "align_self": null,
            "border": null,
            "bottom": null,
            "display": null,
            "flex": null,
            "flex_flow": null,
            "grid_area": null,
            "grid_auto_columns": null,
            "grid_auto_flow": null,
            "grid_auto_rows": null,
            "grid_column": null,
            "grid_gap": null,
            "grid_row": null,
            "grid_template_areas": null,
            "grid_template_columns": null,
            "grid_template_rows": null,
            "height": null,
            "justify_content": null,
            "justify_items": null,
            "left": null,
            "margin": null,
            "max_height": null,
            "max_width": null,
            "min_height": null,
            "min_width": null,
            "object_fit": null,
            "object_position": null,
            "order": null,
            "overflow": null,
            "overflow_x": null,
            "overflow_y": null,
            "padding": null,
            "right": null,
            "top": null,
            "visibility": null,
            "width": null
          }
        },
        "9220c885dd814842ba7e885a1e74e6d2": {
          "model_module": "@jupyter-widgets/controls",
          "model_name": "DescriptionStyleModel",
          "model_module_version": "1.5.0",
          "state": {
            "_model_module": "@jupyter-widgets/controls",
            "_model_module_version": "1.5.0",
            "_model_name": "DescriptionStyleModel",
            "_view_count": null,
            "_view_module": "@jupyter-widgets/base",
            "_view_module_version": "1.2.0",
            "_view_name": "StyleView",
            "description_width": ""
          }
        },
        "076971e119694440a58ec84403c6ab25": {
          "model_module": "@jupyter-widgets/controls",
          "model_name": "HBoxModel",
          "model_module_version": "1.5.0",
          "state": {
            "_dom_classes": [],
            "_model_module": "@jupyter-widgets/controls",
            "_model_module_version": "1.5.0",
            "_model_name": "HBoxModel",
            "_view_count": null,
            "_view_module": "@jupyter-widgets/controls",
            "_view_module_version": "1.5.0",
            "_view_name": "HBoxView",
            "box_style": "",
            "children": [
              "IPY_MODEL_bfe67fff05eb42fb991a5b421dcfe04e",
              "IPY_MODEL_8595c80b769f448d9cdddc72f83311b8",
              "IPY_MODEL_2679eaa6c629484daeb7b86899e14aef"
            ],
            "layout": "IPY_MODEL_30db2e1195a549ba9192756f53330a35"
          }
        },
        "bfe67fff05eb42fb991a5b421dcfe04e": {
          "model_module": "@jupyter-widgets/controls",
          "model_name": "HTMLModel",
          "model_module_version": "1.5.0",
          "state": {
            "_dom_classes": [],
            "_model_module": "@jupyter-widgets/controls",
            "_model_module_version": "1.5.0",
            "_model_name": "HTMLModel",
            "_view_count": null,
            "_view_module": "@jupyter-widgets/controls",
            "_view_module_version": "1.5.0",
            "_view_name": "HTMLView",
            "description": "",
            "description_tooltip": null,
            "layout": "IPY_MODEL_15ab86a05e184c75bcc048454f9b2032",
            "placeholder": "​",
            "style": "IPY_MODEL_f6f8270b09604dfcb40f43fd37d69c90",
            "value": "Downloading: 100%"
          }
        },
        "8595c80b769f448d9cdddc72f83311b8": {
          "model_module": "@jupyter-widgets/controls",
          "model_name": "FloatProgressModel",
          "model_module_version": "1.5.0",
          "state": {
            "_dom_classes": [],
            "_model_module": "@jupyter-widgets/controls",
            "_model_module_version": "1.5.0",
            "_model_name": "FloatProgressModel",
            "_view_count": null,
            "_view_module": "@jupyter-widgets/controls",
            "_view_module_version": "1.5.0",
            "_view_name": "ProgressView",
            "bar_style": "success",
            "description": "",
            "description_tooltip": null,
            "layout": "IPY_MODEL_22be95c801cf4b079c7b47f6b6fa7d90",
            "max": 1000,
            "min": 0,
            "orientation": "horizontal",
            "style": "IPY_MODEL_686015ca0a49472eae9378ba123c1cf6",
            "value": 1000
          }
        },
        "2679eaa6c629484daeb7b86899e14aef": {
          "model_module": "@jupyter-widgets/controls",
          "model_name": "HTMLModel",
          "model_module_version": "1.5.0",
          "state": {
            "_dom_classes": [],
            "_model_module": "@jupyter-widgets/controls",
            "_model_module_version": "1.5.0",
            "_model_name": "HTMLModel",
            "_view_count": null,
            "_view_module": "@jupyter-widgets/controls",
            "_view_module_version": "1.5.0",
            "_view_name": "HTMLView",
            "description": "",
            "description_tooltip": null,
            "layout": "IPY_MODEL_1100c227ff654b508861c0cf72c9fee8",
            "placeholder": "​",
            "style": "IPY_MODEL_567d51d8acf04f5ca9d4ddf2108355c3",
            "value": " 1.00k/1.00k [00:00&lt;00:00, 36.2kB/s]"
          }
        },
        "30db2e1195a549ba9192756f53330a35": {
          "model_module": "@jupyter-widgets/base",
          "model_name": "LayoutModel",
          "model_module_version": "1.2.0",
          "state": {
            "_model_module": "@jupyter-widgets/base",
            "_model_module_version": "1.2.0",
            "_model_name": "LayoutModel",
            "_view_count": null,
            "_view_module": "@jupyter-widgets/base",
            "_view_module_version": "1.2.0",
            "_view_name": "LayoutView",
            "align_content": null,
            "align_items": null,
            "align_self": null,
            "border": null,
            "bottom": null,
            "display": null,
            "flex": null,
            "flex_flow": null,
            "grid_area": null,
            "grid_auto_columns": null,
            "grid_auto_flow": null,
            "grid_auto_rows": null,
            "grid_column": null,
            "grid_gap": null,
            "grid_row": null,
            "grid_template_areas": null,
            "grid_template_columns": null,
            "grid_template_rows": null,
            "height": null,
            "justify_content": null,
            "justify_items": null,
            "left": null,
            "margin": null,
            "max_height": null,
            "max_width": null,
            "min_height": null,
            "min_width": null,
            "object_fit": null,
            "object_position": null,
            "order": null,
            "overflow": null,
            "overflow_x": null,
            "overflow_y": null,
            "padding": null,
            "right": null,
            "top": null,
            "visibility": null,
            "width": null
          }
        },
        "15ab86a05e184c75bcc048454f9b2032": {
          "model_module": "@jupyter-widgets/base",
          "model_name": "LayoutModel",
          "model_module_version": "1.2.0",
          "state": {
            "_model_module": "@jupyter-widgets/base",
            "_model_module_version": "1.2.0",
            "_model_name": "LayoutModel",
            "_view_count": null,
            "_view_module": "@jupyter-widgets/base",
            "_view_module_version": "1.2.0",
            "_view_name": "LayoutView",
            "align_content": null,
            "align_items": null,
            "align_self": null,
            "border": null,
            "bottom": null,
            "display": null,
            "flex": null,
            "flex_flow": null,
            "grid_area": null,
            "grid_auto_columns": null,
            "grid_auto_flow": null,
            "grid_auto_rows": null,
            "grid_column": null,
            "grid_gap": null,
            "grid_row": null,
            "grid_template_areas": null,
            "grid_template_columns": null,
            "grid_template_rows": null,
            "height": null,
            "justify_content": null,
            "justify_items": null,
            "left": null,
            "margin": null,
            "max_height": null,
            "max_width": null,
            "min_height": null,
            "min_width": null,
            "object_fit": null,
            "object_position": null,
            "order": null,
            "overflow": null,
            "overflow_x": null,
            "overflow_y": null,
            "padding": null,
            "right": null,
            "top": null,
            "visibility": null,
            "width": null
          }
        },
        "f6f8270b09604dfcb40f43fd37d69c90": {
          "model_module": "@jupyter-widgets/controls",
          "model_name": "DescriptionStyleModel",
          "model_module_version": "1.5.0",
          "state": {
            "_model_module": "@jupyter-widgets/controls",
            "_model_module_version": "1.5.0",
            "_model_name": "DescriptionStyleModel",
            "_view_count": null,
            "_view_module": "@jupyter-widgets/base",
            "_view_module_version": "1.2.0",
            "_view_name": "StyleView",
            "description_width": ""
          }
        },
        "22be95c801cf4b079c7b47f6b6fa7d90": {
          "model_module": "@jupyter-widgets/base",
          "model_name": "LayoutModel",
          "model_module_version": "1.2.0",
          "state": {
            "_model_module": "@jupyter-widgets/base",
            "_model_module_version": "1.2.0",
            "_model_name": "LayoutModel",
            "_view_count": null,
            "_view_module": "@jupyter-widgets/base",
            "_view_module_version": "1.2.0",
            "_view_name": "LayoutView",
            "align_content": null,
            "align_items": null,
            "align_self": null,
            "border": null,
            "bottom": null,
            "display": null,
            "flex": null,
            "flex_flow": null,
            "grid_area": null,
            "grid_auto_columns": null,
            "grid_auto_flow": null,
            "grid_auto_rows": null,
            "grid_column": null,
            "grid_gap": null,
            "grid_row": null,
            "grid_template_areas": null,
            "grid_template_columns": null,
            "grid_template_rows": null,
            "height": null,
            "justify_content": null,
            "justify_items": null,
            "left": null,
            "margin": null,
            "max_height": null,
            "max_width": null,
            "min_height": null,
            "min_width": null,
            "object_fit": null,
            "object_position": null,
            "order": null,
            "overflow": null,
            "overflow_x": null,
            "overflow_y": null,
            "padding": null,
            "right": null,
            "top": null,
            "visibility": null,
            "width": null
          }
        },
        "686015ca0a49472eae9378ba123c1cf6": {
          "model_module": "@jupyter-widgets/controls",
          "model_name": "ProgressStyleModel",
          "model_module_version": "1.5.0",
          "state": {
            "_model_module": "@jupyter-widgets/controls",
            "_model_module_version": "1.5.0",
            "_model_name": "ProgressStyleModel",
            "_view_count": null,
            "_view_module": "@jupyter-widgets/base",
            "_view_module_version": "1.2.0",
            "_view_name": "StyleView",
            "bar_color": null,
            "description_width": ""
          }
        },
        "1100c227ff654b508861c0cf72c9fee8": {
          "model_module": "@jupyter-widgets/base",
          "model_name": "LayoutModel",
          "model_module_version": "1.2.0",
          "state": {
            "_model_module": "@jupyter-widgets/base",
            "_model_module_version": "1.2.0",
            "_model_name": "LayoutModel",
            "_view_count": null,
            "_view_module": "@jupyter-widgets/base",
            "_view_module_version": "1.2.0",
            "_view_name": "LayoutView",
            "align_content": null,
            "align_items": null,
            "align_self": null,
            "border": null,
            "bottom": null,
            "display": null,
            "flex": null,
            "flex_flow": null,
            "grid_area": null,
            "grid_auto_columns": null,
            "grid_auto_flow": null,
            "grid_auto_rows": null,
            "grid_column": null,
            "grid_gap": null,
            "grid_row": null,
            "grid_template_areas": null,
            "grid_template_columns": null,
            "grid_template_rows": null,
            "height": null,
            "justify_content": null,
            "justify_items": null,
            "left": null,
            "margin": null,
            "max_height": null,
            "max_width": null,
            "min_height": null,
            "min_width": null,
            "object_fit": null,
            "object_position": null,
            "order": null,
            "overflow": null,
            "overflow_x": null,
            "overflow_y": null,
            "padding": null,
            "right": null,
            "top": null,
            "visibility": null,
            "width": null
          }
        },
        "567d51d8acf04f5ca9d4ddf2108355c3": {
          "model_module": "@jupyter-widgets/controls",
          "model_name": "DescriptionStyleModel",
          "model_module_version": "1.5.0",
          "state": {
            "_model_module": "@jupyter-widgets/controls",
            "_model_module_version": "1.5.0",
            "_model_name": "DescriptionStyleModel",
            "_view_count": null,
            "_view_module": "@jupyter-widgets/base",
            "_view_module_version": "1.2.0",
            "_view_name": "StyleView",
            "description_width": ""
          }
        },
        "0e43f307fd4b474c9bd9fe8118bc106b": {
          "model_module": "@jupyter-widgets/controls",
          "model_name": "HBoxModel",
          "model_module_version": "1.5.0",
          "state": {
            "_dom_classes": [],
            "_model_module": "@jupyter-widgets/controls",
            "_model_module_version": "1.5.0",
            "_model_name": "HBoxModel",
            "_view_count": null,
            "_view_module": "@jupyter-widgets/controls",
            "_view_module_version": "1.5.0",
            "_view_name": "HBoxView",
            "box_style": "",
            "children": [
              "IPY_MODEL_aa21ca71669b4f44a5d4cee10c3d6d7f",
              "IPY_MODEL_ad44e6d3a9124adaa138804fa0f9561d",
              "IPY_MODEL_4644ccae44184663998563c000176257"
            ],
            "layout": "IPY_MODEL_1b919450504541c682d40425b76febec"
          }
        },
        "aa21ca71669b4f44a5d4cee10c3d6d7f": {
          "model_module": "@jupyter-widgets/controls",
          "model_name": "HTMLModel",
          "model_module_version": "1.5.0",
          "state": {
            "_dom_classes": [],
            "_model_module": "@jupyter-widgets/controls",
            "_model_module_version": "1.5.0",
            "_model_name": "HTMLModel",
            "_view_count": null,
            "_view_module": "@jupyter-widgets/controls",
            "_view_module_version": "1.5.0",
            "_view_name": "HTMLView",
            "description": "",
            "description_tooltip": null,
            "layout": "IPY_MODEL_b22429e2564e4289a293aa9a0c535755",
            "placeholder": "​",
            "style": "IPY_MODEL_95dbb06d715b46fd803afacab72ae064",
            "value": "tokenizing: 100%"
          }
        },
        "ad44e6d3a9124adaa138804fa0f9561d": {
          "model_module": "@jupyter-widgets/controls",
          "model_name": "FloatProgressModel",
          "model_module_version": "1.5.0",
          "state": {
            "_dom_classes": [],
            "_model_module": "@jupyter-widgets/controls",
            "_model_module_version": "1.5.0",
            "_model_name": "FloatProgressModel",
            "_view_count": null,
            "_view_module": "@jupyter-widgets/controls",
            "_view_module_version": "1.5.0",
            "_view_name": "ProgressView",
            "bar_style": "success",
            "description": "",
            "description_tooltip": null,
            "layout": "IPY_MODEL_de095b3d99f444ee84be29e8c1bc4398",
            "max": 7640,
            "min": 0,
            "orientation": "horizontal",
            "style": "IPY_MODEL_82b177dc5cc94d039ee57d4a8d0c978e",
            "value": 7640
          }
        },
        "4644ccae44184663998563c000176257": {
          "model_module": "@jupyter-widgets/controls",
          "model_name": "HTMLModel",
          "model_module_version": "1.5.0",
          "state": {
            "_dom_classes": [],
            "_model_module": "@jupyter-widgets/controls",
            "_model_module_version": "1.5.0",
            "_model_name": "HTMLModel",
            "_view_count": null,
            "_view_module": "@jupyter-widgets/controls",
            "_view_module_version": "1.5.0",
            "_view_name": "HTMLView",
            "description": "",
            "description_tooltip": null,
            "layout": "IPY_MODEL_4b97f7059464444581b86ff12abc1596",
            "placeholder": "​",
            "style": "IPY_MODEL_7a494623ac7444ae8250e91dd236bdcd",
            "value": " 7640/7640 [00:02&lt;00:00, 2722.80it/s]"
          }
        },
        "1b919450504541c682d40425b76febec": {
          "model_module": "@jupyter-widgets/base",
          "model_name": "LayoutModel",
          "model_module_version": "1.2.0",
          "state": {
            "_model_module": "@jupyter-widgets/base",
            "_model_module_version": "1.2.0",
            "_model_name": "LayoutModel",
            "_view_count": null,
            "_view_module": "@jupyter-widgets/base",
            "_view_module_version": "1.2.0",
            "_view_name": "LayoutView",
            "align_content": null,
            "align_items": null,
            "align_self": null,
            "border": null,
            "bottom": null,
            "display": null,
            "flex": null,
            "flex_flow": null,
            "grid_area": null,
            "grid_auto_columns": null,
            "grid_auto_flow": null,
            "grid_auto_rows": null,
            "grid_column": null,
            "grid_gap": null,
            "grid_row": null,
            "grid_template_areas": null,
            "grid_template_columns": null,
            "grid_template_rows": null,
            "height": null,
            "justify_content": null,
            "justify_items": null,
            "left": null,
            "margin": null,
            "max_height": null,
            "max_width": null,
            "min_height": null,
            "min_width": null,
            "object_fit": null,
            "object_position": null,
            "order": null,
            "overflow": null,
            "overflow_x": null,
            "overflow_y": null,
            "padding": null,
            "right": null,
            "top": null,
            "visibility": null,
            "width": null
          }
        },
        "b22429e2564e4289a293aa9a0c535755": {
          "model_module": "@jupyter-widgets/base",
          "model_name": "LayoutModel",
          "model_module_version": "1.2.0",
          "state": {
            "_model_module": "@jupyter-widgets/base",
            "_model_module_version": "1.2.0",
            "_model_name": "LayoutModel",
            "_view_count": null,
            "_view_module": "@jupyter-widgets/base",
            "_view_module_version": "1.2.0",
            "_view_name": "LayoutView",
            "align_content": null,
            "align_items": null,
            "align_self": null,
            "border": null,
            "bottom": null,
            "display": null,
            "flex": null,
            "flex_flow": null,
            "grid_area": null,
            "grid_auto_columns": null,
            "grid_auto_flow": null,
            "grid_auto_rows": null,
            "grid_column": null,
            "grid_gap": null,
            "grid_row": null,
            "grid_template_areas": null,
            "grid_template_columns": null,
            "grid_template_rows": null,
            "height": null,
            "justify_content": null,
            "justify_items": null,
            "left": null,
            "margin": null,
            "max_height": null,
            "max_width": null,
            "min_height": null,
            "min_width": null,
            "object_fit": null,
            "object_position": null,
            "order": null,
            "overflow": null,
            "overflow_x": null,
            "overflow_y": null,
            "padding": null,
            "right": null,
            "top": null,
            "visibility": null,
            "width": null
          }
        },
        "95dbb06d715b46fd803afacab72ae064": {
          "model_module": "@jupyter-widgets/controls",
          "model_name": "DescriptionStyleModel",
          "model_module_version": "1.5.0",
          "state": {
            "_model_module": "@jupyter-widgets/controls",
            "_model_module_version": "1.5.0",
            "_model_name": "DescriptionStyleModel",
            "_view_count": null,
            "_view_module": "@jupyter-widgets/base",
            "_view_module_version": "1.2.0",
            "_view_name": "StyleView",
            "description_width": ""
          }
        },
        "de095b3d99f444ee84be29e8c1bc4398": {
          "model_module": "@jupyter-widgets/base",
          "model_name": "LayoutModel",
          "model_module_version": "1.2.0",
          "state": {
            "_model_module": "@jupyter-widgets/base",
            "_model_module_version": "1.2.0",
            "_model_name": "LayoutModel",
            "_view_count": null,
            "_view_module": "@jupyter-widgets/base",
            "_view_module_version": "1.2.0",
            "_view_name": "LayoutView",
            "align_content": null,
            "align_items": null,
            "align_self": null,
            "border": null,
            "bottom": null,
            "display": null,
            "flex": null,
            "flex_flow": null,
            "grid_area": null,
            "grid_auto_columns": null,
            "grid_auto_flow": null,
            "grid_auto_rows": null,
            "grid_column": null,
            "grid_gap": null,
            "grid_row": null,
            "grid_template_areas": null,
            "grid_template_columns": null,
            "grid_template_rows": null,
            "height": null,
            "justify_content": null,
            "justify_items": null,
            "left": null,
            "margin": null,
            "max_height": null,
            "max_width": null,
            "min_height": null,
            "min_width": null,
            "object_fit": null,
            "object_position": null,
            "order": null,
            "overflow": null,
            "overflow_x": null,
            "overflow_y": null,
            "padding": null,
            "right": null,
            "top": null,
            "visibility": null,
            "width": null
          }
        },
        "82b177dc5cc94d039ee57d4a8d0c978e": {
          "model_module": "@jupyter-widgets/controls",
          "model_name": "ProgressStyleModel",
          "model_module_version": "1.5.0",
          "state": {
            "_model_module": "@jupyter-widgets/controls",
            "_model_module_version": "1.5.0",
            "_model_name": "ProgressStyleModel",
            "_view_count": null,
            "_view_module": "@jupyter-widgets/base",
            "_view_module_version": "1.2.0",
            "_view_name": "StyleView",
            "bar_color": null,
            "description_width": ""
          }
        },
        "4b97f7059464444581b86ff12abc1596": {
          "model_module": "@jupyter-widgets/base",
          "model_name": "LayoutModel",
          "model_module_version": "1.2.0",
          "state": {
            "_model_module": "@jupyter-widgets/base",
            "_model_module_version": "1.2.0",
            "_model_name": "LayoutModel",
            "_view_count": null,
            "_view_module": "@jupyter-widgets/base",
            "_view_module_version": "1.2.0",
            "_view_name": "LayoutView",
            "align_content": null,
            "align_items": null,
            "align_self": null,
            "border": null,
            "bottom": null,
            "display": null,
            "flex": null,
            "flex_flow": null,
            "grid_area": null,
            "grid_auto_columns": null,
            "grid_auto_flow": null,
            "grid_auto_rows": null,
            "grid_column": null,
            "grid_gap": null,
            "grid_row": null,
            "grid_template_areas": null,
            "grid_template_columns": null,
            "grid_template_rows": null,
            "height": null,
            "justify_content": null,
            "justify_items": null,
            "left": null,
            "margin": null,
            "max_height": null,
            "max_width": null,
            "min_height": null,
            "min_width": null,
            "object_fit": null,
            "object_position": null,
            "order": null,
            "overflow": null,
            "overflow_x": null,
            "overflow_y": null,
            "padding": null,
            "right": null,
            "top": null,
            "visibility": null,
            "width": null
          }
        },
        "7a494623ac7444ae8250e91dd236bdcd": {
          "model_module": "@jupyter-widgets/controls",
          "model_name": "DescriptionStyleModel",
          "model_module_version": "1.5.0",
          "state": {
            "_model_module": "@jupyter-widgets/controls",
            "_model_module_version": "1.5.0",
            "_model_name": "DescriptionStyleModel",
            "_view_count": null,
            "_view_module": "@jupyter-widgets/base",
            "_view_module_version": "1.2.0",
            "_view_name": "StyleView",
            "description_width": ""
          }
        },
        "0a07c593bc8743b1b179b03534fb60e1": {
          "model_module": "@jupyter-widgets/controls",
          "model_name": "HBoxModel",
          "model_module_version": "1.5.0",
          "state": {
            "_dom_classes": [],
            "_model_module": "@jupyter-widgets/controls",
            "_model_module_version": "1.5.0",
            "_model_name": "HBoxModel",
            "_view_count": null,
            "_view_module": "@jupyter-widgets/controls",
            "_view_module_version": "1.5.0",
            "_view_name": "HBoxView",
            "box_style": "",
            "children": [
              "IPY_MODEL_e6eb6846793b4009ac5697b9ce9a5280",
              "IPY_MODEL_71fe202d17614cfbb94727a54cbbd757",
              "IPY_MODEL_edaefbd76fa049f482a2487a40fa7fb2"
            ],
            "layout": "IPY_MODEL_7227b4fc74ac4aa08a04d2b5962f8513"
          }
        },
        "e6eb6846793b4009ac5697b9ce9a5280": {
          "model_module": "@jupyter-widgets/controls",
          "model_name": "HTMLModel",
          "model_module_version": "1.5.0",
          "state": {
            "_dom_classes": [],
            "_model_module": "@jupyter-widgets/controls",
            "_model_module_version": "1.5.0",
            "_model_name": "HTMLModel",
            "_view_count": null,
            "_view_module": "@jupyter-widgets/controls",
            "_view_module_version": "1.5.0",
            "_view_name": "HTMLView",
            "description": "",
            "description_tooltip": null,
            "layout": "IPY_MODEL_3e2abcc70b714e2a9af4b8d3e27e7a63",
            "placeholder": "​",
            "style": "IPY_MODEL_3b1161b90d0f4dd3a832990cdcacadad",
            "value": "100%"
          }
        },
        "71fe202d17614cfbb94727a54cbbd757": {
          "model_module": "@jupyter-widgets/controls",
          "model_name": "FloatProgressModel",
          "model_module_version": "1.5.0",
          "state": {
            "_dom_classes": [],
            "_model_module": "@jupyter-widgets/controls",
            "_model_module_version": "1.5.0",
            "_model_name": "FloatProgressModel",
            "_view_count": null,
            "_view_module": "@jupyter-widgets/controls",
            "_view_module_version": "1.5.0",
            "_view_name": "ProgressView",
            "bar_style": "success",
            "description": "",
            "description_tooltip": null,
            "layout": "IPY_MODEL_72513e0ad31c4ee0accc065aedf75ace",
            "max": 120,
            "min": 0,
            "orientation": "horizontal",
            "style": "IPY_MODEL_89556c0429764941a880de51024d081c",
            "value": 120
          }
        },
        "edaefbd76fa049f482a2487a40fa7fb2": {
          "model_module": "@jupyter-widgets/controls",
          "model_name": "HTMLModel",
          "model_module_version": "1.5.0",
          "state": {
            "_dom_classes": [],
            "_model_module": "@jupyter-widgets/controls",
            "_model_module_version": "1.5.0",
            "_model_name": "HTMLModel",
            "_view_count": null,
            "_view_module": "@jupyter-widgets/controls",
            "_view_module_version": "1.5.0",
            "_view_name": "HTMLView",
            "description": "",
            "description_tooltip": null,
            "layout": "IPY_MODEL_2e88f67bbe0d4d058cbd7de574573189",
            "placeholder": "​",
            "style": "IPY_MODEL_1ba5eb69d5f943748aac98dba9410ae0",
            "value": " 120/120 [04:32&lt;00:00,  1.98s/it]"
          }
        },
        "7227b4fc74ac4aa08a04d2b5962f8513": {
          "model_module": "@jupyter-widgets/base",
          "model_name": "LayoutModel",
          "model_module_version": "1.2.0",
          "state": {
            "_model_module": "@jupyter-widgets/base",
            "_model_module_version": "1.2.0",
            "_model_name": "LayoutModel",
            "_view_count": null,
            "_view_module": "@jupyter-widgets/base",
            "_view_module_version": "1.2.0",
            "_view_name": "LayoutView",
            "align_content": null,
            "align_items": null,
            "align_self": null,
            "border": null,
            "bottom": null,
            "display": null,
            "flex": null,
            "flex_flow": null,
            "grid_area": null,
            "grid_auto_columns": null,
            "grid_auto_flow": null,
            "grid_auto_rows": null,
            "grid_column": null,
            "grid_gap": null,
            "grid_row": null,
            "grid_template_areas": null,
            "grid_template_columns": null,
            "grid_template_rows": null,
            "height": null,
            "justify_content": null,
            "justify_items": null,
            "left": null,
            "margin": null,
            "max_height": null,
            "max_width": null,
            "min_height": null,
            "min_width": null,
            "object_fit": null,
            "object_position": null,
            "order": null,
            "overflow": null,
            "overflow_x": null,
            "overflow_y": null,
            "padding": null,
            "right": null,
            "top": null,
            "visibility": null,
            "width": null
          }
        },
        "3e2abcc70b714e2a9af4b8d3e27e7a63": {
          "model_module": "@jupyter-widgets/base",
          "model_name": "LayoutModel",
          "model_module_version": "1.2.0",
          "state": {
            "_model_module": "@jupyter-widgets/base",
            "_model_module_version": "1.2.0",
            "_model_name": "LayoutModel",
            "_view_count": null,
            "_view_module": "@jupyter-widgets/base",
            "_view_module_version": "1.2.0",
            "_view_name": "LayoutView",
            "align_content": null,
            "align_items": null,
            "align_self": null,
            "border": null,
            "bottom": null,
            "display": null,
            "flex": null,
            "flex_flow": null,
            "grid_area": null,
            "grid_auto_columns": null,
            "grid_auto_flow": null,
            "grid_auto_rows": null,
            "grid_column": null,
            "grid_gap": null,
            "grid_row": null,
            "grid_template_areas": null,
            "grid_template_columns": null,
            "grid_template_rows": null,
            "height": null,
            "justify_content": null,
            "justify_items": null,
            "left": null,
            "margin": null,
            "max_height": null,
            "max_width": null,
            "min_height": null,
            "min_width": null,
            "object_fit": null,
            "object_position": null,
            "order": null,
            "overflow": null,
            "overflow_x": null,
            "overflow_y": null,
            "padding": null,
            "right": null,
            "top": null,
            "visibility": null,
            "width": null
          }
        },
        "3b1161b90d0f4dd3a832990cdcacadad": {
          "model_module": "@jupyter-widgets/controls",
          "model_name": "DescriptionStyleModel",
          "model_module_version": "1.5.0",
          "state": {
            "_model_module": "@jupyter-widgets/controls",
            "_model_module_version": "1.5.0",
            "_model_name": "DescriptionStyleModel",
            "_view_count": null,
            "_view_module": "@jupyter-widgets/base",
            "_view_module_version": "1.2.0",
            "_view_name": "StyleView",
            "description_width": ""
          }
        },
        "72513e0ad31c4ee0accc065aedf75ace": {
          "model_module": "@jupyter-widgets/base",
          "model_name": "LayoutModel",
          "model_module_version": "1.2.0",
          "state": {
            "_model_module": "@jupyter-widgets/base",
            "_model_module_version": "1.2.0",
            "_model_name": "LayoutModel",
            "_view_count": null,
            "_view_module": "@jupyter-widgets/base",
            "_view_module_version": "1.2.0",
            "_view_name": "LayoutView",
            "align_content": null,
            "align_items": null,
            "align_self": null,
            "border": null,
            "bottom": null,
            "display": null,
            "flex": null,
            "flex_flow": null,
            "grid_area": null,
            "grid_auto_columns": null,
            "grid_auto_flow": null,
            "grid_auto_rows": null,
            "grid_column": null,
            "grid_gap": null,
            "grid_row": null,
            "grid_template_areas": null,
            "grid_template_columns": null,
            "grid_template_rows": null,
            "height": null,
            "justify_content": null,
            "justify_items": null,
            "left": null,
            "margin": null,
            "max_height": null,
            "max_width": null,
            "min_height": null,
            "min_width": null,
            "object_fit": null,
            "object_position": null,
            "order": null,
            "overflow": null,
            "overflow_x": null,
            "overflow_y": null,
            "padding": null,
            "right": null,
            "top": null,
            "visibility": null,
            "width": null
          }
        },
        "89556c0429764941a880de51024d081c": {
          "model_module": "@jupyter-widgets/controls",
          "model_name": "ProgressStyleModel",
          "model_module_version": "1.5.0",
          "state": {
            "_model_module": "@jupyter-widgets/controls",
            "_model_module_version": "1.5.0",
            "_model_name": "ProgressStyleModel",
            "_view_count": null,
            "_view_module": "@jupyter-widgets/base",
            "_view_module_version": "1.2.0",
            "_view_name": "StyleView",
            "bar_color": null,
            "description_width": ""
          }
        },
        "2e88f67bbe0d4d058cbd7de574573189": {
          "model_module": "@jupyter-widgets/base",
          "model_name": "LayoutModel",
          "model_module_version": "1.2.0",
          "state": {
            "_model_module": "@jupyter-widgets/base",
            "_model_module_version": "1.2.0",
            "_model_name": "LayoutModel",
            "_view_count": null,
            "_view_module": "@jupyter-widgets/base",
            "_view_module_version": "1.2.0",
            "_view_name": "LayoutView",
            "align_content": null,
            "align_items": null,
            "align_self": null,
            "border": null,
            "bottom": null,
            "display": null,
            "flex": null,
            "flex_flow": null,
            "grid_area": null,
            "grid_auto_columns": null,
            "grid_auto_flow": null,
            "grid_auto_rows": null,
            "grid_column": null,
            "grid_gap": null,
            "grid_row": null,
            "grid_template_areas": null,
            "grid_template_columns": null,
            "grid_template_rows": null,
            "height": null,
            "justify_content": null,
            "justify_items": null,
            "left": null,
            "margin": null,
            "max_height": null,
            "max_width": null,
            "min_height": null,
            "min_width": null,
            "object_fit": null,
            "object_position": null,
            "order": null,
            "overflow": null,
            "overflow_x": null,
            "overflow_y": null,
            "padding": null,
            "right": null,
            "top": null,
            "visibility": null,
            "width": null
          }
        },
        "1ba5eb69d5f943748aac98dba9410ae0": {
          "model_module": "@jupyter-widgets/controls",
          "model_name": "DescriptionStyleModel",
          "model_module_version": "1.5.0",
          "state": {
            "_model_module": "@jupyter-widgets/controls",
            "_model_module_version": "1.5.0",
            "_model_name": "DescriptionStyleModel",
            "_view_count": null,
            "_view_module": "@jupyter-widgets/base",
            "_view_module_version": "1.2.0",
            "_view_name": "StyleView",
            "description_width": ""
          }
        },
        "77b64d0d14a04c73ad9f9d137634a410": {
          "model_module": "@jupyter-widgets/controls",
          "model_name": "HBoxModel",
          "model_module_version": "1.5.0",
          "state": {
            "_dom_classes": [],
            "_model_module": "@jupyter-widgets/controls",
            "_model_module_version": "1.5.0",
            "_model_name": "HBoxModel",
            "_view_count": null,
            "_view_module": "@jupyter-widgets/controls",
            "_view_module_version": "1.5.0",
            "_view_name": "HBoxView",
            "box_style": "",
            "children": [
              "IPY_MODEL_3c9f69506efb4babb98d279cd57b6acc",
              "IPY_MODEL_f84fd02642b34b62adfb274080630b06",
              "IPY_MODEL_41d397e32ef04751b83e92adbbd519e5"
            ],
            "layout": "IPY_MODEL_b4734dc108664d1abd3763c929c00aab"
          }
        },
        "3c9f69506efb4babb98d279cd57b6acc": {
          "model_module": "@jupyter-widgets/controls",
          "model_name": "HTMLModel",
          "model_module_version": "1.5.0",
          "state": {
            "_dom_classes": [],
            "_model_module": "@jupyter-widgets/controls",
            "_model_module_version": "1.5.0",
            "_model_name": "HTMLModel",
            "_view_count": null,
            "_view_module": "@jupyter-widgets/controls",
            "_view_module_version": "1.5.0",
            "_view_name": "HTMLView",
            "description": "",
            "description_tooltip": null,
            "layout": "IPY_MODEL_3539797bebe742debd1bd9ed0d75f9b9",
            "placeholder": "​",
            "style": "IPY_MODEL_1f0c95296cae443d956fef2fc2296e45",
            "value": "tokenizing: 100%"
          }
        },
        "f84fd02642b34b62adfb274080630b06": {
          "model_module": "@jupyter-widgets/controls",
          "model_name": "FloatProgressModel",
          "model_module_version": "1.5.0",
          "state": {
            "_dom_classes": [],
            "_model_module": "@jupyter-widgets/controls",
            "_model_module_version": "1.5.0",
            "_model_name": "FloatProgressModel",
            "_view_count": null,
            "_view_module": "@jupyter-widgets/controls",
            "_view_module_version": "1.5.0",
            "_view_name": "ProgressView",
            "bar_style": "success",
            "description": "",
            "description_tooltip": null,
            "layout": "IPY_MODEL_531cabda9e8e43dfa330f520638ff4b9",
            "max": 996,
            "min": 0,
            "orientation": "horizontal",
            "style": "IPY_MODEL_e7f0fff6184b426bafc6bec43fb1e019",
            "value": 996
          }
        },
        "41d397e32ef04751b83e92adbbd519e5": {
          "model_module": "@jupyter-widgets/controls",
          "model_name": "HTMLModel",
          "model_module_version": "1.5.0",
          "state": {
            "_dom_classes": [],
            "_model_module": "@jupyter-widgets/controls",
            "_model_module_version": "1.5.0",
            "_model_name": "HTMLModel",
            "_view_count": null,
            "_view_module": "@jupyter-widgets/controls",
            "_view_module_version": "1.5.0",
            "_view_name": "HTMLView",
            "description": "",
            "description_tooltip": null,
            "layout": "IPY_MODEL_6ca11c33e6d74d1ba5dfe24559416ba8",
            "placeholder": "​",
            "style": "IPY_MODEL_e910b89a67854f88ae99d3a5e987f6dd",
            "value": " 996/996 [00:00&lt;00:00, 2550.22it/s]"
          }
        },
        "b4734dc108664d1abd3763c929c00aab": {
          "model_module": "@jupyter-widgets/base",
          "model_name": "LayoutModel",
          "model_module_version": "1.2.0",
          "state": {
            "_model_module": "@jupyter-widgets/base",
            "_model_module_version": "1.2.0",
            "_model_name": "LayoutModel",
            "_view_count": null,
            "_view_module": "@jupyter-widgets/base",
            "_view_module_version": "1.2.0",
            "_view_name": "LayoutView",
            "align_content": null,
            "align_items": null,
            "align_self": null,
            "border": null,
            "bottom": null,
            "display": null,
            "flex": null,
            "flex_flow": null,
            "grid_area": null,
            "grid_auto_columns": null,
            "grid_auto_flow": null,
            "grid_auto_rows": null,
            "grid_column": null,
            "grid_gap": null,
            "grid_row": null,
            "grid_template_areas": null,
            "grid_template_columns": null,
            "grid_template_rows": null,
            "height": null,
            "justify_content": null,
            "justify_items": null,
            "left": null,
            "margin": null,
            "max_height": null,
            "max_width": null,
            "min_height": null,
            "min_width": null,
            "object_fit": null,
            "object_position": null,
            "order": null,
            "overflow": null,
            "overflow_x": null,
            "overflow_y": null,
            "padding": null,
            "right": null,
            "top": null,
            "visibility": null,
            "width": null
          }
        },
        "3539797bebe742debd1bd9ed0d75f9b9": {
          "model_module": "@jupyter-widgets/base",
          "model_name": "LayoutModel",
          "model_module_version": "1.2.0",
          "state": {
            "_model_module": "@jupyter-widgets/base",
            "_model_module_version": "1.2.0",
            "_model_name": "LayoutModel",
            "_view_count": null,
            "_view_module": "@jupyter-widgets/base",
            "_view_module_version": "1.2.0",
            "_view_name": "LayoutView",
            "align_content": null,
            "align_items": null,
            "align_self": null,
            "border": null,
            "bottom": null,
            "display": null,
            "flex": null,
            "flex_flow": null,
            "grid_area": null,
            "grid_auto_columns": null,
            "grid_auto_flow": null,
            "grid_auto_rows": null,
            "grid_column": null,
            "grid_gap": null,
            "grid_row": null,
            "grid_template_areas": null,
            "grid_template_columns": null,
            "grid_template_rows": null,
            "height": null,
            "justify_content": null,
            "justify_items": null,
            "left": null,
            "margin": null,
            "max_height": null,
            "max_width": null,
            "min_height": null,
            "min_width": null,
            "object_fit": null,
            "object_position": null,
            "order": null,
            "overflow": null,
            "overflow_x": null,
            "overflow_y": null,
            "padding": null,
            "right": null,
            "top": null,
            "visibility": null,
            "width": null
          }
        },
        "1f0c95296cae443d956fef2fc2296e45": {
          "model_module": "@jupyter-widgets/controls",
          "model_name": "DescriptionStyleModel",
          "model_module_version": "1.5.0",
          "state": {
            "_model_module": "@jupyter-widgets/controls",
            "_model_module_version": "1.5.0",
            "_model_name": "DescriptionStyleModel",
            "_view_count": null,
            "_view_module": "@jupyter-widgets/base",
            "_view_module_version": "1.2.0",
            "_view_name": "StyleView",
            "description_width": ""
          }
        },
        "531cabda9e8e43dfa330f520638ff4b9": {
          "model_module": "@jupyter-widgets/base",
          "model_name": "LayoutModel",
          "model_module_version": "1.2.0",
          "state": {
            "_model_module": "@jupyter-widgets/base",
            "_model_module_version": "1.2.0",
            "_model_name": "LayoutModel",
            "_view_count": null,
            "_view_module": "@jupyter-widgets/base",
            "_view_module_version": "1.2.0",
            "_view_name": "LayoutView",
            "align_content": null,
            "align_items": null,
            "align_self": null,
            "border": null,
            "bottom": null,
            "display": null,
            "flex": null,
            "flex_flow": null,
            "grid_area": null,
            "grid_auto_columns": null,
            "grid_auto_flow": null,
            "grid_auto_rows": null,
            "grid_column": null,
            "grid_gap": null,
            "grid_row": null,
            "grid_template_areas": null,
            "grid_template_columns": null,
            "grid_template_rows": null,
            "height": null,
            "justify_content": null,
            "justify_items": null,
            "left": null,
            "margin": null,
            "max_height": null,
            "max_width": null,
            "min_height": null,
            "min_width": null,
            "object_fit": null,
            "object_position": null,
            "order": null,
            "overflow": null,
            "overflow_x": null,
            "overflow_y": null,
            "padding": null,
            "right": null,
            "top": null,
            "visibility": null,
            "width": null
          }
        },
        "e7f0fff6184b426bafc6bec43fb1e019": {
          "model_module": "@jupyter-widgets/controls",
          "model_name": "ProgressStyleModel",
          "model_module_version": "1.5.0",
          "state": {
            "_model_module": "@jupyter-widgets/controls",
            "_model_module_version": "1.5.0",
            "_model_name": "ProgressStyleModel",
            "_view_count": null,
            "_view_module": "@jupyter-widgets/base",
            "_view_module_version": "1.2.0",
            "_view_name": "StyleView",
            "bar_color": null,
            "description_width": ""
          }
        },
        "6ca11c33e6d74d1ba5dfe24559416ba8": {
          "model_module": "@jupyter-widgets/base",
          "model_name": "LayoutModel",
          "model_module_version": "1.2.0",
          "state": {
            "_model_module": "@jupyter-widgets/base",
            "_model_module_version": "1.2.0",
            "_model_name": "LayoutModel",
            "_view_count": null,
            "_view_module": "@jupyter-widgets/base",
            "_view_module_version": "1.2.0",
            "_view_name": "LayoutView",
            "align_content": null,
            "align_items": null,
            "align_self": null,
            "border": null,
            "bottom": null,
            "display": null,
            "flex": null,
            "flex_flow": null,
            "grid_area": null,
            "grid_auto_columns": null,
            "grid_auto_flow": null,
            "grid_auto_rows": null,
            "grid_column": null,
            "grid_gap": null,
            "grid_row": null,
            "grid_template_areas": null,
            "grid_template_columns": null,
            "grid_template_rows": null,
            "height": null,
            "justify_content": null,
            "justify_items": null,
            "left": null,
            "margin": null,
            "max_height": null,
            "max_width": null,
            "min_height": null,
            "min_width": null,
            "object_fit": null,
            "object_position": null,
            "order": null,
            "overflow": null,
            "overflow_x": null,
            "overflow_y": null,
            "padding": null,
            "right": null,
            "top": null,
            "visibility": null,
            "width": null
          }
        },
        "e910b89a67854f88ae99d3a5e987f6dd": {
          "model_module": "@jupyter-widgets/controls",
          "model_name": "DescriptionStyleModel",
          "model_module_version": "1.5.0",
          "state": {
            "_model_module": "@jupyter-widgets/controls",
            "_model_module_version": "1.5.0",
            "_model_name": "DescriptionStyleModel",
            "_view_count": null,
            "_view_module": "@jupyter-widgets/base",
            "_view_module_version": "1.2.0",
            "_view_name": "StyleView",
            "description_width": ""
          }
        },
        "c0497e3116af4db895129bb90551a500": {
          "model_module": "@jupyter-widgets/controls",
          "model_name": "HBoxModel",
          "model_module_version": "1.5.0",
          "state": {
            "_dom_classes": [],
            "_model_module": "@jupyter-widgets/controls",
            "_model_module_version": "1.5.0",
            "_model_name": "HBoxModel",
            "_view_count": null,
            "_view_module": "@jupyter-widgets/controls",
            "_view_module_version": "1.5.0",
            "_view_name": "HBoxView",
            "box_style": "",
            "children": [
              "IPY_MODEL_bbfe66389a3443c78f8388bfda38cb4f",
              "IPY_MODEL_0e765650c14d4cbea8d5a18daca98ae6",
              "IPY_MODEL_eb4830bc82d94dbcb3a3bded57164e09"
            ],
            "layout": "IPY_MODEL_e9de5c391953475b98a5ca0deb936ad1"
          }
        },
        "bbfe66389a3443c78f8388bfda38cb4f": {
          "model_module": "@jupyter-widgets/controls",
          "model_name": "HTMLModel",
          "model_module_version": "1.5.0",
          "state": {
            "_dom_classes": [],
            "_model_module": "@jupyter-widgets/controls",
            "_model_module_version": "1.5.0",
            "_model_name": "HTMLModel",
            "_view_count": null,
            "_view_module": "@jupyter-widgets/controls",
            "_view_module_version": "1.5.0",
            "_view_name": "HTMLView",
            "description": "",
            "description_tooltip": null,
            "layout": "IPY_MODEL_1211a87c771e4550a32cef93926b7e7a",
            "placeholder": "​",
            "style": "IPY_MODEL_baf7b1f37b8f46d8bb4a06837682d16c",
            "value": "100%"
          }
        },
        "0e765650c14d4cbea8d5a18daca98ae6": {
          "model_module": "@jupyter-widgets/controls",
          "model_name": "FloatProgressModel",
          "model_module_version": "1.5.0",
          "state": {
            "_dom_classes": [],
            "_model_module": "@jupyter-widgets/controls",
            "_model_module_version": "1.5.0",
            "_model_name": "FloatProgressModel",
            "_view_count": null,
            "_view_module": "@jupyter-widgets/controls",
            "_view_module_version": "1.5.0",
            "_view_name": "ProgressView",
            "bar_style": "success",
            "description": "",
            "description_tooltip": null,
            "layout": "IPY_MODEL_e8d3ae26d7744ad5815d1c499e2b1445",
            "max": 8,
            "min": 0,
            "orientation": "horizontal",
            "style": "IPY_MODEL_43fd6daaadb7473ebcfe00589442b9a3",
            "value": 8
          }
        },
        "eb4830bc82d94dbcb3a3bded57164e09": {
          "model_module": "@jupyter-widgets/controls",
          "model_name": "HTMLModel",
          "model_module_version": "1.5.0",
          "state": {
            "_dom_classes": [],
            "_model_module": "@jupyter-widgets/controls",
            "_model_module_version": "1.5.0",
            "_model_name": "HTMLModel",
            "_view_count": null,
            "_view_module": "@jupyter-widgets/controls",
            "_view_module_version": "1.5.0",
            "_view_name": "HTMLView",
            "description": "",
            "description_tooltip": null,
            "layout": "IPY_MODEL_d134df3e1c3e4dff837bfbc85ae990f0",
            "placeholder": "​",
            "style": "IPY_MODEL_17ec7ce4b30441cab1dfdaa92d06f20c",
            "value": " 8/8 [00:49&lt;00:00,  6.17s/it]"
          }
        },
        "e9de5c391953475b98a5ca0deb936ad1": {
          "model_module": "@jupyter-widgets/base",
          "model_name": "LayoutModel",
          "model_module_version": "1.2.0",
          "state": {
            "_model_module": "@jupyter-widgets/base",
            "_model_module_version": "1.2.0",
            "_model_name": "LayoutModel",
            "_view_count": null,
            "_view_module": "@jupyter-widgets/base",
            "_view_module_version": "1.2.0",
            "_view_name": "LayoutView",
            "align_content": null,
            "align_items": null,
            "align_self": null,
            "border": null,
            "bottom": null,
            "display": null,
            "flex": null,
            "flex_flow": null,
            "grid_area": null,
            "grid_auto_columns": null,
            "grid_auto_flow": null,
            "grid_auto_rows": null,
            "grid_column": null,
            "grid_gap": null,
            "grid_row": null,
            "grid_template_areas": null,
            "grid_template_columns": null,
            "grid_template_rows": null,
            "height": null,
            "justify_content": null,
            "justify_items": null,
            "left": null,
            "margin": null,
            "max_height": null,
            "max_width": null,
            "min_height": null,
            "min_width": null,
            "object_fit": null,
            "object_position": null,
            "order": null,
            "overflow": null,
            "overflow_x": null,
            "overflow_y": null,
            "padding": null,
            "right": null,
            "top": null,
            "visibility": null,
            "width": null
          }
        },
        "1211a87c771e4550a32cef93926b7e7a": {
          "model_module": "@jupyter-widgets/base",
          "model_name": "LayoutModel",
          "model_module_version": "1.2.0",
          "state": {
            "_model_module": "@jupyter-widgets/base",
            "_model_module_version": "1.2.0",
            "_model_name": "LayoutModel",
            "_view_count": null,
            "_view_module": "@jupyter-widgets/base",
            "_view_module_version": "1.2.0",
            "_view_name": "LayoutView",
            "align_content": null,
            "align_items": null,
            "align_self": null,
            "border": null,
            "bottom": null,
            "display": null,
            "flex": null,
            "flex_flow": null,
            "grid_area": null,
            "grid_auto_columns": null,
            "grid_auto_flow": null,
            "grid_auto_rows": null,
            "grid_column": null,
            "grid_gap": null,
            "grid_row": null,
            "grid_template_areas": null,
            "grid_template_columns": null,
            "grid_template_rows": null,
            "height": null,
            "justify_content": null,
            "justify_items": null,
            "left": null,
            "margin": null,
            "max_height": null,
            "max_width": null,
            "min_height": null,
            "min_width": null,
            "object_fit": null,
            "object_position": null,
            "order": null,
            "overflow": null,
            "overflow_x": null,
            "overflow_y": null,
            "padding": null,
            "right": null,
            "top": null,
            "visibility": null,
            "width": null
          }
        },
        "baf7b1f37b8f46d8bb4a06837682d16c": {
          "model_module": "@jupyter-widgets/controls",
          "model_name": "DescriptionStyleModel",
          "model_module_version": "1.5.0",
          "state": {
            "_model_module": "@jupyter-widgets/controls",
            "_model_module_version": "1.5.0",
            "_model_name": "DescriptionStyleModel",
            "_view_count": null,
            "_view_module": "@jupyter-widgets/base",
            "_view_module_version": "1.2.0",
            "_view_name": "StyleView",
            "description_width": ""
          }
        },
        "e8d3ae26d7744ad5815d1c499e2b1445": {
          "model_module": "@jupyter-widgets/base",
          "model_name": "LayoutModel",
          "model_module_version": "1.2.0",
          "state": {
            "_model_module": "@jupyter-widgets/base",
            "_model_module_version": "1.2.0",
            "_model_name": "LayoutModel",
            "_view_count": null,
            "_view_module": "@jupyter-widgets/base",
            "_view_module_version": "1.2.0",
            "_view_name": "LayoutView",
            "align_content": null,
            "align_items": null,
            "align_self": null,
            "border": null,
            "bottom": null,
            "display": null,
            "flex": null,
            "flex_flow": null,
            "grid_area": null,
            "grid_auto_columns": null,
            "grid_auto_flow": null,
            "grid_auto_rows": null,
            "grid_column": null,
            "grid_gap": null,
            "grid_row": null,
            "grid_template_areas": null,
            "grid_template_columns": null,
            "grid_template_rows": null,
            "height": null,
            "justify_content": null,
            "justify_items": null,
            "left": null,
            "margin": null,
            "max_height": null,
            "max_width": null,
            "min_height": null,
            "min_width": null,
            "object_fit": null,
            "object_position": null,
            "order": null,
            "overflow": null,
            "overflow_x": null,
            "overflow_y": null,
            "padding": null,
            "right": null,
            "top": null,
            "visibility": null,
            "width": null
          }
        },
        "43fd6daaadb7473ebcfe00589442b9a3": {
          "model_module": "@jupyter-widgets/controls",
          "model_name": "ProgressStyleModel",
          "model_module_version": "1.5.0",
          "state": {
            "_model_module": "@jupyter-widgets/controls",
            "_model_module_version": "1.5.0",
            "_model_name": "ProgressStyleModel",
            "_view_count": null,
            "_view_module": "@jupyter-widgets/base",
            "_view_module_version": "1.2.0",
            "_view_name": "StyleView",
            "bar_color": null,
            "description_width": ""
          }
        },
        "d134df3e1c3e4dff837bfbc85ae990f0": {
          "model_module": "@jupyter-widgets/base",
          "model_name": "LayoutModel",
          "model_module_version": "1.2.0",
          "state": {
            "_model_module": "@jupyter-widgets/base",
            "_model_module_version": "1.2.0",
            "_model_name": "LayoutModel",
            "_view_count": null,
            "_view_module": "@jupyter-widgets/base",
            "_view_module_version": "1.2.0",
            "_view_name": "LayoutView",
            "align_content": null,
            "align_items": null,
            "align_self": null,
            "border": null,
            "bottom": null,
            "display": null,
            "flex": null,
            "flex_flow": null,
            "grid_area": null,
            "grid_auto_columns": null,
            "grid_auto_flow": null,
            "grid_auto_rows": null,
            "grid_column": null,
            "grid_gap": null,
            "grid_row": null,
            "grid_template_areas": null,
            "grid_template_columns": null,
            "grid_template_rows": null,
            "height": null,
            "justify_content": null,
            "justify_items": null,
            "left": null,
            "margin": null,
            "max_height": null,
            "max_width": null,
            "min_height": null,
            "min_width": null,
            "object_fit": null,
            "object_position": null,
            "order": null,
            "overflow": null,
            "overflow_x": null,
            "overflow_y": null,
            "padding": null,
            "right": null,
            "top": null,
            "visibility": null,
            "width": null
          }
        },
        "17ec7ce4b30441cab1dfdaa92d06f20c": {
          "model_module": "@jupyter-widgets/controls",
          "model_name": "DescriptionStyleModel",
          "model_module_version": "1.5.0",
          "state": {
            "_model_module": "@jupyter-widgets/controls",
            "_model_module_version": "1.5.0",
            "_model_name": "DescriptionStyleModel",
            "_view_count": null,
            "_view_module": "@jupyter-widgets/base",
            "_view_module_version": "1.2.0",
            "_view_name": "StyleView",
            "description_width": ""
          }
        },
        "94a51a7141e249a388b5b742279d1c8c": {
          "model_module": "@jupyter-widgets/controls",
          "model_name": "HBoxModel",
          "model_module_version": "1.5.0",
          "state": {
            "_dom_classes": [],
            "_model_module": "@jupyter-widgets/controls",
            "_model_module_version": "1.5.0",
            "_model_name": "HBoxModel",
            "_view_count": null,
            "_view_module": "@jupyter-widgets/controls",
            "_view_module_version": "1.5.0",
            "_view_name": "HBoxView",
            "box_style": "",
            "children": [
              "IPY_MODEL_3cb4b705bd3e400e8f784e725a18c4b6",
              "IPY_MODEL_af3965d1623d4b86844fdff37add7c3e",
              "IPY_MODEL_b6a8ac572c394f3b9a3d7049088aa944"
            ],
            "layout": "IPY_MODEL_a7171969e65a4457a755b4f17701f099"
          }
        },
        "3cb4b705bd3e400e8f784e725a18c4b6": {
          "model_module": "@jupyter-widgets/controls",
          "model_name": "HTMLModel",
          "model_module_version": "1.5.0",
          "state": {
            "_dom_classes": [],
            "_model_module": "@jupyter-widgets/controls",
            "_model_module_version": "1.5.0",
            "_model_name": "HTMLModel",
            "_view_count": null,
            "_view_module": "@jupyter-widgets/controls",
            "_view_module_version": "1.5.0",
            "_view_name": "HTMLView",
            "description": "",
            "description_tooltip": null,
            "layout": "IPY_MODEL_2462bc79be634f33813edb1fbeee1a47",
            "placeholder": "​",
            "style": "IPY_MODEL_73bb4657f03f42848cf89f3e8e89706b",
            "value": "tokenizing: 100%"
          }
        },
        "af3965d1623d4b86844fdff37add7c3e": {
          "model_module": "@jupyter-widgets/controls",
          "model_name": "FloatProgressModel",
          "model_module_version": "1.5.0",
          "state": {
            "_dom_classes": [],
            "_model_module": "@jupyter-widgets/controls",
            "_model_module_version": "1.5.0",
            "_model_name": "FloatProgressModel",
            "_view_count": null,
            "_view_module": "@jupyter-widgets/controls",
            "_view_module_version": "1.5.0",
            "_view_name": "ProgressView",
            "bar_style": "success",
            "description": "",
            "description_tooltip": null,
            "layout": "IPY_MODEL_acd279eb64354237901e9564e38e266b",
            "max": 25976,
            "min": 0,
            "orientation": "horizontal",
            "style": "IPY_MODEL_2c78682c2d6c4ffda0793871c18bcf1a",
            "value": 25976
          }
        },
        "b6a8ac572c394f3b9a3d7049088aa944": {
          "model_module": "@jupyter-widgets/controls",
          "model_name": "HTMLModel",
          "model_module_version": "1.5.0",
          "state": {
            "_dom_classes": [],
            "_model_module": "@jupyter-widgets/controls",
            "_model_module_version": "1.5.0",
            "_model_name": "HTMLModel",
            "_view_count": null,
            "_view_module": "@jupyter-widgets/controls",
            "_view_module_version": "1.5.0",
            "_view_name": "HTMLView",
            "description": "",
            "description_tooltip": null,
            "layout": "IPY_MODEL_5ea45084097b4d4db5e3eb78786646a4",
            "placeholder": "​",
            "style": "IPY_MODEL_ad02186cf5d24a1182b07b6fbaa959e4",
            "value": " 25976/25976 [00:07&lt;00:00, 3640.76it/s]"
          }
        },
        "a7171969e65a4457a755b4f17701f099": {
          "model_module": "@jupyter-widgets/base",
          "model_name": "LayoutModel",
          "model_module_version": "1.2.0",
          "state": {
            "_model_module": "@jupyter-widgets/base",
            "_model_module_version": "1.2.0",
            "_model_name": "LayoutModel",
            "_view_count": null,
            "_view_module": "@jupyter-widgets/base",
            "_view_module_version": "1.2.0",
            "_view_name": "LayoutView",
            "align_content": null,
            "align_items": null,
            "align_self": null,
            "border": null,
            "bottom": null,
            "display": null,
            "flex": null,
            "flex_flow": null,
            "grid_area": null,
            "grid_auto_columns": null,
            "grid_auto_flow": null,
            "grid_auto_rows": null,
            "grid_column": null,
            "grid_gap": null,
            "grid_row": null,
            "grid_template_areas": null,
            "grid_template_columns": null,
            "grid_template_rows": null,
            "height": null,
            "justify_content": null,
            "justify_items": null,
            "left": null,
            "margin": null,
            "max_height": null,
            "max_width": null,
            "min_height": null,
            "min_width": null,
            "object_fit": null,
            "object_position": null,
            "order": null,
            "overflow": null,
            "overflow_x": null,
            "overflow_y": null,
            "padding": null,
            "right": null,
            "top": null,
            "visibility": null,
            "width": null
          }
        },
        "2462bc79be634f33813edb1fbeee1a47": {
          "model_module": "@jupyter-widgets/base",
          "model_name": "LayoutModel",
          "model_module_version": "1.2.0",
          "state": {
            "_model_module": "@jupyter-widgets/base",
            "_model_module_version": "1.2.0",
            "_model_name": "LayoutModel",
            "_view_count": null,
            "_view_module": "@jupyter-widgets/base",
            "_view_module_version": "1.2.0",
            "_view_name": "LayoutView",
            "align_content": null,
            "align_items": null,
            "align_self": null,
            "border": null,
            "bottom": null,
            "display": null,
            "flex": null,
            "flex_flow": null,
            "grid_area": null,
            "grid_auto_columns": null,
            "grid_auto_flow": null,
            "grid_auto_rows": null,
            "grid_column": null,
            "grid_gap": null,
            "grid_row": null,
            "grid_template_areas": null,
            "grid_template_columns": null,
            "grid_template_rows": null,
            "height": null,
            "justify_content": null,
            "justify_items": null,
            "left": null,
            "margin": null,
            "max_height": null,
            "max_width": null,
            "min_height": null,
            "min_width": null,
            "object_fit": null,
            "object_position": null,
            "order": null,
            "overflow": null,
            "overflow_x": null,
            "overflow_y": null,
            "padding": null,
            "right": null,
            "top": null,
            "visibility": null,
            "width": null
          }
        },
        "73bb4657f03f42848cf89f3e8e89706b": {
          "model_module": "@jupyter-widgets/controls",
          "model_name": "DescriptionStyleModel",
          "model_module_version": "1.5.0",
          "state": {
            "_model_module": "@jupyter-widgets/controls",
            "_model_module_version": "1.5.0",
            "_model_name": "DescriptionStyleModel",
            "_view_count": null,
            "_view_module": "@jupyter-widgets/base",
            "_view_module_version": "1.2.0",
            "_view_name": "StyleView",
            "description_width": ""
          }
        },
        "acd279eb64354237901e9564e38e266b": {
          "model_module": "@jupyter-widgets/base",
          "model_name": "LayoutModel",
          "model_module_version": "1.2.0",
          "state": {
            "_model_module": "@jupyter-widgets/base",
            "_model_module_version": "1.2.0",
            "_model_name": "LayoutModel",
            "_view_count": null,
            "_view_module": "@jupyter-widgets/base",
            "_view_module_version": "1.2.0",
            "_view_name": "LayoutView",
            "align_content": null,
            "align_items": null,
            "align_self": null,
            "border": null,
            "bottom": null,
            "display": null,
            "flex": null,
            "flex_flow": null,
            "grid_area": null,
            "grid_auto_columns": null,
            "grid_auto_flow": null,
            "grid_auto_rows": null,
            "grid_column": null,
            "grid_gap": null,
            "grid_row": null,
            "grid_template_areas": null,
            "grid_template_columns": null,
            "grid_template_rows": null,
            "height": null,
            "justify_content": null,
            "justify_items": null,
            "left": null,
            "margin": null,
            "max_height": null,
            "max_width": null,
            "min_height": null,
            "min_width": null,
            "object_fit": null,
            "object_position": null,
            "order": null,
            "overflow": null,
            "overflow_x": null,
            "overflow_y": null,
            "padding": null,
            "right": null,
            "top": null,
            "visibility": null,
            "width": null
          }
        },
        "2c78682c2d6c4ffda0793871c18bcf1a": {
          "model_module": "@jupyter-widgets/controls",
          "model_name": "ProgressStyleModel",
          "model_module_version": "1.5.0",
          "state": {
            "_model_module": "@jupyter-widgets/controls",
            "_model_module_version": "1.5.0",
            "_model_name": "ProgressStyleModel",
            "_view_count": null,
            "_view_module": "@jupyter-widgets/base",
            "_view_module_version": "1.2.0",
            "_view_name": "StyleView",
            "bar_color": null,
            "description_width": ""
          }
        },
        "5ea45084097b4d4db5e3eb78786646a4": {
          "model_module": "@jupyter-widgets/base",
          "model_name": "LayoutModel",
          "model_module_version": "1.2.0",
          "state": {
            "_model_module": "@jupyter-widgets/base",
            "_model_module_version": "1.2.0",
            "_model_name": "LayoutModel",
            "_view_count": null,
            "_view_module": "@jupyter-widgets/base",
            "_view_module_version": "1.2.0",
            "_view_name": "LayoutView",
            "align_content": null,
            "align_items": null,
            "align_self": null,
            "border": null,
            "bottom": null,
            "display": null,
            "flex": null,
            "flex_flow": null,
            "grid_area": null,
            "grid_auto_columns": null,
            "grid_auto_flow": null,
            "grid_auto_rows": null,
            "grid_column": null,
            "grid_gap": null,
            "grid_row": null,
            "grid_template_areas": null,
            "grid_template_columns": null,
            "grid_template_rows": null,
            "height": null,
            "justify_content": null,
            "justify_items": null,
            "left": null,
            "margin": null,
            "max_height": null,
            "max_width": null,
            "min_height": null,
            "min_width": null,
            "object_fit": null,
            "object_position": null,
            "order": null,
            "overflow": null,
            "overflow_x": null,
            "overflow_y": null,
            "padding": null,
            "right": null,
            "top": null,
            "visibility": null,
            "width": null
          }
        },
        "ad02186cf5d24a1182b07b6fbaa959e4": {
          "model_module": "@jupyter-widgets/controls",
          "model_name": "DescriptionStyleModel",
          "model_module_version": "1.5.0",
          "state": {
            "_model_module": "@jupyter-widgets/controls",
            "_model_module_version": "1.5.0",
            "_model_name": "DescriptionStyleModel",
            "_view_count": null,
            "_view_module": "@jupyter-widgets/base",
            "_view_module_version": "1.2.0",
            "_view_name": "StyleView",
            "description_width": ""
          }
        }
      }
    }
  },
  "cells": [
    {
      "cell_type": "markdown",
      "source": [
        "# Data loader and package loader"
      ],
      "metadata": {
        "id": "mPuDqIzU8wTP"
      }
    },
    {
      "cell_type": "code",
      "execution_count": null,
      "metadata": {
        "id": "tGukfAg__dd1"
      },
      "outputs": [],
      "source": [
        "import torch\n",
        "from tqdm.auto import tqdm\n",
        "\n",
        "class GPT_Dataset(torch.utils.data.Dataset):\n",
        "    def __init__(self, dataset):\n",
        "        self.example = []\n",
        "\n",
        "        for each in dataset:\n",
        "            self.example.append({k: torch.tensor(v) for k, v in each.items()})\n",
        "\n",
        "    def __getitem__(self, idx):\n",
        "        return self.example[idx]\n",
        "\n",
        "    def __len__(self):\n",
        "        return len(self.example)"
      ]
    },
    {
      "cell_type": "code",
      "source": [
        "!pip install transformers --quiet"
      ],
      "metadata": {
        "id": "oj_r9pjb_yJ9",
        "colab": {
          "base_uri": "https://localhost:8080/"
        },
        "outputId": "a821f626-c697-40fa-8283-fbb53d380b85"
      },
      "execution_count": null,
      "outputs": [
        {
          "output_type": "stream",
          "name": "stdout",
          "text": [
            "\u001b[K     |████████████████████████████████| 5.8 MB 11.4 MB/s \n",
            "\u001b[K     |████████████████████████████████| 7.6 MB 69.4 MB/s \n",
            "\u001b[K     |████████████████████████████████| 182 kB 67.2 MB/s \n",
            "\u001b[?25h"
          ]
        }
      ]
    },
    {
      "cell_type": "code",
      "source": [
        "import pandas as pd\n",
        "import numpy as np"
      ],
      "metadata": {
        "id": "4Zg06BAI_zMU"
      },
      "execution_count": null,
      "outputs": []
    },
    {
      "cell_type": "code",
      "source": [
        "from google.colab import drive\n",
        "drive.mount('/content/drive')"
      ],
      "metadata": {
        "id": "xXc84FiQ_0MM",
        "colab": {
          "base_uri": "https://localhost:8080/"
        },
        "outputId": "6b6d3d60-ed70-41b0-9174-08c4295e229c"
      },
      "execution_count": null,
      "outputs": [
        {
          "output_type": "stream",
          "name": "stdout",
          "text": [
            "Mounted at /content/drive\n"
          ]
        }
      ]
    },
    {
      "cell_type": "code",
      "source": [
        "import torch\n",
        "from transformers import GPT2Config, GPT2LMHeadModel, PreTrainedTokenizerFast, DataCollatorWithPadding\n",
        "from torch.utils.data import DataLoader"
      ],
      "metadata": {
        "id": "MFJyEgwYGq40"
      },
      "execution_count": null,
      "outputs": []
    },
    {
      "cell_type": "markdown",
      "source": [
        "# GPT test"
      ],
      "metadata": {
        "id": "oafaNTsx85nC"
      }
    },
    {
      "cell_type": "code",
      "source": [
        "tokenizer = PreTrainedTokenizerFast.from_pretrained(\"skt/kogpt2-base-v2\",\n",
        "  bos_token='</s>', eos_token='</s>', unk_token='<unk>',\n",
        "  pad_token='<pad>', mask_token='<mask>', sep_token='<sep>')\n",
        "tokenizer.padding_side = 'left'\n",
        "\n",
        "model = GPT2LMHeadModel.from_pretrained('skt/kogpt2-base-v2')\n",
        "model.to('cuda')"
      ],
      "metadata": {
        "id": "wNHeDNi8ACLE"
      },
      "execution_count": null,
      "outputs": []
    },
    {
      "cell_type": "code",
      "source": [
        "train_df = pd.read_csv('/content/drive/MyDrive/level2_RE/train.csv',index_col=0)"
      ],
      "metadata": {
        "id": "-f1uEBGQoNgv"
      },
      "execution_count": null,
      "outputs": []
    },
    {
      "cell_type": "code",
      "source": [
        "# 문장을 생성하는 함수\n",
        "def get_gpt_output(input_sent):\n",
        "    input_ids = torch.tensor(tokenizer.encode(input_sent, add_special_tokens=True)).unsqueeze(0).to('cuda')\n",
        "\n",
        "    sample_outputs = model.generate(\n",
        "        input_ids,\n",
        "        do_sample=True, \n",
        "        max_length=120, \n",
        "        top_k=50, \n",
        "        top_p=0.95, \n",
        "        num_return_sequences=10,\n",
        "        eos_token_id=tokenizer.encode('</s>')[0],\n",
        "        no_repeat_ngram_size=2,\n",
        "        early_stopping=True\n",
        "    )\n",
        "    generated_sequence = sample_outputs[0].tolist()\n",
        "    return tokenizer.decode(generated_sequence, skip_special_tokens=True)"
      ],
      "metadata": {
        "id": "6xi_W-EeRzED"
      },
      "execution_count": null,
      "outputs": []
    },
    {
      "cell_type": "code",
      "source": [
        "# 예시 문장\n",
        "print(train_df.sentence.iloc[0])\n",
        "print(train_df.sentence.iloc[1])\n",
        "print(train_df.sentence.iloc[2])\n",
        "print(train_df.sentence.iloc[3])\n",
        "print(train_df.sentence.iloc[4])"
      ],
      "metadata": {
        "id": "DtSN6RMI39ts",
        "colab": {
          "base_uri": "https://localhost:8080/"
        },
        "outputId": "94011b7e-00d6-40f1-bc2e-1cf73dd78b78"
      },
      "execution_count": null,
      "outputs": [
        {
          "output_type": "stream",
          "name": "stdout",
          "text": [
            "〈Something〉는 조지 해리슨이 쓰고 비틀즈가 1969년 앨범 《Abbey Road》에 담은 노래다.\n",
            "K리그2에서 성적 1위를 달리고 있는 광주FC는 지난 26일 한국프로축구연맹으로부터 관중 유치 성과와 마케팅 성과를 인정받아 ‘풀 스타디움상’과 ‘플러스 스타디움상’을 수상했다.\n",
            "균일가 생활용품점 (주)아성다이소(대표 박정부)는 코로나19 바이러스로 어려움을 겪고 있는 대구광역시에 행복박스를 전달했다고 10일 밝혔다.\n",
            "1967년 프로 야구 드래프트 1순위로 요미우리 자이언츠에게 입단하면서 등번호는 8번으로 배정되었다.\n",
            ": 유엔, 유럽 의회, 북대서양 조약 기구 (NATO), 국제이주기구, 세계 보건 기구 (WHO), 지중해 연합, 이슬람 협력 기구, 유럽 안보 협력 기구, 국제 통화 기금, 세계무역기구 그리고 프랑코포니.\n"
          ]
        }
      ]
    },
    {
      "cell_type": "code",
      "source": [
        "print(train_df.subject_entity.iloc[0], train_df.object_entity.iloc[0])\n",
        "print(train_df.subject_entity.iloc[1], train_df.object_entity.iloc[1])\n",
        "print(train_df.subject_entity.iloc[2], train_df.object_entity.iloc[2])\n",
        "print(train_df.subject_entity.iloc[3], train_df.object_entity.iloc[3])\n",
        "print(train_df.subject_entity.iloc[4], train_df.object_entity.iloc[4])"
      ],
      "metadata": {
        "colab": {
          "base_uri": "https://localhost:8080/"
        },
        "id": "3T_1svGLUahl",
        "outputId": "511858e6-81e4-432a-ab02-2d8337278ab0"
      },
      "execution_count": null,
      "outputs": [
        {
          "output_type": "stream",
          "name": "stdout",
          "text": [
            "{'word': '비틀즈', 'start_idx': 24, 'end_idx': 26, 'type': 'ORG'} {'word': '조지 해리슨', 'start_idx': 13, 'end_idx': 18, 'type': 'PER'}\n",
            "{'word': '광주FC', 'start_idx': 21, 'end_idx': 24, 'type': 'ORG'} {'word': '한국프로축구연맹', 'start_idx': 34, 'end_idx': 41, 'type': 'ORG'}\n",
            "{'word': '아성다이소', 'start_idx': 13, 'end_idx': 17, 'type': 'ORG'} {'word': '박정부', 'start_idx': 22, 'end_idx': 24, 'type': 'PER'}\n",
            "{'word': '요미우리 자이언츠', 'start_idx': 22, 'end_idx': 30, 'type': 'ORG'} {'word': '1967', 'start_idx': 0, 'end_idx': 3, 'type': 'DAT'}\n",
            "{'word': '북대서양 조약 기구', 'start_idx': 13, 'end_idx': 22, 'type': 'ORG'} {'word': 'NATO', 'start_idx': 25, 'end_idx': 28, 'type': 'ORG'}\n"
          ]
        }
      ]
    },
    {
      "cell_type": "code",
      "source": [
        "print(get_gpt_output('</s>〈Something〉는 조지 해리슨이 쓰고 비틀즈'))\n",
        "print(get_gpt_output('</s>K리그2에서 성적 1위를 달리고 있는 광주FC는 지난 26일 한국프로축구연맹'))\n",
        "print(get_gpt_output('</s>균일가 생활용품점 (주)아성다이소(대표 박정부'))\n",
        "print(get_gpt_output('</s>1967년 프로 야구 드래프트 1순위로 요미우리 자이언츠'))\n",
        "print(get_gpt_output('</s>: 유엔, 유럽 의회, 북대서양 조약 기구 (NATO'))\n",
        "\n",
        "# pre-train 를 진행하기 이전에 ko/gpt2 만으로 문장을 생성한 결과.\n",
        "# 자연스러운 문장이 생성되기는 하지만 하나의 문장이 종료가 되고 다시 그닥 연관이 없는 문장이 계속 생성되는 것을 확인 할 수 있다."
      ],
      "metadata": {
        "id": "Brt7_b5CR_Ss",
        "colab": {
          "base_uri": "https://localhost:8080/"
        },
        "outputId": "6c4f2af3-e650-4cc0-89b1-77c6e91fef4a"
      },
      "execution_count": null,
      "outputs": [
        {
          "output_type": "stream",
          "name": "stdout",
          "text": [
            "〈Something〉는 조지 해리슨이 쓰고 비틀즈 멤버인 제이미 로드가 불렀으며 ‘South of Finals’ 로고와 함께 이 곡으로 로고송이 바뀌었다.\n",
            "이 곡이 부른 ‘Don’t Stop’은 Sometimate arts의 2곡 모음곡으로 수록되었는데, 여기에 가사를 쓰고 있는 제이미한테 가사를 쓰게 되는 순간부터 다시 한 번 로고가 쓰인 ‘Your Home, Somewhere’가 시작되었다.\n",
            "이후 이 곡을 녹음한 Jack Punk에서 〈Hope for Day〉의 〈Leaves Y\n",
            "K리그2에서 성적 1위를 달리고 있는 광주FC는 지난 26일 한국프로축구연맹(KFA) 광주유나이티드에 1부리그 승격을 신청했다.\n",
            "광주FC와 KEB하나은행은 최근 프로축구 본부의 지원과 연고지 변경을 위해 이사회를 열었으나 KBO 이사회가 오는 29일로 예정돼 있어 최종 결정을 내리지 못하고 있다.\n",
            "이 때문에 KAFA 이사회는 이날 임시주주총회를 소집하는 등 본격적인 절차의 시작을 알리는데 주력했다.\n",
            "KB국민은행은 KFL 출범 이후 줄곧 KOVO를 광주에 1위로 올려 놓았으나 올해부터 광주와\n",
            "균일가 생활용품점 (주)아성다이소(대표 박정부)의 '수퍼카'와 '쿠팡'(대표 손영기)의 친환경 캠페인 '티맵(TIMA)'이 그 주인공이다.\n",
            "지난해 10월 오픈한 '슈퍼 카'는 자동차 엔진으로 구동되는 티맵과 일반 카와 같이 일반 모델처럼 시동을 걸 수 있는 하이브리드 시스템을 적용했다.\n",
            "티켓 가격이 비싸다는 지적을 받는 등 사회적 관심이 높아지자 티켓 가격을 낮춘 것도 특징이다.\n",
            "티몬에서는 티몬 로켓배송 상품 구매 시 최대 30% 할인된 가격에 티비쇼핑\n",
            "1967년 프로 야구 드래프트 1순위로 요미우리 자이언츠에 지명됐다.\n",
            "부상으로 한 시즌을 쉬고 퇴장한 요나카는 2년째 2군에 머문다. 서울시가 '서울장터' 조성 사업에 뛰어들었다.\n",
            "서울시는 28일 서울장터에 참여하면서 한류 체험과 외국인들을 위한 무료입장권을 추가로 제공한다.\n",
            "시는 이날부터 오는 7월까지 서울 장터 홈페이지를 통해 서울 대표 명물인 동대문패션타운 일대 장터를 모집한다.\n",
            "선정된 장터는 약 2200m2 면적에 시장테마존, 갤러리존 등을 갖추게 된다.\n",
            "또한\n",
            ": 유엔, 유럽 의회, 북대서양 조약 기구 (NATO ), 유엔 인도주의위원회 ( ROSCA )  : 세계 주요 외교\n",
            "제12차 세계 대전(戰)은 1944년 8월 15일 미국의 승리로 끝났으며, 유엔은 1943년 6월 10일 미국의 요청을 받아들여 제1차 세계 대전 중 영국군의 지휘하에 참전했다.\n",
            "이것이 제2차 세계대전의 시작이 된 이유\n",
            "1943년 4월 12일 미국 점령에 이어 1942년 6월 7일 프랑스 점령까지 이어지자, 미국의 유엔이 독일군으로 구성된 연합군의 지휘 하에 전쟁 수행이 가능해진다.\n",
            "이 때 유엔 군부는 국제연합군과는 다른 독자적인 작전 권한을 갖는\n"
          ]
        }
      ]
    },
    {
      "cell_type": "markdown",
      "source": [
        "# GPT-2 Pretrain 1"
      ],
      "metadata": {
        "id": "bXWyFrmR8r-v"
      }
    },
    {
      "cell_type": "markdown",
      "source": [
        "label 정보와 sentence 정보를 같이 pre-train 시킴으로써 훈련 데이터들과 유사한 문장이 생성됨과 하게 동시에 label에 대한 정보도 생성된 문장에 담음.\n",
        "prompt로 label 정보도 포함할시 label과 일관성이 있는 데이터를 생성되게함"
      ],
      "metadata": {
        "id": "ys0xAesW9AI-"
      }
    },
    {
      "cell_type": "code",
      "source": [
        "def tokenized_dataset(dataset, tokenizer):\n",
        "\n",
        "    data = []\n",
        "    for idx, item in tqdm(dataset.iterrows(), desc=\"tokenizing\", total=len(dataset)):\n",
        "\n",
        "        # '</s>label<sep>sentence</s>' 형태로 pre-train 시행\n",
        "\n",
        "        tmp_sentence = '</s>'\n",
        "        tmp_sentence += item['label']\n",
        "        tmp_sentence += '<sep>'\n",
        "        tmp_sentence += item['sentence']\n",
        "        tmp_sentence += '</s>'\n",
        "\n",
        "        output = tokenizer(tmp_sentence, padding=True, truncation=True, add_special_tokens=True)\n",
        "        data.append(output)\n",
        "\n",
        "    return data\n",
        "\n",
        "def load_dataset(tokenizer, data_path):\n",
        "    dataset = pd.read_csv(data_path, index_col=0)\n",
        "    label = list(dataset.label.unique())\n",
        "    tokenizer.add_tokens(label)\n",
        "\n",
        "    tokenized_data = tokenized_dataset(dataset, tokenizer)\n",
        "\n",
        "    GPT_dataset = GPT_Dataset(tokenized_data)\n",
        "    return GPT_dataset"
      ],
      "metadata": {
        "id": "YusyEV2y4erW"
      },
      "execution_count": null,
      "outputs": []
    },
    {
      "cell_type": "code",
      "source": [
        "dataset = load_dataset(tokenizer,'/content/drive/MyDrive/level2_RE/train.csv')"
      ],
      "metadata": {
        "id": "iJ3T1rGsGKj3",
        "colab": {
          "base_uri": "https://localhost:8080/",
          "height": 67,
          "referenced_widgets": [
            "94a51a7141e249a388b5b742279d1c8c",
            "3cb4b705bd3e400e8f784e725a18c4b6",
            "af3965d1623d4b86844fdff37add7c3e",
            "b6a8ac572c394f3b9a3d7049088aa944",
            "a7171969e65a4457a755b4f17701f099",
            "2462bc79be634f33813edb1fbeee1a47",
            "73bb4657f03f42848cf89f3e8e89706b",
            "acd279eb64354237901e9564e38e266b",
            "2c78682c2d6c4ffda0793871c18bcf1a",
            "5ea45084097b4d4db5e3eb78786646a4",
            "ad02186cf5d24a1182b07b6fbaa959e4"
          ]
        },
        "outputId": "0706564a-8acf-482e-cd72-0cc129dec422"
      },
      "execution_count": null,
      "outputs": [
        {
          "output_type": "display_data",
          "data": {
            "text/plain": [
              "tokenizing:   0%|          | 0/25976 [00:00<?, ?it/s]"
            ],
            "application/vnd.jupyter.widget-view+json": {
              "version_major": 2,
              "version_minor": 0,
              "model_id": "94a51a7141e249a388b5b742279d1c8c"
            }
          },
          "metadata": {}
        },
        {
          "output_type": "stream",
          "name": "stderr",
          "text": [
            "Asking to truncate to max_length but no maximum length is provided and the model has no predefined maximum length. Default to no truncation.\n"
          ]
        }
      ]
    },
    {
      "cell_type": "code",
      "source": [
        "dataset.example[0]"
      ],
      "metadata": {
        "id": "aAE5Gz8vJAI3",
        "colab": {
          "base_uri": "https://localhost:8080/"
        },
        "outputId": "d5297b6f-8f14-47a7-a404-281339af980f"
      },
      "execution_count": null,
      "outputs": [
        {
          "output_type": "execute_result",
          "data": {
            "text/plain": [
              "{'input_ids': tensor([    1, 51201, 51200,  9151,   425, 11308, 30190, 10929, 11953, 12889,\n",
              "         23821, 25478, 13296, 21902, 38937, 15451, 22973, 11072,   407,   440,\n",
              "           440,   443,   463, 35413, 12293, 17115, 16637, 10121,  9016,     1]),\n",
              " 'token_type_ids': tensor([0, 0, 0, 0, 0, 0, 0, 0, 0, 0, 0, 0, 0, 0, 0, 0, 0, 0, 0, 0, 0, 0, 0, 0,\n",
              "         0, 0, 0, 0, 0, 0]),\n",
              " 'attention_mask': tensor([1, 1, 1, 1, 1, 1, 1, 1, 1, 1, 1, 1, 1, 1, 1, 1, 1, 1, 1, 1, 1, 1, 1, 1,\n",
              "         1, 1, 1, 1, 1, 1])}"
            ]
          },
          "metadata": {},
          "execution_count": 20
        }
      ]
    },
    {
      "cell_type": "code",
      "source": [
        "device = torch.device('cuda:0' if torch.cuda.is_available() else 'cpu')"
      ],
      "metadata": {
        "id": "1jDFJkiB0imP"
      },
      "execution_count": null,
      "outputs": []
    },
    {
      "cell_type": "code",
      "source": [
        "from transformers import DataCollatorForLanguageModeling\n",
        "\n",
        "model = GPT2LMHeadModel.from_pretrained('skt/kogpt2-base-v2')\n",
        "model.resize_token_embeddings(len(tokenizer))\n",
        "model.to(device)"
      ],
      "metadata": {
        "id": "EY66Rzh4-uRi"
      },
      "execution_count": null,
      "outputs": []
    },
    {
      "cell_type": "code",
      "source": [
        "data_collator = DataCollatorForLanguageModeling(    # GPT는 생성모델이기 때문에 [MASK] 가 필요 없습니다 :-)\n",
        "    tokenizer=tokenizer, mlm=False,\n",
        ")"
      ],
      "metadata": {
        "id": "-1P49jz8-1EX"
      },
      "execution_count": null,
      "outputs": []
    },
    {
      "cell_type": "code",
      "source": [
        "len(tokenizer)"
      ],
      "metadata": {
        "id": "-iFSKEP8F3Mj"
      },
      "execution_count": null,
      "outputs": []
    },
    {
      "cell_type": "code",
      "source": [
        "from transformers import Trainer, TrainingArguments\n",
        "\n",
        "training_args = TrainingArguments(\n",
        "    output_dir='model_output',\n",
        "    overwrite_output_dir=True,\n",
        "    num_train_epochs=7,\n",
        "    per_device_train_batch_size=16, # 512:32  # 128:64\n",
        "    save_steps=1000,\n",
        "    save_total_limit=2,\n",
        "    logging_steps=100\n",
        "\n",
        ")\n",
        "\n",
        "trainer = Trainer(\n",
        "    model=model,\n",
        "    args=training_args,\n",
        "    data_collator=data_collator,\n",
        "    train_dataset=dataset\n",
        ")"
      ],
      "metadata": {
        "id": "Il0fi2cq_lhQ"
      },
      "execution_count": null,
      "outputs": []
    },
    {
      "cell_type": "code",
      "source": [
        "trainer.train()\n",
        "trainer.save_model('/content/drive/MyDrive/level2_RE/GPT2')"
      ],
      "metadata": {
        "id": "hqAqcxnUA9f4"
      },
      "execution_count": null,
      "outputs": []
    },
    {
      "cell_type": "code",
      "source": [
        "# 훈련된 모델을 불러오기\n",
        "model = GPT2LMHeadModel.from_pretrained('/content/drive/MyDrive/level2_RE/GPT2')\n",
        "model.to('cuda')"
      ],
      "metadata": {
        "id": "BQyWzSQKHW8j"
      },
      "execution_count": null,
      "outputs": []
    },
    {
      "cell_type": "markdown",
      "source": [
        "### 결과 확인"
      ],
      "metadata": {
        "id": "-DcDYKuCKW0r"
      }
    },
    {
      "cell_type": "code",
      "source": [
        "def get_gpt_output(input_sent):\n",
        "    input_ids = torch.tensor(tokenizer.encode(input_sent, add_special_tokens=True)).unsqueeze(0).to('cuda')\n",
        "\n",
        "    sample_outputs = model.generate(\n",
        "        input_ids,\n",
        "        do_sample=True, \n",
        "        max_length=120, \n",
        "        top_k=50, \n",
        "        top_p=0.95, \n",
        "        num_return_sequences=1,\n",
        "        eos_token_id=tokenizer.encode('</s>')[0],\n",
        "        no_repeat_ngram_size=2,\n",
        "        early_stopping=True\n",
        "    )\n",
        "    generated_sequence = sample_outputs[0].tolist()\n",
        "    return tokenizer.decode(generated_sequence, skip_special_tokens=True)"
      ],
      "metadata": {
        "id": "lZKx1moasNJv"
      },
      "execution_count": null,
      "outputs": []
    },
    {
      "cell_type": "code",
      "source": [
        "# 예시 원문\n",
        "print(train_df.sentence.iloc[2], train_df.label.iloc[2])"
      ],
      "metadata": {
        "id": "mVip6MHC8eVW",
        "colab": {
          "base_uri": "https://localhost:8080/"
        },
        "outputId": "aaafd7fb-a2b5-486f-d71b-2a980134e4cb"
      },
      "execution_count": null,
      "outputs": [
        {
          "output_type": "stream",
          "name": "stdout",
          "text": [
            "균일가 생활용품점 (주)아성다이소(대표 박정부)는 코로나19 바이러스로 어려움을 겪고 있는 대구광역시에 행복박스를 전달했다고 10일 밝혔다. org:top_members/employees\n"
          ]
        }
      ]
    },
    {
      "cell_type": "code",
      "source": [
        "print(get_gpt_output('</s>〈Something〉는 조지 해리슨이 쓰고 비틀즈'))\n",
        "print(get_gpt_output('</s>K리그2에서 성적 1위를 달리고 있는 광주FC는 지난 26일 한국프로축구연맹'))\n",
        "print(get_gpt_output('</s>균일가 생활용품점 (주)아성다이소(대표 박정부'))\n",
        "print(get_gpt_output('</s>1967년 프로 야구 드래프트 1순위로 요미우리 자이언츠'))\n",
        "print(get_gpt_output('</s>: 유엔, 유럽 의회, 북대서양 조약 기구 (NATO'))"
      ],
      "metadata": {
        "colab": {
          "base_uri": "https://localhost:8080/"
        },
        "id": "f6CQ1uRPWxDK",
        "outputId": "5783f6c1-c5cd-4a29-88a1-246f5119b4a8"
      },
      "execution_count": null,
      "outputs": [
        {
          "output_type": "stream",
          "name": "stdout",
          "text": [
            "〈Something〉는 조지 해리슨이 쓰고 비틀즈에 발표한 1964년 영국의 록 밴드 비틀즈의 일곱 번째 정규 앨범이다.\n",
            "K리그2에서 성적 1위를 달리고 있는 광주FC는 지난 26일 한국프로축구연맹으로부터 성적 75점으로 FA컵 3관왕의 영광을 안았다.\n",
            "균일가 생활용품점 (주)아성다이소(대표 박정부)는 코로나19 확산에 따른 대구 지역 사회의 대응과 관련해 대구광역시와 경상북도, 대구시의 공동 대응을 위해 아동복지시설 등 관련시설에 대한 27일부터 다음달 15일까지 일시적 휴원을 시행한다고 밝혔다.\n",
            "1967년 프로 야구 드래프트 1순위로 요미우리 자이언츠에 지명됐다.\n",
            ": 유엔, 유럽 의회, 북대서양 조약 기구 (NATO)의 안전보장과 유럽 차원의 안전 확보가 시급하다.\n"
          ]
        }
      ]
    },
    {
      "cell_type": "code",
      "source": [
        "example_idx = 30\n",
        "print(train_df.sentence.iloc[example_idx])\n",
        "print(\"subject :\", eval(train_df.subject_entity.iloc[example_idx])['word'])\n",
        "print(\"object :\", eval(train_df.object_entity.iloc[example_idx])['word'])\n",
        "print(\"label :\", train_df.label.iloc[example_idx])"
      ],
      "metadata": {
        "colab": {
          "base_uri": "https://localhost:8080/"
        },
        "id": "eF2gxLSlakIC",
        "outputId": "7ba80e8b-fa91-4950-8014-c086f9dfc227"
      },
      "execution_count": null,
      "outputs": [
        {
          "output_type": "stream",
          "name": "stdout",
          "text": [
            "광주국악상설공연이 세계수영선수권대회 기간동안 연이어 매진을 기록하며 광주 대표 문화관광 콘텐츠로 큰 호응을 받고 있는 가운데 국악인 박애리가 호남의 판소리를 전 세계에 알린다.\n",
            "subject : 박애리\n",
            "object : 국악인\n",
            "label : per:title\n"
          ]
        }
      ]
    },
    {
      "cell_type": "code",
      "source": [
        "print(get_gpt_output('</s>per:colleagues<sep>1971년 대선을 앞두고 김종필은 1971년 선거에서 박정희'))\n",
        "print(get_gpt_output('</s>per:colleagues<sep>1971년 대선을 앞두고 김종필은 1971년 선거에서 박정희'))\n",
        "print(get_gpt_output('</s>per:colleagues<sep>1971년 대선을 앞두고 김종필은 1971년 선거에서 박정희'))\n",
        "print(get_gpt_output('</s>per:colleagues<sep>1971년 대선을 앞두고 김종필은 1971년 선거에서 박정희'))\n",
        "print(get_gpt_output('</s>per:colleagues<sep>1971년 대선을 앞두고 김종필은 1971년 선거에서 박정희'))"
      ],
      "metadata": {
        "id": "0jAFSKM2skXf",
        "colab": {
          "base_uri": "https://localhost:8080/"
        },
        "outputId": "0df37374-3e08-461a-fe3e-8f3a2eec9eb1"
      },
      "execution_count": null,
      "outputs": [
        {
          "output_type": "stream",
          "name": "stdout",
          "text": [
            "per:colleagues 1971년 대선을 앞두고 김종필은 1971년 선거에서 박정희를 38선 후보로 추대하였다.\n",
            "per:colleagues 1971년 대선을 앞두고 김종필은 1971년 선거에서 박정희에게 48 대 56으로 패배했으나 그 해 부통령 후보에 올랐고 1973년 12월 10일 통일민주당을 탈당하여 노태우에게 대통령 예비 후보되었다.\n",
            "per:colleagues 1971년 대선을 앞두고 김종필은 1971년 선거에서 박정희에게 패한 직후 당선을 위해 아내 김현옥과 함께 신군부 세력으로부터 지지를 얻어내려 했다.\n",
            "per:colleagues 1971년 대선을 앞두고 김종필은 1971년 선거에서 박정희를 지지했으며, 대선 전날인 1974년 5월 27일 평화방송 《열린세상 오늘!》에 다음과 같은 내용의 사과문을 발표했다.\n",
            "per:colleagues 1971년 대선을 앞두고 김종필은 1971년 선거에서 박정희에 이어 2위로 신민당 정권을 꺾고 대통령에 당선되었지만 2년 후 1974년 1월에 발생한 IMF 외환위기 사태를 직접 언급하면서 유신당을 비판한 것을 문제로 삼으며 재협상을 요구하였고 이에 김종필의 사퇴를 요구하는 목소리가 높았으나 계속된 협상에도 자신이 유신당 정권의 수반이 되어 1971년 4월 28일 대선에서 패배하여 원점에서 복귀하였다.\n"
          ]
        }
      ]
    },
    {
      "cell_type": "code",
      "source": [
        "print(get_gpt_output('</s>per:title<sep>광주국악상설공연이 세계수영선수권대회 기간동안 연이어 매진을 기록하며 광주 대표 문화관광 콘텐츠로 큰 호응을 받고 있는 가운데 국악인 박애리'))\n",
        "print(get_gpt_output('</s>per:title<sep>광주국악상설공연이 세계수영선수권대회 기간동안 연이어 매진을 기록하며 광주 대표 문화관광 콘텐츠로 큰 호응을 받고 있는 가운데 국악인 박애리'))\n",
        "print(get_gpt_output('</s>per:title<sep>광주국악상설공연이 세계수영선수권대회 기간동안 연이어 매진을 기록하며 광주 대표 문화관광 콘텐츠로 큰 호응을 받고 있는 가운데 국악인 박애리'))\n",
        "print(get_gpt_output('</s>per:title<sep>광주국악상설공연이 세계수영선수권대회 기간동안 연이어 매진을 기록하며 광주 대표 문화관광 콘텐츠로 큰 호응을 받고 있는 가운데 국악인 박애리'))\n",
        "print(get_gpt_output('</s>per:title<sep>광주국악상설공연이 세계수영선수권대회 기간동안 연이어 매진을 기록하며 광주 대표 문화관광 콘텐츠로 큰 호응을 받고 있는 가운데 국악인 박애리'))"
      ],
      "metadata": {
        "colab": {
          "base_uri": "https://localhost:8080/"
        },
        "id": "VCDUiqsEbN41",
        "outputId": "d834eac6-3ce7-437d-e89c-d56175da8a64"
      },
      "execution_count": null,
      "outputs": [
        {
          "output_type": "stream",
          "name": "stdout",
          "text": [
            "per:title 광주국악상설공연이 세계수영선수권대회 기간동안 연이어 매진을 기록하며 광주 대표 문화관광 콘텐츠로 큰 호응을 받고 있는 가운데 국악인 박애리씨가 국악팬에게 감사의 글을 남겼다.\n",
            "per:title 광주국악상설공연이 세계수영선수권대회 기간동안 연이어 매진을 기록하며 광주 대표 문화관광 콘텐츠로 큰 호응을 받고 있는 가운데 국악인 박애리 씨가 전라남도와 목포시에 공연 홍보를 위한 특별 공연을 선보여 호응을 얻고 있다.\n",
            "per:title 광주국악상설공연이 세계수영선수권대회 기간동안 연이어 매진을 기록하며 광주 대표 문화관광 콘텐츠로 큰 호응을 받고 있는 가운데 국악인 박애리 씨가 국립아시아문화전당 공연장과 팬 사인회를 통해 광주 모습을 처음으로 공개했다.\n",
            "per:title 광주국악상설공연이 세계수영선수권대회 기간동안 연이어 매진을 기록하며 광주 대표 문화관광 콘텐츠로 큰 호응을 받고 있는 가운데 국악인 박애리 씨가 전남지역 대표 국악공연으로 새로운 정서와 재미를 더한다.\n",
            "per:title 광주국악상설공연이 세계수영선수권대회 기간동안 연이어 매진을 기록하며 광주 대표 문화관광 콘텐츠로 큰 호응을 받고 있는 가운데 국악인 박애리 씨가 새로운 주역으로 출연해 호남 대표 국악지인 대중음악계와 소통하며 흥겨운 무대를 선사할 예정이다.\n"
          ]
        }
      ]
    },
    {
      "cell_type": "code",
      "source": [
        "get_gpt_output('</s>org:top_members/employees<sep>균일가 생활용품점 (주)아성다이소')"
      ],
      "metadata": {
        "id": "Mrdgi8i_8waV",
        "colab": {
          "base_uri": "https://localhost:8080/",
          "height": 35
        },
        "outputId": "05558671-2ce5-4596-a47e-70a7be021e5d"
      },
      "execution_count": null,
      "outputs": [
        {
          "output_type": "execute_result",
          "data": {
            "text/plain": [
              "'org:top_members/employees 균일가 생활용품점 (주)아성다이소 잡화부문 채학봉 담당이 ‘코로나19’ 극복을 위해 성금 2억 원을 기부했다.'"
            ],
            "application/vnd.google.colaboratory.intrinsic+json": {
              "type": "string"
            }
          },
          "metadata": {},
          "execution_count": 28
        }
      ]
    },
    {
      "cell_type": "code",
      "source": [
        "get_gpt_output('</s>org:top_members/employees<sep>균일가 생활용품점 (주)아성다이소')"
      ],
      "metadata": {
        "id": "pgGIJpP28wcX",
        "colab": {
          "base_uri": "https://localhost:8080/",
          "height": 35
        },
        "outputId": "ea7d80d3-f1de-4359-d555-fd7073bee316"
      },
      "execution_count": null,
      "outputs": [
        {
          "output_type": "execute_result",
          "data": {
            "text/plain": [
              "'org:top_members/employees 균일가 생활용품점 (주)아성다이소 고호석(대표 박정부)은 코로나19 극복을 위해 2월 27일부터 28일까지 3일간 한시적으로 ‘강서구 우수 중소기업 상품전’을 개최한다.'"
            ],
            "application/vnd.google.colaboratory.intrinsic+json": {
              "type": "string"
            }
          },
          "metadata": {},
          "execution_count": 29
        }
      ]
    },
    {
      "cell_type": "code",
      "source": [
        "# 원문과 비슷한 의미의 문장들이 생성됨\n",
        "# 이전 처럼 하나의 문장이 끝나고 별 상관없는 문장이 계속 생성되는것이 아닌 하나의 일관성 있는 문장만 생성이됨"
      ],
      "metadata": {
        "id": "2swNWD-IsqOo"
      },
      "execution_count": null,
      "outputs": []
    },
    {
      "cell_type": "markdown",
      "source": [
        "# GPT-2 Pretrain 2"
      ],
      "metadata": {
        "id": "0QQe43BBxwUl"
      }
    },
    {
      "cell_type": "markdown",
      "source": [
        "이번에는 label뿐만 아니라 subject_entity와 object entity를 같이 학습 시킴으로써\n",
        "문장 생성과 동시에 entity도 자동으로 생성되게 함"
      ],
      "metadata": {
        "id": "bktBs7p796Wt"
      }
    },
    {
      "cell_type": "code",
      "source": [
        "tokenizer = PreTrainedTokenizerFast.from_pretrained(\"skt/kogpt2-base-v2\",\n",
        "  bos_token='</s>', eos_token='</s>', unk_token='<unk>',\n",
        "  pad_token='<pad>', mask_token='<mask>', sep_token='<sep>')"
      ],
      "metadata": {
        "id": "e_uCnjn8PoXc",
        "colab": {
          "base_uri": "https://localhost:8080/"
        },
        "outputId": "1b27973c-24ba-40e5-88bb-93cb0ec73c16"
      },
      "execution_count": null,
      "outputs": [
        {
          "output_type": "stream",
          "name": "stderr",
          "text": [
            "The tokenizer class you load from this checkpoint is not the same type as the class this function is called from. It may result in unexpected tokenization. \n",
            "The tokenizer class you load from this checkpoint is 'GPT2Tokenizer'. \n",
            "The class this function is called from is 'PreTrainedTokenizerFast'.\n",
            "Special tokens have been added in the vocabulary, make sure the associated word embeddings are fine-tuned or trained.\n"
          ]
        }
      ]
    },
    {
      "cell_type": "code",
      "source": [
        "tokenizer.add_special_tokens({'additional_special_tokens':['<subj>','<obj>']})"
      ],
      "metadata": {
        "id": "Oq9uYgE7ROOi",
        "colab": {
          "base_uri": "https://localhost:8080/"
        },
        "outputId": "49e518f7-f9b3-4870-db1e-697daa7a21f8"
      },
      "execution_count": null,
      "outputs": [
        {
          "output_type": "execute_result",
          "data": {
            "text/plain": [
              "2"
            ]
          },
          "metadata": {},
          "execution_count": 32
        }
      ]
    },
    {
      "cell_type": "code",
      "source": [
        "def tokenized_dataset2(dataset, tokenizer):\n",
        "\n",
        "    data = []\n",
        "    for idx, item in tqdm(dataset.iterrows(), desc=\"tokenizing\", total=len(dataset)):\n",
        "\n",
        "        # </s>label<sep>sentence<subj>e_subj<subj><obj>e_obj<obj></s> 와 같은 형태로 학습\n",
        "        tmp_sentence = '</s>'\n",
        "        tmp_sentence += item['label']\n",
        "        tmp_sentence += '<sep>'\n",
        "        tmp_sentence += item['sentence']\n",
        "        tmp_sentence += '<subj>'+ eval(item['subject_entity'])[\"word\"] + '<subj>'\n",
        "        tmp_sentence += '<obj>' + eval(item['object_entity'])[\"word\"] + '<obj>'\n",
        "        tmp_sentence += '</s>'\n",
        "\n",
        "        output = tokenizer(tmp_sentence, padding=True, truncation=True, add_special_tokens=True)\n",
        "        data.append(output)\n",
        "\n",
        "    return data"
      ],
      "metadata": {
        "id": "OybXrmqZx7kZ"
      },
      "execution_count": null,
      "outputs": []
    },
    {
      "cell_type": "code",
      "source": [
        "def load_dataset2(tokenizer, data_path):\n",
        "    dataset = pd.read_csv(data_path, index_col=0)\n",
        "    label = list(dataset.label.unique())\n",
        "    tokenizer.add_tokens(label)\n",
        "\n",
        "    tokenized_data = tokenized_dataset2(dataset, tokenizer)\n",
        "\n",
        "    GPT_dataset = GPT_Dataset(tokenized_data)\n",
        "    return GPT_dataset"
      ],
      "metadata": {
        "id": "G9_RTCnaxx_p"
      },
      "execution_count": null,
      "outputs": []
    },
    {
      "cell_type": "code",
      "source": [
        "dataset = load_dataset2(tokenizer,'/content/drive/MyDrive/level2_RE/train.csv')"
      ],
      "metadata": {
        "id": "wYyIJpJXyTV7",
        "colab": {
          "base_uri": "https://localhost:8080/",
          "height": 67,
          "referenced_widgets": [
            "d2f13d0e69c149c3b196cc30fe75d111",
            "d8aa2fb1ad6c41da8776a962a1229072",
            "ba910358102343d8b4544c12437bca88",
            "c7ba8fecad8f4f35a997d60ac99014ab",
            "94164543569c4dc2b6ed17819d1bb81c",
            "edb39eac9f744efabfc81eb551f99156",
            "7cd99b70c88e4f998f52d5c44fb0baf8",
            "56a1ce642a2349679b62583b4c12babe",
            "f96126c203414c1ab1e9f666819b0ca5",
            "edd828fb7b164e82a521295205558715",
            "54d1f37160cf4f71b4964f2c701a7dff"
          ]
        },
        "outputId": "caeef29f-334d-4485-9c9c-aabb8183c749"
      },
      "execution_count": null,
      "outputs": [
        {
          "output_type": "display_data",
          "data": {
            "text/plain": [
              "tokenizing:   0%|          | 0/25976 [00:00<?, ?it/s]"
            ],
            "application/vnd.jupyter.widget-view+json": {
              "version_major": 2,
              "version_minor": 0,
              "model_id": "d2f13d0e69c149c3b196cc30fe75d111"
            }
          },
          "metadata": {}
        },
        {
          "output_type": "stream",
          "name": "stderr",
          "text": [
            "Asking to truncate to max_length but no maximum length is provided and the model has no predefined maximum length. Default to no truncation.\n"
          ]
        }
      ]
    },
    {
      "cell_type": "code",
      "source": [
        "model = GPT2LMHeadModel.from_pretrained('skt/kogpt2-base-v2')\n",
        "model.resize_token_embeddings(len(tokenizer))\n",
        "model.to(device)"
      ],
      "metadata": {
        "id": "TY675c6PzgTT"
      },
      "execution_count": null,
      "outputs": []
    },
    {
      "cell_type": "code",
      "source": [
        "data_collator = DataCollatorForLanguageModeling(    # GPT는 생성모델이기 때문에 [MASK] 가 필요 없습니다 :-)\n",
        "    tokenizer=tokenizer, mlm=False,\n",
        ")"
      ],
      "metadata": {
        "id": "jDFBOqBpzkcy"
      },
      "execution_count": null,
      "outputs": []
    },
    {
      "cell_type": "code",
      "source": [
        "# 51231 => <subj>, 51232 => <obj> special token이 포함된 형태\n",
        "dataset.example[0]['input_ids']"
      ],
      "metadata": {
        "id": "P8dugGgGO3Ex"
      },
      "execution_count": null,
      "outputs": []
    },
    {
      "cell_type": "code",
      "source": [
        "from transformers import Trainer, TrainingArguments\n",
        "\n",
        "training_args = TrainingArguments(\n",
        "    output_dir='model_output',\n",
        "    overwrite_output_dir=True,\n",
        "    num_train_epochs=10,\n",
        "    per_device_train_batch_size=16, # 512:32  # 128:64\n",
        "    save_steps=1000,\n",
        "    save_total_limit=2,\n",
        "    logging_steps=100\n",
        "\n",
        ")\n",
        "\n",
        "trainer = Trainer(\n",
        "    model=model,\n",
        "    args=training_args,\n",
        "    data_collator=data_collator,\n",
        "    train_dataset=dataset\n",
        ")"
      ],
      "metadata": {
        "id": "fuPkQ0S6zmpK"
      },
      "execution_count": null,
      "outputs": []
    },
    {
      "cell_type": "code",
      "source": [
        "trainer.train()\n",
        "trainer.save_model('/content/drive/MyDrive/level2_RE/GPT2_with_label_special_token')"
      ],
      "metadata": {
        "id": "U5_46vNrzqHK"
      },
      "execution_count": null,
      "outputs": []
    },
    {
      "cell_type": "markdown",
      "source": [
        "### 결과 확인"
      ],
      "metadata": {
        "id": "orFr_JSaKcDE"
      }
    },
    {
      "cell_type": "code",
      "source": [
        "model = GPT2LMHeadModel.from_pretrained('/content/drive/MyDrive/level2_RE/GPT2_with_label_special_token')\n",
        "model.to(device)"
      ],
      "metadata": {
        "id": "zBoyuIxgzvNp"
      },
      "execution_count": null,
      "outputs": []
    },
    {
      "cell_type": "code",
      "source": [
        "def get_gpt_output(input_sent):\n",
        "    input_ids = torch.tensor(tokenizer.encode(input_sent, add_special_tokens=True)).unsqueeze(0).to(device)\n",
        "\n",
        "    sample_outputs = model.generate(\n",
        "        input_ids,\n",
        "        do_sample=True, \n",
        "        max_length=120, \n",
        "        top_k=50, \n",
        "        top_p=0.80, \n",
        "        num_return_sequences=1,\n",
        "        eos_token_id=tokenizer.encode('</s>')[0],\n",
        "        no_repeat_ngram_size=2,\n",
        "        early_stopping=True\n",
        "    )\n",
        "    generated_sequence = sample_outputs[0].tolist()\n",
        "    return tokenizer.decode(generated_sequence, skip_special_tokens=True)"
      ],
      "metadata": {
        "id": "hOfVaJyAOdsT"
      },
      "execution_count": null,
      "outputs": []
    },
    {
      "cell_type": "code",
      "source": [
        "print(train_df.sentence.iloc[2])\n",
        "print(\"subject :\", eval(train_df.subject_entity.iloc[2])['word'])\n",
        "print(\"object :\", eval(train_df.object_entity.iloc[2])['word'])\n",
        "print(\"label :\", train_df.label.iloc[2])"
      ],
      "metadata": {
        "id": "FrZM7tEi_rHr",
        "colab": {
          "base_uri": "https://localhost:8080/"
        },
        "outputId": "077b3ca2-234a-47ec-d8c1-9e538ddd086a"
      },
      "execution_count": null,
      "outputs": [
        {
          "output_type": "stream",
          "name": "stdout",
          "text": [
            "균일가 생활용품점 (주)아성다이소(대표 박정부)는 코로나19 바이러스로 어려움을 겪고 있는 대구광역시에 행복박스를 전달했다고 10일 밝혔다.\n",
            "subject : 아성다이소\n",
            "object : 박정부\n",
            "label : org:top_members/employees\n"
          ]
        }
      ]
    },
    {
      "cell_type": "code",
      "source": [
        "get_gpt_output('</s>org:top_members/employees<sep>균일가 생활용품점 (주)아성다이소')"
      ],
      "metadata": {
        "id": "F8dLalpvAFIP",
        "colab": {
          "base_uri": "https://localhost:8080/",
          "height": 35
        },
        "outputId": "3fb8598a-10fe-4778-e290-dfd302444fa3"
      },
      "execution_count": null,
      "outputs": [
        {
          "output_type": "execute_result",
          "data": {
            "text/plain": [
              "'org:top_members/employees 균일가 생활용품점 (주)아성다이소공업(이하 다이소)이 코로나19 바이러스 감염증(이른바 코호트) 극복을 위해 후원 물품들을 전달했다고 13일 밝혔다. 다이소스 김지수'"
            ],
            "application/vnd.google.colaboratory.intrinsic+json": {
              "type": "string"
            }
          },
          "metadata": {},
          "execution_count": 39
        }
      ]
    },
    {
      "cell_type": "code",
      "source": [
        "get_gpt_output('</s>org:top_members/employees<sep>균일가 생활용품점 (주)아성다이소')"
      ],
      "metadata": {
        "id": "dFY50OaaARJZ",
        "colab": {
          "base_uri": "https://localhost:8080/",
          "height": 35
        },
        "outputId": "6552d9a7-ed69-46e9-ee38-ac4f7aaff60e"
      },
      "execution_count": null,
      "outputs": [
        {
          "output_type": "execute_result",
          "data": {
            "text/plain": [
              "'org:top_members/employees 균일가 생활용품점 (주)아성다이소 성인용품점(대표 박정부)이 코로나19 감염증 확산으로 어려움을 겪고 있는 대구광역시에 마스크 1만개를 전달했다고 2일 밝혔다. 다이소 박정부와정부'"
            ],
            "application/vnd.google.colaboratory.intrinsic+json": {
              "type": "string"
            }
          },
          "metadata": {},
          "execution_count": 40
        }
      ]
    },
    {
      "cell_type": "code",
      "source": [
        "get_gpt_output('</s>org:top_members/employees<sep>균일가 생활용품점 (주)아성다이소')"
      ],
      "metadata": {
        "id": "jfOAObkDASa5",
        "colab": {
          "base_uri": "https://localhost:8080/",
          "height": 35
        },
        "outputId": "0f2328a6-0ca4-40e5-e5a7-356e4231cd78"
      },
      "execution_count": null,
      "outputs": [
        {
          "output_type": "execute_result",
          "data": {
            "text/plain": [
              "'org:top_members/employees 균일가 생활용품점 (주)아성다이소녀 대표가 코로나19 여파로 영업에 어려움을 겪고 있는 소상공인들을 위해 상생 지원을 나섰다. 아성다이스 김성다이소스'"
            ],
            "application/vnd.google.colaboratory.intrinsic+json": {
              "type": "string"
            }
          },
          "metadata": {},
          "execution_count": 41
        }
      ]
    },
    {
      "cell_type": "code",
      "source": [
        "print(train_df.sentence.iloc[4])\n",
        "print(\"subject :\", eval(train_df.subject_entity.iloc[4])['word'])\n",
        "print(\"object :\", eval(train_df.object_entity.iloc[4])['word'])\n",
        "print(\"label :\", train_df.label.iloc[4])"
      ],
      "metadata": {
        "id": "5JZ0rzjdAgIE",
        "colab": {
          "base_uri": "https://localhost:8080/"
        },
        "outputId": "1f2b9af5-9f5b-42b1-b0ad-9f652bd2fb87"
      },
      "execution_count": null,
      "outputs": [
        {
          "output_type": "stream",
          "name": "stdout",
          "text": [
            ": 유엔, 유럽 의회, 북대서양 조약 기구 (NATO), 국제이주기구, 세계 보건 기구 (WHO), 지중해 연합, 이슬람 협력 기구, 유럽 안보 협력 기구, 국제 통화 기금, 세계무역기구 그리고 프랑코포니.\n",
            "subject : 북대서양 조약 기구\n",
            "object : NATO\n",
            "label : org:alternate_names\n"
          ]
        }
      ]
    },
    {
      "cell_type": "code",
      "source": [
        "get_gpt_output('</s>org:alternate_names<sep>: 유엔, 유럽 의회, 북대서양 조약 기구 (NATO)')"
      ],
      "metadata": {
        "id": "98TiaSu8Aiwf",
        "colab": {
          "base_uri": "https://localhost:8080/",
          "height": 35
        },
        "outputId": "e8e9c8b8-73ba-420f-e651-9b838a196f3d"
      },
      "execution_count": null,
      "outputs": [
        {
          "output_type": "execute_result",
          "data": {
            "text/plain": [
              "'org:alternate_names : 유엔, 유럽 의회, 북대서양 조약 기구 (NATO) 및 국제 연합, 그리고 국제 통화 기금(IMF)에 의한 세계 경제 원조 및 보호에 힘입은 국가들끼리 협력 할 수 있는 방안을 모색하고 모색한다. 북대서양 조약 NATO'"
            ],
            "application/vnd.google.colaboratory.intrinsic+json": {
              "type": "string"
            }
          },
          "metadata": {},
          "execution_count": 43
        }
      ]
    },
    {
      "cell_type": "code",
      "source": [
        "get_gpt_output('</s>org:alternate_names<sep>: 유엔, 유럽 의회, 북대서양 조약 기구 (NATO)')"
      ],
      "metadata": {
        "id": "SPqjMjZWAt31",
        "colab": {
          "base_uri": "https://localhost:8080/",
          "height": 54
        },
        "outputId": "4d0a20ea-d56b-479b-f6d5-8b9cbe60fe63"
      },
      "execution_count": null,
      "outputs": [
        {
          "output_type": "execute_result",
          "data": {
            "text/plain": [
              "'org:alternate_names : 유엔, 유럽 의회, 북대서양 조약 기구 (NATO) 및 국제 적십자 기구들 (ICRC), 유엔 안전 보장 이사회 (유엔, 국제 연합), 유럽 이사회 상임 이사국 (2019년, G20), 글로벌 기업 (2020년)을 비롯한 많은 국가 및 기관과 단체가 참여하며, 이 중 유엔은 국제 의무에 규정되어 있다. 북대서양 조약 NATO'"
            ],
            "application/vnd.google.colaboratory.intrinsic+json": {
              "type": "string"
            }
          },
          "metadata": {},
          "execution_count": 44
        }
      ]
    },
    {
      "cell_type": "code",
      "source": [
        "get_gpt_output('</s>org:alternate_names<sep>: 유엔, 유럽 의회, 북대서양 조약 기구 (NATO)')"
      ],
      "metadata": {
        "id": "ENC81MDUAuS2",
        "colab": {
          "base_uri": "https://localhost:8080/",
          "height": 54
        },
        "outputId": "42f01b0c-b1d1-4154-d37b-488a37fd1a73"
      },
      "execution_count": null,
      "outputs": [
        {
          "output_type": "execute_result",
          "data": {
            "text/plain": [
              "'org:alternate_names : 유엔, 유럽 의회, 북대서양 조약 기구 (NATO) 및 국제 연합 (GSOMIA), 유럽 안보 협력 기구, 세계 보건 기구 (1963년 설립) 및 세계 대전 기간 동안 미군 점령 지역 시 전투에 참여한 것으로 공식적으로 인정받은 전쟁 포로, 영국/독일군 및 기타 연합군의 전투 포로를 받았다. 북대유럽 조약 기구 NATO'"
            ],
            "application/vnd.google.colaboratory.intrinsic+json": {
              "type": "string"
            }
          },
          "metadata": {},
          "execution_count": 46
        }
      ]
    },
    {
      "cell_type": "code",
      "source": [
        "# entity를 자동으로 찾아주도록 학습을 하였으나 생성된 문장의 자연스러움을 위해 top-k의 option들을 사용하다보니 생성된 entity들도 부정확 할때가 많음"
      ],
      "metadata": {
        "id": "CxAkdlOiBOOu"
      },
      "execution_count": null,
      "outputs": []
    },
    {
      "cell_type": "markdown",
      "source": [
        "# GPT-2 Pretrain 3"
      ],
      "metadata": {
        "id": "TEYQAxOJ6Izb"
      }
    },
    {
      "cell_type": "markdown",
      "source": [
        "이번에는 label과 subject, object를 동시에 prompt를 주면 어떻게 될지 궁금해서 한번 학습을 해봄"
      ],
      "metadata": {
        "id": "wSbDCmjOByUA"
      }
    },
    {
      "cell_type": "code",
      "source": [
        "def tokenized_dataset3(dataset, tokenizer):\n",
        "\n",
        "    data = []\n",
        "    for idx, item in tqdm(dataset.iterrows(), desc=\"tokenizing\", total=len(dataset)):\n",
        "\n",
        "        tmp_sentence = '</s>'\n",
        "        tmp_sentence += item['label']\n",
        "        tmp_sentence += '<sep>'\n",
        "        tmp_sentence += '<subj>'+ eval(item['subject_entity'])[\"word\"] + '<subj>'\n",
        "        tmp_sentence += '<obj>' + eval(item['object_entity'])[\"word\"] + '<obj>'\n",
        "        tmp_sentence += '<sep>'\n",
        "        tmp_sentence += item['sentence']\n",
        "        tmp_sentence += '</s>'\n",
        "\n",
        "        output = tokenizer(tmp_sentence, padding=True, truncation=True, add_special_tokens=True)\n",
        "        data.append(output)\n",
        "\n",
        "    return data"
      ],
      "metadata": {
        "id": "A8I-RfwS6Jt0"
      },
      "execution_count": null,
      "outputs": []
    },
    {
      "cell_type": "code",
      "source": [
        "def load_dataset3(tokenizer, data_path):\n",
        "    dataset = pd.read_csv(data_path, index_col=0)\n",
        "    label = list(dataset.label.unique())\n",
        "    tokenizer.add_tokens(label)\n",
        "\n",
        "    tokenized_data = tokenized_dataset3(dataset, tokenizer)\n",
        "\n",
        "    GPT_dataset = GPT_Dataset(tokenized_data)\n",
        "    return GPT_dataset"
      ],
      "metadata": {
        "id": "QWUBZ4wn9HTK"
      },
      "execution_count": null,
      "outputs": []
    },
    {
      "cell_type": "code",
      "source": [
        "dataset = load_dataset3(tokenizer,'/content/drive/MyDrive/level2_RE/train.csv')"
      ],
      "metadata": {
        "id": "E2_I9fc69YRj",
        "colab": {
          "base_uri": "https://localhost:8080/",
          "height": 49,
          "referenced_widgets": [
            "ce7de7785ea84c25b0c56abb2074eea3",
            "419e030c75bb4d3fa1cd4c764d999cb7",
            "65d6e30f6a2d47c49752158aaf0e1fa1",
            "cc2514d9515d4794afb8dc6ea3ee5163",
            "843ac3fcb05c4bcf92064b69c8d30af7",
            "91ae785b5f704790bdc7b3f69f1f40d3",
            "bfebe29e7c404083af7d4ff33da5cf2c",
            "1e94c3d16529427b851405755d9f44a9",
            "8ea8f498219247579d7a1c6a51647d95",
            "3177ab0e86d44f178dbfbd861b42530f",
            "ca7defa050224333b69a5168e484c444"
          ]
        },
        "outputId": "6f59aee9-6e34-44d8-fa18-e41753751ef0"
      },
      "execution_count": null,
      "outputs": [
        {
          "output_type": "display_data",
          "data": {
            "text/plain": [
              "tokenizing:   0%|          | 0/25976 [00:00<?, ?it/s]"
            ],
            "application/vnd.jupyter.widget-view+json": {
              "version_major": 2,
              "version_minor": 0,
              "model_id": "ce7de7785ea84c25b0c56abb2074eea3"
            }
          },
          "metadata": {}
        }
      ]
    },
    {
      "cell_type": "code",
      "source": [
        "model = GPT2LMHeadModel.from_pretrained('skt/kogpt2-base-v2')\n",
        "model.resize_token_embeddings(len(tokenizer))\n",
        "model.to(device)"
      ],
      "metadata": {
        "id": "GcLIeBUL9ZDi"
      },
      "execution_count": null,
      "outputs": []
    },
    {
      "cell_type": "code",
      "source": [
        "data_collator = DataCollatorForLanguageModeling(    # GPT는 생성모델이기 때문에 [MASK] 가 필요 없습니다 :-)\n",
        "    tokenizer=tokenizer, mlm=False,\n",
        ")"
      ],
      "metadata": {
        "id": "-vgiWIVa9q7D"
      },
      "execution_count": null,
      "outputs": []
    },
    {
      "cell_type": "code",
      "source": [
        "from transformers import Trainer, TrainingArguments\n",
        "\n",
        "training_args = TrainingArguments(\n",
        "    output_dir='model_output',\n",
        "    overwrite_output_dir=True,\n",
        "    num_train_epochs=10,\n",
        "    per_device_train_batch_size=16, # 512:32  # 128:64\n",
        "    save_steps=1000,\n",
        "    save_total_limit=2,\n",
        "    logging_steps=100\n",
        "\n",
        ")\n",
        "\n",
        "trainer = Trainer(\n",
        "    model=model,\n",
        "    args=training_args,\n",
        "    data_collator=data_collator,\n",
        "    train_dataset=dataset\n",
        ")"
      ],
      "metadata": {
        "id": "HviTLHSQ9tEl"
      },
      "execution_count": null,
      "outputs": []
    },
    {
      "cell_type": "code",
      "source": [
        "trainer.train()\n",
        "trainer.save_model('/content/drive/MyDrive/level2_RE/GPT2_with_label_special_token_first')"
      ],
      "metadata": {
        "id": "VcVj59ge9vKG"
      },
      "execution_count": null,
      "outputs": []
    },
    {
      "cell_type": "markdown",
      "source": [
        "### 결과 확인"
      ],
      "metadata": {
        "id": "7cKnHw5hKfJK"
      }
    },
    {
      "cell_type": "code",
      "source": [
        "model = GPT2LMHeadModel.from_pretrained('/content/drive/MyDrive/level2_RE/GPT2_with_label_special_token_first')\n",
        "model.to(device)"
      ],
      "metadata": {
        "id": "l-X-0OnJdOW0"
      },
      "execution_count": null,
      "outputs": []
    },
    {
      "cell_type": "code",
      "source": [
        "def get_gpt_output(input_sent):\n",
        "    input_ids = torch.tensor(tokenizer.encode(input_sent, add_special_tokens=True)).unsqueeze(0).to(device)\n",
        "\n",
        "    sample_outputs = model.generate(\n",
        "        input_ids,\n",
        "        do_sample=True, \n",
        "        max_length=120, \n",
        "        top_k=50, \n",
        "        top_p=0.80, \n",
        "        num_return_sequences=1,\n",
        "        eos_token_id=tokenizer.encode('</s>')[0],\n",
        "        no_repeat_ngram_size=2,\n",
        "        early_stopping=True\n",
        "    )\n",
        "    generated_sequence = sample_outputs[0].tolist()\n",
        "    return tokenizer.decode(generated_sequence, skip_special_tokens=True)"
      ],
      "metadata": {
        "id": "e7NqZd5_91aD"
      },
      "execution_count": null,
      "outputs": []
    },
    {
      "cell_type": "code",
      "source": [
        "print(train_df.sentence.iloc[2])\n",
        "print(\"subject :\", eval(train_df.subject_entity.iloc[2])['word'])\n",
        "print(\"object :\", eval(train_df.object_entity.iloc[2])['word'])\n",
        "print(\"label :\", train_df.label.iloc[2])"
      ],
      "metadata": {
        "id": "JY3bEzxPCPX2",
        "colab": {
          "base_uri": "https://localhost:8080/"
        },
        "outputId": "c5744aa4-afa0-45d1-df19-201907dbaa0b"
      },
      "execution_count": null,
      "outputs": [
        {
          "output_type": "stream",
          "name": "stdout",
          "text": [
            "균일가 생활용품점 (주)아성다이소(대표 박정부)는 코로나19 바이러스로 어려움을 겪고 있는 대구광역시에 행복박스를 전달했다고 10일 밝혔다.\n",
            "subject : 아성다이소\n",
            "object : 박정부\n",
            "label : org:top_members/employees\n"
          ]
        }
      ]
    },
    {
      "cell_type": "code",
      "source": [
        "get_gpt_output('</s>org:top_members/employees<sep><subj>아성다이소<subj><obj>박정부<obj>')"
      ],
      "metadata": {
        "id": "gUPa5tqadR1m",
        "colab": {
          "base_uri": "https://localhost:8080/",
          "height": 35
        },
        "outputId": "856e9517-9bf8-44cf-a639-6a9272a3e263"
      },
      "execution_count": null,
      "outputs": [
        {
          "output_type": "execute_result",
          "data": {
            "text/plain": [
              "'org:top_members/employees 아성다이소 박정부 균일가 생활용품점 (주)아성다이(대표 박정부와 문효옥)가 코로나19 피해 복구에 써달라며 성금 1천만원을 기탁했다.'"
            ],
            "application/vnd.google.colaboratory.intrinsic+json": {
              "type": "string"
            }
          },
          "metadata": {},
          "execution_count": 53
        }
      ]
    },
    {
      "cell_type": "code",
      "source": [
        "get_gpt_output('</s>org:top_members/employees<sep><subj>아성다이소<subj><obj>박정부<obj>')"
      ],
      "metadata": {
        "id": "yCIt4puHdbyW",
        "colab": {
          "base_uri": "https://localhost:8080/",
          "height": 35
        },
        "outputId": "100d50d4-d601-4261-8d35-92a8642f7b25"
      },
      "execution_count": null,
      "outputs": [
        {
          "output_type": "execute_result",
          "data": {
            "text/plain": [
              "'org:top_members/employees 아성다이소 박정부 균일가 생활용품점 (주)아성다이(대표 박정부의)는 코로나19 확산으로 어려움을 겪고 있는 소상공인을 돕기 위해 ‘착한 임대료 운동’을 전개한다고 17일 밝혔다.'"
            ],
            "application/vnd.google.colaboratory.intrinsic+json": {
              "type": "string"
            }
          },
          "metadata": {},
          "execution_count": 54
        }
      ]
    },
    {
      "cell_type": "code",
      "source": [
        "get_gpt_output('</s>org:top_members/employees<sep><subj>아성다이소<subj><obj>박정부<obj>')"
      ],
      "metadata": {
        "id": "AJxCV4pECfVB",
        "colab": {
          "base_uri": "https://localhost:8080/",
          "height": 35
        },
        "outputId": "a0291aa0-b355-4c29-b984-39a284a3f15f"
      },
      "execution_count": null,
      "outputs": [
        {
          "output_type": "execute_result",
          "data": {
            "text/plain": [
              "'org:top_members/employees 아성다이소 박정부 균일가 생활용품점 (주)아성다이(대표 박정부의)가 코로나19의 확산으로 어려움을 겪고 있는 소상공인들의 애로사항을 청취하고 대책을 논의하는 자리를 가졌다.'"
            ],
            "application/vnd.google.colaboratory.intrinsic+json": {
              "type": "string"
            }
          },
          "metadata": {},
          "execution_count": 55
        }
      ]
    },
    {
      "cell_type": "code",
      "source": [
        "print(train_df.sentence.iloc[5])\n",
        "print(\"subject :\", eval(train_df.subject_entity.iloc[5])['word'])\n",
        "print(\"object :\", eval(train_df.object_entity.iloc[5])['word'])\n",
        "print(\"label :\", train_df.label.iloc[5])"
      ],
      "metadata": {
        "id": "rvtLuSrXCipl",
        "colab": {
          "base_uri": "https://localhost:8080/"
        },
        "outputId": "ea511d38-b46f-4f20-b087-262b318eb864"
      },
      "execution_count": null,
      "outputs": [
        {
          "output_type": "stream",
          "name": "stdout",
          "text": [
            "중공군에게 온전히 대항할 수 없을 정도로 약해진 국민당은 타이베이로 수도를 옮기는 것을 결정해, 남아있는 중화민국군의 병력이나 국가, 개인의 재산등을 속속 타이완으로 옮기기 시작해, 12월에는 중앙 정부 기구도 모두 이전해 타이베이 시를 중화민국의 새로운 수도로 삼았다.\n",
            "subject : 중화민국\n",
            "object : 타이베이\n",
            "label : org:place_of_headquarters\n"
          ]
        }
      ]
    },
    {
      "cell_type": "code",
      "source": [
        "get_gpt_output('</s>org:place_of_headquarters<sep><subj>중화민국<subj><obj>타이베이<obj>')"
      ],
      "metadata": {
        "id": "opfjm8jzCm1E",
        "colab": {
          "base_uri": "https://localhost:8080/",
          "height": 35
        },
        "outputId": "f1ef5160-d040-4a9b-ec68-fadaca929c9c"
      },
      "execution_count": null,
      "outputs": [
        {
          "output_type": "execute_result",
          "data": {
            "text/plain": [
              "'org:place_of_headquarters 중화민국 타이베이 이러한 이유로 중화민국은 타이베이로 가는 항공편을 감편 운항하고 있다.'"
            ],
            "application/vnd.google.colaboratory.intrinsic+json": {
              "type": "string"
            }
          },
          "metadata": {},
          "execution_count": 57
        }
      ]
    },
    {
      "cell_type": "code",
      "source": [
        "get_gpt_output('</s>org:place_of_headquarters<sep><subj>중화민국<subj><obj>타이베이<obj>')"
      ],
      "metadata": {
        "id": "QsLUdDfMCu54",
        "colab": {
          "base_uri": "https://localhost:8080/",
          "height": 35
        },
        "outputId": "512edce4-1a9d-4f28-c7b0-220dc82f2e81"
      },
      "execution_count": null,
      "outputs": [
        {
          "output_type": "execute_result",
          "data": {
            "text/plain": [
              "'org:place_of_headquarters 중화민국 타이베이 저우융캉(주영강, 1965년 10월 16일 ~)은 중화민국의 야구 선수이자 전 중화인민공화국 축구 국가대표팀 감독이다.'"
            ],
            "application/vnd.google.colaboratory.intrinsic+json": {
              "type": "string"
            }
          },
          "metadata": {},
          "execution_count": 58
        }
      ]
    },
    {
      "cell_type": "code",
      "source": [
        "get_gpt_output('</s>org:place_of_headquarters<sep><subj>중화민국<subj><obj>타이베이<obj>')"
      ],
      "metadata": {
        "id": "VGjVINntCu72",
        "colab": {
          "base_uri": "https://localhost:8080/",
          "height": 35
        },
        "outputId": "a79a0373-1cd6-4a0b-edab-e305902b31ef"
      },
      "execution_count": null,
      "outputs": [
        {
          "output_type": "execute_result",
          "data": {
            "text/plain": [
              "'org:place_of_headquarters 중화민국 타이베이 중화민국은 타이베이로 수도를 이전한 이후 지금까지 타이완 전지역, 신좡 분리주의 진저우를 타이만의 도시로 삼고 있다.'"
            ],
            "application/vnd.google.colaboratory.intrinsic+json": {
              "type": "string"
            }
          },
          "metadata": {},
          "execution_count": 59
        }
      ]
    },
    {
      "cell_type": "markdown",
      "source": [
        "어느 정도 label, subj, obj prompt에 기반한 문장이 생성되는것을 확인하였으나 항상 정확한 문장이 생성되는것은 아님. \n",
        "generate의 다양한 옵션이 원인인것으로 생각된다."
      ],
      "metadata": {
        "id": "unom7sbDCz3k"
      }
    },
    {
      "cell_type": "markdown",
      "source": [
        "# Gpt-2 data generate -1"
      ],
      "metadata": {
        "id": "XQgLi_GSJz7q"
      }
    },
    {
      "cell_type": "markdown",
      "source": [
        "여러가지 prompt를 주는 방법을 시도해보았으나 subj_entity와 obj_entity간의 관계가 부정확한 문장이 생성되는 빈도가 더 높아서 그냥 label만 prompt로 주어서 데이터 증강을 해보기로함"
      ],
      "metadata": {
        "id": "DGBrmxzyFzHy"
      }
    },
    {
      "cell_type": "code",
      "source": [
        "# label 정보와 entity 정보를 그대로 보존하기 위해서\n",
        "# 라벨과 하나의 row에 대한 entity 두개 중 idx의 최대값까지만 문장을 인덱싱하여 prompt를 줌\n",
        "# prompt : </s> label <sep> sentence[:max_idx]\n",
        "# 예시\n",
        "# 문장 : 균일가 생활용품점 (주)아성다이소(대표 박정부)는 코로나19 바이러스로 어려움을 겪고 있는 대구광역시에 행복박스를 전달했다고 10일 밝혔다.\n",
        "# subject : 아성다이소\n",
        "# object : 박정부\n",
        "# label : org:top_members/employees\n",
        "# prompt : </s>org:top_members/employees<sep>균일가 생활용품점 (주)아성다이소(대표 박정부\n",
        "\n",
        "# 또는 아래와 같은 형태로 증강\n",
        "# 문장 : 균일가 생활용품점 (주)아성다이소(대표 박정부)는 코로나19 바이러스로 어려움을 겪고 있는 대구광역시에 행복박스를 전달했다고 10일 밝혔다.\n",
        "# subject : 아성다이소\n",
        "# object : 박정부\n",
        "# label : org:top_members/employees\n",
        "# prompt : </s>org:top_members/employees<sep>(주)아성다이소(대표 박정부"
      ],
      "metadata": {
        "id": "81V_yxYqIsNF"
      },
      "execution_count": null,
      "outputs": []
    },
    {
      "cell_type": "code",
      "source": [
        "device = 'cuda'"
      ],
      "metadata": {
        "id": "dFwMs43pVggZ"
      },
      "execution_count": null,
      "outputs": []
    },
    {
      "cell_type": "code",
      "source": [
        "train_df = pd.read_csv('/content/drive/MyDrive/level2_RE/train.csv',index_col=0)\n",
        "train_df = train_df.loc[train_df.label == 'org:p'].reset_index(drop=True)"
      ],
      "metadata": {
        "id": "X9dIWVCTH5ii"
      },
      "execution_count": null,
      "outputs": []
    },
    {
      "cell_type": "code",
      "source": [
        "class GPT_Dataset(torch.utils.data.Dataset):\n",
        "    def __init__(self, dataset):\n",
        "        self.example = []\n",
        "\n",
        "        for each in dataset:\n",
        "            self.example.append({k: torch.tensor(v) for k, v in each.items()})\n",
        "\n",
        "    def __getitem__(self, idx):\n",
        "        return self.example[idx]\n",
        "\n",
        "    def __len__(self):\n",
        "        return len(self.example)\n",
        "\n",
        "def tokenized_dataset(dataset, tokenizer):\n",
        "\n",
        "    data = []\n",
        "    for idx, item in tqdm(dataset.iterrows(), desc=\"tokenizing\", total=len(dataset)):\n",
        "\n",
        "        subj_start_idx = eval(item['subject_entity'])['start_idx']\n",
        "        subj_end_idx = eval(item['subject_entity'])['end_idx']\n",
        "        obj_start_idx = eval(item['object_entity'])['start_idx']\n",
        "        obj_end_idx = eval(item['object_entity'])['end_idx']\n",
        "\n",
        "        min_idx = min([subj_start_idx, subj_end_idx, obj_start_idx, obj_end_idx])\n",
        "        max_idx = max([subj_start_idx, subj_end_idx, obj_start_idx, obj_end_idx])\n",
        "\n",
        "        tmp_sentence = '</s>'\n",
        "        tmp_sentence += item['label']\n",
        "        tmp_sentence += '<sep>'\n",
        "        tmp_sentence += item['sentence'][:max_idx+1]\n",
        "        tmp_sentence += '</s>'\n",
        "        output = tokenizer(tmp_sentence, padding=True, truncation=True, add_special_tokens=True)\n",
        "        data.append(output)\n",
        "\n",
        "    return data\n",
        "\n",
        "def load_dataset(tokenizer, dataset):\n",
        "    tokenized_data = tokenized_dataset(dataset, tokenizer)\n",
        "    GPT_dataset = GPT_Dataset(tokenized_data)\n",
        "    return GPT_dataset"
      ],
      "metadata": {
        "id": "Y5--OdyuHBH8"
      },
      "execution_count": null,
      "outputs": []
    },
    {
      "cell_type": "code",
      "source": [
        "tokenizer = PreTrainedTokenizerFast.from_pretrained(\"skt/kogpt2-base-v2\",\n",
        "  bos_token='</s>', eos_token='</s>', unk_token='<unk>',\n",
        "  pad_token='<pad>', mask_token='<mask>', sep_token='<sep>')\n",
        "\n",
        "tokenizer.padding_side = 'left'\n",
        "\n",
        "label = list(train_df.label.unique())\n",
        "tokenizer.add_tokens(label)"
      ],
      "metadata": {
        "colab": {
          "base_uri": "https://localhost:8080/",
          "height": 173,
          "referenced_widgets": [
            "7aabf138169146ea91a3efa7aed5f6e7",
            "186e39b05dfb46dda5bb8f642311acdb",
            "c00e006851e34693b79c0c495b7de054",
            "3d8fdbfc4cc64c21a91dd615e961d99e",
            "260ef8d5a7f949409937d214e32c0586",
            "ab1857010a4e419abb403227d67c4936",
            "be48f7029d144225b1b44964906a3326",
            "8ec9084047e24bf8a5cb71c5d17dcb81",
            "157707a0cb3a4f1794874ad61c0df48b",
            "63fc31c8a32149798d5005b37cc30579",
            "9220c885dd814842ba7e885a1e74e6d2",
            "076971e119694440a58ec84403c6ab25",
            "bfe67fff05eb42fb991a5b421dcfe04e",
            "8595c80b769f448d9cdddc72f83311b8",
            "2679eaa6c629484daeb7b86899e14aef",
            "30db2e1195a549ba9192756f53330a35",
            "15ab86a05e184c75bcc048454f9b2032",
            "f6f8270b09604dfcb40f43fd37d69c90",
            "22be95c801cf4b079c7b47f6b6fa7d90",
            "686015ca0a49472eae9378ba123c1cf6",
            "1100c227ff654b508861c0cf72c9fee8",
            "567d51d8acf04f5ca9d4ddf2108355c3"
          ]
        },
        "id": "xnMOzi_6HMoD",
        "outputId": "2f186cc5-43b9-4d52-de67-2d46d49cba89"
      },
      "execution_count": null,
      "outputs": [
        {
          "output_type": "display_data",
          "data": {
            "text/plain": [
              "Downloading:   0%|          | 0.00/2.83M [00:00<?, ?B/s]"
            ],
            "application/vnd.jupyter.widget-view+json": {
              "version_major": 2,
              "version_minor": 0,
              "model_id": "7aabf138169146ea91a3efa7aed5f6e7"
            }
          },
          "metadata": {}
        },
        {
          "output_type": "display_data",
          "data": {
            "text/plain": [
              "Downloading:   0%|          | 0.00/1.00k [00:00<?, ?B/s]"
            ],
            "application/vnd.jupyter.widget-view+json": {
              "version_major": 2,
              "version_minor": 0,
              "model_id": "076971e119694440a58ec84403c6ab25"
            }
          },
          "metadata": {}
        },
        {
          "output_type": "stream",
          "name": "stderr",
          "text": [
            "The tokenizer class you load from this checkpoint is not the same type as the class this function is called from. It may result in unexpected tokenization. \n",
            "The tokenizer class you load from this checkpoint is 'GPT2Tokenizer'. \n",
            "The class this function is called from is 'PreTrainedTokenizerFast'.\n",
            "Special tokens have been added in the vocabulary, make sure the associated word embeddings are fine-tuned or trained.\n"
          ]
        },
        {
          "output_type": "execute_result",
          "data": {
            "text/plain": [
              "1"
            ]
          },
          "metadata": {},
          "execution_count": 10
        }
      ]
    },
    {
      "cell_type": "code",
      "source": [
        "model = GPT2LMHeadModel.from_pretrained('/content/drive/MyDrive/level2_RE/GPT2')\n",
        "#model = GPT2LMHeadModel.from_pretrained('/content/drive/MyDrive/level2_RE/GPT2_with_label_special_token')\n",
        "#model = GPT2LMHeadModel.from_pretrained('/content/drive/MyDrive/level2_RE/GPT2_with_label_special_token_first')\n",
        "model.to(device)\n",
        "model.eval()"
      ],
      "metadata": {
        "id": "smds8LReGiMk"
      },
      "execution_count": null,
      "outputs": []
    },
    {
      "cell_type": "code",
      "source": [
        "dataset = load_dataset(tokenizer,train_df)\n",
        "data_collator = DataCollatorWithPadding(tokenizer)\n",
        "data_tobe_generated = DataLoader(dataset, batch_size=64, collate_fn=data_collator)\n",
        "len(data_tobe_generated)"
      ],
      "metadata": {
        "colab": {
          "base_uri": "https://localhost:8080/",
          "height": 86,
          "referenced_widgets": [
            "0e43f307fd4b474c9bd9fe8118bc106b",
            "aa21ca71669b4f44a5d4cee10c3d6d7f",
            "ad44e6d3a9124adaa138804fa0f9561d",
            "4644ccae44184663998563c000176257",
            "1b919450504541c682d40425b76febec",
            "b22429e2564e4289a293aa9a0c535755",
            "95dbb06d715b46fd803afacab72ae064",
            "de095b3d99f444ee84be29e8c1bc4398",
            "82b177dc5cc94d039ee57d4a8d0c978e",
            "4b97f7059464444581b86ff12abc1596",
            "7a494623ac7444ae8250e91dd236bdcd"
          ]
        },
        "id": "TuTslnomIV0Z",
        "outputId": "a9874234-51da-410d-db3f-0421a8997224"
      },
      "execution_count": null,
      "outputs": [
        {
          "output_type": "display_data",
          "data": {
            "text/plain": [
              "tokenizing:   0%|          | 0/7640 [00:00<?, ?it/s]"
            ],
            "application/vnd.jupyter.widget-view+json": {
              "version_major": 2,
              "version_minor": 0,
              "model_id": "0e43f307fd4b474c9bd9fe8118bc106b"
            }
          },
          "metadata": {}
        },
        {
          "output_type": "stream",
          "name": "stderr",
          "text": [
            "Asking to truncate to max_length but no maximum length is provided and the model has no predefined maximum length. Default to no truncation.\n"
          ]
        },
        {
          "output_type": "execute_result",
          "data": {
            "text/plain": [
              "120"
            ]
          },
          "metadata": {},
          "execution_count": 12
        }
      ]
    },
    {
      "cell_type": "code",
      "source": [
        "# import gc\n",
        "# torch.cuda.empty_cache()\n",
        "# gc.collect()"
      ],
      "metadata": {
        "id": "tnt-Q6T-k4zR"
      },
      "execution_count": null,
      "outputs": []
    },
    {
      "cell_type": "code",
      "source": [
        "output = []\n",
        "for each in tqdm(data_tobe_generated):\n",
        "    \n",
        "    sample_outputs = model.generate(\n",
        "        each['input_ids'].to(device),\n",
        "        do_sample=True, \n",
        "        max_length=len(each['input_ids'][0]) + 50, \n",
        "        top_k=50, \n",
        "        top_p=0.95, \n",
        "        num_return_sequences=1,\n",
        "        eos_token_id=tokenizer.encode('</s>')[0],\n",
        "        no_repeat_ngram_size=2,\n",
        "        early_stopping=True\n",
        "    )\n",
        "\n",
        "    result = tokenizer.batch_decode(sample_outputs.tolist(), skip_special_tokens=True)\n",
        "    decoded_sentence = list(map(lambda x : ' '.join(x.split(' ')[1:]),result))\n",
        "\n",
        "    output.extend(decoded_sentence)\n"
      ],
      "metadata": {
        "colab": {
          "base_uri": "https://localhost:8080/",
          "height": 87,
          "referenced_widgets": [
            "0a07c593bc8743b1b179b03534fb60e1",
            "e6eb6846793b4009ac5697b9ce9a5280",
            "71fe202d17614cfbb94727a54cbbd757",
            "edaefbd76fa049f482a2487a40fa7fb2",
            "7227b4fc74ac4aa08a04d2b5962f8513",
            "3e2abcc70b714e2a9af4b8d3e27e7a63",
            "3b1161b90d0f4dd3a832990cdcacadad",
            "72513e0ad31c4ee0accc065aedf75ace",
            "89556c0429764941a880de51024d081c",
            "2e88f67bbe0d4d058cbd7de574573189",
            "1ba5eb69d5f943748aac98dba9410ae0"
          ]
        },
        "id": "bih3CK2hIoid",
        "outputId": "b3ee45fa-438f-40e1-ba52-3a18c3128b04"
      },
      "execution_count": null,
      "outputs": [
        {
          "output_type": "display_data",
          "data": {
            "text/plain": [
              "  0%|          | 0/120 [00:00<?, ?it/s]"
            ],
            "application/vnd.jupyter.widget-view+json": {
              "version_major": 2,
              "version_minor": 0,
              "model_id": "0a07c593bc8743b1b179b03534fb60e1"
            }
          },
          "metadata": {}
        },
        {
          "output_type": "stream",
          "name": "stderr",
          "text": [
            "You're using a PreTrainedTokenizerFast tokenizer. Please note that with a fast tokenizer, using the `__call__` method is faster than using a method to encode the text followed by a call to the `pad` method to get a padded encoding.\n"
          ]
        }
      ]
    },
    {
      "cell_type": "code",
      "source": [
        "idx = 300\n",
        "print(train_df.sentence.iloc[idx])\n",
        "print(train_df.subject_entity.iloc[idx], train_df.object_entity.iloc[idx])\n",
        "print(output[idx])"
      ],
      "metadata": {
        "colab": {
          "base_uri": "https://localhost:8080/"
        },
        "id": "O8PP17CXkkKX",
        "outputId": "7cc7c227-9495-46a7-855e-4e5d195b02de"
      },
      "execution_count": null,
      "outputs": [
        {
          "output_type": "stream",
          "name": "stdout",
          "text": [
            "그 당시 NHL 캘거리 플레임스에 4순위로도 지명되었고, 미네소타 대학에서는 야구와 아이스하키 선수를 겸업하는 조건으로 장학금을 제의하기도 했다.\n",
            "{'word': 'NHL', 'start_idx': 5, 'end_idx': 7, 'type': 'ORG'} {'word': '아이스하키', 'start_idx': 47, 'end_idx': 51, 'type': 'POH'}\n",
            "그 당시 NHL 캘거리 플레임스에 4순위로도 지명되었고, 미네소타 대학에서는 야구와 아이스하키 외야수로서의 길을 택하였다.\n"
          ]
        }
      ]
    },
    {
      "cell_type": "code",
      "source": [
        "train_df.sentence = output"
      ],
      "metadata": {
        "id": "VNwsJ9Nb15sU"
      },
      "execution_count": null,
      "outputs": []
    },
    {
      "cell_type": "code",
      "source": [
        "len(output)"
      ],
      "metadata": {
        "colab": {
          "base_uri": "https://localhost:8080/"
        },
        "id": "qpdf4ikT2Miv",
        "outputId": "0269ec9b-6129-4e8e-c10b-ae864bb32dc6"
      },
      "execution_count": null,
      "outputs": [
        {
          "output_type": "execute_result",
          "data": {
            "text/plain": [
              "7640"
            ]
          },
          "metadata": {},
          "execution_count": 23
        }
      ]
    },
    {
      "cell_type": "code",
      "source": [
        "train_df.to_csv('no_relation.csv')"
      ],
      "metadata": {
        "id": "TKcWSSbs2E8S"
      },
      "execution_count": null,
      "outputs": []
    },
    {
      "cell_type": "markdown",
      "source": [
        "# GPT-2 data generate-2"
      ],
      "metadata": {
        "id": "VWX5yiKaO6p-"
      }
    },
    {
      "cell_type": "code",
      "source": [
        "def find_nth_overlapping(haystack, needle, n):\n",
        "    start = haystack.find(needle)\n",
        "    while start >= 0 and n > 1:\n",
        "        start = haystack.find(needle, start+1)\n",
        "        n -= 1\n",
        "    return start"
      ],
      "metadata": {
        "id": "ZnzCHm-bbfG8"
      },
      "execution_count": null,
      "outputs": []
    },
    {
      "cell_type": "code",
      "source": [
        "train_df = pd.read_csv('/content/drive/MyDrive/level2_RE/train.csv',index_col=0)"
      ],
      "metadata": {
        "id": "_quGyrwqSzJX"
      },
      "execution_count": null,
      "outputs": []
    },
    {
      "cell_type": "code",
      "source": [
        "to_generated_df = train_df.loc[train_df.label == 'per:origin'].reset_index(drop=True)"
      ],
      "metadata": {
        "id": "IqxFtd3Vvk9Q"
      },
      "execution_count": null,
      "outputs": []
    },
    {
      "cell_type": "code",
      "source": [
        "class GPT_Dataset(torch.utils.data.Dataset):\n",
        "    def __init__(self, dataset):\n",
        "        self.example = []\n",
        "\n",
        "        for each in dataset:\n",
        "            self.example.append({k: torch.tensor(v) for k, v in each.items()})\n",
        "\n",
        "    def __getitem__(self, idx):\n",
        "        return self.example[idx]\n",
        "\n",
        "    def __len__(self):\n",
        "        return len(self.example)\n",
        "\n",
        "def tokenized_dataset(dataset, tokenizer):\n",
        "\n",
        "    data = []\n",
        "    for idx, item in tqdm(dataset.iterrows(), desc=\"tokenizing\", total=len(dataset)):\n",
        "\n",
        "        subj_start_idx = eval(item['subject_entity'])['start_idx']\n",
        "        subj_end_idx = eval(item['subject_entity'])['end_idx']\n",
        "        obj_start_idx = eval(item['object_entity'])['start_idx']\n",
        "        obj_end_idx = eval(item['object_entity'])['end_idx']\n",
        "\n",
        "        min_idx = min([subj_start_idx, obj_start_idx])\n",
        "        max_idx = max([subj_end_idx, obj_end_idx])\n",
        "\n",
        "        k_idx = find_nth_overlapping(item['sentence'][max_idx:],' ',1)\n",
        "\n",
        "        tmp_sentence = '</s>'\n",
        "        tmp_sentence += item['label']\n",
        "        tmp_sentence += '<sep>'\n",
        "        tmp_sentence += item['sentence'][:max_idx+k_idx]\n",
        "        tmp_sentence += '</s>'\n",
        "\n",
        "        output = tokenizer(tmp_sentence, padding=True, truncation=True, add_special_tokens=True)\n",
        "        data.append(output)\n",
        "\n",
        "    return data\n",
        "\n",
        "def load_dataset(tokenizer, dataset):\n",
        "    tokenized_data = tokenized_dataset(dataset, tokenizer)\n",
        "    GPT_dataset = GPT_Dataset(tokenized_data)\n",
        "    return GPT_dataset"
      ],
      "metadata": {
        "id": "DdNHl7d1PWWe"
      },
      "execution_count": null,
      "outputs": []
    },
    {
      "cell_type": "code",
      "source": [
        "tokenizer = PreTrainedTokenizerFast.from_pretrained(\"skt/kogpt2-base-v2\",\n",
        "  bos_token='</s>', eos_token='</s>', unk_token='<unk>',\n",
        "  pad_token='<pad>', mask_token='<mask>', sep_token='<sep>')\n",
        "\n",
        "tokenizer.padding_side = 'left'\n",
        "\n",
        "label = list(train_df.label.unique())\n",
        "tokenizer.add_tokens(label)"
      ],
      "metadata": {
        "colab": {
          "base_uri": "https://localhost:8080/"
        },
        "id": "XjN64huSS1Fo",
        "outputId": "13477085-ccf7-4cf5-db72-954b2533554c"
      },
      "execution_count": null,
      "outputs": [
        {
          "output_type": "stream",
          "name": "stderr",
          "text": [
            "The tokenizer class you load from this checkpoint is not the same type as the class this function is called from. It may result in unexpected tokenization. \n",
            "The tokenizer class you load from this checkpoint is 'GPT2Tokenizer'. \n",
            "The class this function is called from is 'PreTrainedTokenizerFast'.\n",
            "Special tokens have been added in the vocabulary, make sure the associated word embeddings are fine-tuned or trained.\n"
          ]
        },
        {
          "output_type": "execute_result",
          "data": {
            "text/plain": [
              "30"
            ]
          },
          "metadata": {},
          "execution_count": 87
        }
      ]
    },
    {
      "cell_type": "code",
      "source": [
        "model = GPT2LMHeadModel.from_pretrained('/content/drive/MyDrive/level2_RE/GPT2')\n",
        "#model = GPT2LMHeadModel.from_pretrained('/content/drive/MyDrive/level2_RE/GPT2_with_label_special_token')\n",
        "#model = GPT2LMHeadModel.from_pretrained('/content/drive/MyDrive/level2_RE/GPT2_with_label_special_token_first')\n",
        "model.to(device)\n",
        "model.eval()"
      ],
      "metadata": {
        "id": "okAEM7n3S1H1"
      },
      "execution_count": null,
      "outputs": []
    },
    {
      "cell_type": "code",
      "source": [
        "dataset = load_dataset(tokenizer,to_generated_df)\n",
        "data_collator = DataCollatorWithPadding(tokenizer)\n",
        "data_tobe_generated = DataLoader(dataset, batch_size=128, collate_fn=data_collator)\n",
        "len(data_tobe_generated)"
      ],
      "metadata": {
        "colab": {
          "base_uri": "https://localhost:8080/",
          "height": 86,
          "referenced_widgets": [
            "77b64d0d14a04c73ad9f9d137634a410",
            "3c9f69506efb4babb98d279cd57b6acc",
            "f84fd02642b34b62adfb274080630b06",
            "41d397e32ef04751b83e92adbbd519e5",
            "b4734dc108664d1abd3763c929c00aab",
            "3539797bebe742debd1bd9ed0d75f9b9",
            "1f0c95296cae443d956fef2fc2296e45",
            "531cabda9e8e43dfa330f520638ff4b9",
            "e7f0fff6184b426bafc6bec43fb1e019",
            "6ca11c33e6d74d1ba5dfe24559416ba8",
            "e910b89a67854f88ae99d3a5e987f6dd"
          ]
        },
        "id": "sPtYNFt_S1KK",
        "outputId": "59a7751c-0f29-493f-a78c-86e75ff34890"
      },
      "execution_count": null,
      "outputs": [
        {
          "output_type": "display_data",
          "data": {
            "text/plain": [
              "tokenizing:   0%|          | 0/996 [00:00<?, ?it/s]"
            ],
            "application/vnd.jupyter.widget-view+json": {
              "version_major": 2,
              "version_minor": 0,
              "model_id": "77b64d0d14a04c73ad9f9d137634a410"
            }
          },
          "metadata": {}
        },
        {
          "output_type": "stream",
          "name": "stderr",
          "text": [
            "Asking to truncate to max_length but no maximum length is provided and the model has no predefined maximum length. Default to no truncation.\n"
          ]
        },
        {
          "output_type": "execute_result",
          "data": {
            "text/plain": [
              "8"
            ]
          },
          "metadata": {},
          "execution_count": 89
        }
      ]
    },
    {
      "cell_type": "code",
      "source": [
        "output = []\n",
        "\n",
        "for each in tqdm(data_tobe_generated):\n",
        "    \n",
        "    sample_outputs = model.generate(\n",
        "        each['input_ids'].to(device),\n",
        "        do_sample=True, \n",
        "        max_length=len(each['input_ids'][0]) + 100, \n",
        "        top_k=50, \n",
        "        top_p=0.95, \n",
        "        num_return_sequences=1,\n",
        "        eos_token_id=tokenizer.encode('</s>')[0],\n",
        "        no_repeat_ngram_size=2,\n",
        "        early_stopping=True\n",
        "    )\n",
        "\n",
        "    result = tokenizer.batch_decode(sample_outputs.tolist(), skip_special_tokens=True)\n",
        "    decoded_sentence = list(map(lambda x : ' '.join(x.split(' ')[1:]),result))\n",
        "\n",
        "    output.extend(decoded_sentence)"
      ],
      "metadata": {
        "colab": {
          "base_uri": "https://localhost:8080/",
          "height": 87,
          "referenced_widgets": [
            "c0497e3116af4db895129bb90551a500",
            "bbfe66389a3443c78f8388bfda38cb4f",
            "0e765650c14d4cbea8d5a18daca98ae6",
            "eb4830bc82d94dbcb3a3bded57164e09",
            "e9de5c391953475b98a5ca0deb936ad1",
            "1211a87c771e4550a32cef93926b7e7a",
            "baf7b1f37b8f46d8bb4a06837682d16c",
            "e8d3ae26d7744ad5815d1c499e2b1445",
            "43fd6daaadb7473ebcfe00589442b9a3",
            "d134df3e1c3e4dff837bfbc85ae990f0",
            "17ec7ce4b30441cab1dfdaa92d06f20c"
          ]
        },
        "id": "Z0t7t2k6S1MN",
        "outputId": "edad2ac9-a7fc-4631-f58b-885f37bee741"
      },
      "execution_count": null,
      "outputs": [
        {
          "output_type": "display_data",
          "data": {
            "text/plain": [
              "  0%|          | 0/8 [00:00<?, ?it/s]"
            ],
            "application/vnd.jupyter.widget-view+json": {
              "version_major": 2,
              "version_minor": 0,
              "model_id": "c0497e3116af4db895129bb90551a500"
            }
          },
          "metadata": {}
        },
        {
          "output_type": "stream",
          "name": "stderr",
          "text": [
            "You're using a PreTrainedTokenizerFast tokenizer. Please note that with a fast tokenizer, using the `__call__` method is faster than using a method to encode the text followed by a call to the `pad` method to get a padded encoding.\n"
          ]
        }
      ]
    },
    {
      "cell_type": "code",
      "source": [
        "idx = 10\n",
        "print(to_generated_df.sentence.iloc[idx])\n",
        "print(to_generated_df.subject_entity.iloc[idx], to_generated_df.object_entity.iloc[idx])\n",
        "print(output[idx])"
      ],
      "metadata": {
        "colab": {
          "base_uri": "https://localhost:8080/"
        },
        "id": "FFeM_NOdVnG-",
        "outputId": "58d554ac-cef3-45c9-be4a-8d0cc620b2dc"
      },
      "execution_count": null,
      "outputs": [
        {
          "output_type": "stream",
          "name": "stdout",
          "text": [
            "나중에는 도조 히데키의 일본 제국 정부와도 손을 잡아 추축국을 만들었다.\n",
            "{'word': '도조 히데키', 'start_idx': 5, 'end_idx': 10, 'type': 'PER'} {'word': '일본 제국', 'start_idx': 13, 'end_idx': 17, 'type': 'ORG'}\n",
            "나중에는 도조 히데키의 일본 제국 히데키는 메이지 유신 말기에 쇼군인 도쿠가와 이에모치의 양자가 된다.\n"
          ]
        }
      ]
    },
    {
      "cell_type": "code",
      "source": [
        "to_generated_df.sentence = output"
      ],
      "metadata": {
        "id": "0nEwgamo2LSP"
      },
      "execution_count": null,
      "outputs": []
    },
    {
      "cell_type": "code",
      "source": [
        "to_generated_df"
      ],
      "metadata": {
        "colab": {
          "base_uri": "https://localhost:8080/",
          "height": 468
        },
        "id": "6dufIfcyB_uz",
        "outputId": "34cf9ed4-18f8-46a2-8d16-bda817bde185"
      },
      "execution_count": null,
      "outputs": [
        {
          "output_type": "execute_result",
          "data": {
            "text/plain": [
              "                                              sentence  \\\n",
              "0     하비에르 파스토레는 아르헨티나 아르헨티나인 어머니 프란치스카 프루소 사이에서 태어났다.   \n",
              "1    1900년, 의화단의 난이 일어나 청나라 조정이 열강에 선전 포고를 했을 때에, 이...   \n",
              "2                 민 리(1977년 6월 27일 ~)는 베트남계 캐나다인 배우이다.   \n",
              "3    리사 디 배나는 중국에서 개최된 2007년 FIFA 여자 월드컵에서 노르웨이와의 조...   \n",
              "4    김영삼 대통령 퇴임 후 미국 아이오와 주립대학 객원연구원으로 있다가, 1999년 귀...   \n",
              "..                                                 ...   \n",
              "991  키라 코르피는 2005년 핀란드 스웨덴어인 타란토어 단어 garanto 에서 유래한...   \n",
              "992  2016년 20세기 멕시코를 대표하는 부부 프리다 칼로와 카를로스 슬림, 카를로스 ...   \n",
              "993  이들은 1882년 6월 6일자로 청나라 마건충(馬建忠)·정여창 아편 흡연자 건륭제의...   \n",
              "994  그 어떤 수학자들보다 많은 책을 집필한 것으로 유명한 레온하르트 오일러, 오일러에게...   \n",
              "995  잉글랜드 귀국 이전 몬트리올 점령전에서도 제프리 애머스트 프랑스 포(Pau) 출신이...   \n",
              "\n",
              "                                        subject_entity  \\\n",
              "0    {'word': '하비에르 파스토레', 'start_idx': 0, 'end_idx...   \n",
              "1    {'word': '유곤일', 'start_idx': 55, 'end_idx': 57...   \n",
              "2    {'word': '민 리', 'start_idx': 0, 'end_idx': 2, ...   \n",
              "3    {'word': '리사 디 배나', 'start_idx': 0, 'end_idx':...   \n",
              "4    {'word': '노무현', 'start_idx': 95, 'end_idx': 97...   \n",
              "..                                                 ...   \n",
              "991  {'word': '키라 코르피', 'start_idx': 0, 'end_idx': ...   \n",
              "992  {'word': '프리다 칼로', 'start_idx': 24, 'end_idx':...   \n",
              "993  {'word': '마건충', 'start_idx': 22, 'end_idx': 24...   \n",
              "994  {'word': '레온하르트 오일러', 'start_idx': 30, 'end_id...   \n",
              "995  {'word': '제프리 애머스트', 'start_idx': 23, 'end_idx...   \n",
              "\n",
              "                                         object_entity       label     source  \n",
              "0    {'word': '아르헨티나', 'start_idx': 11, 'end_idx': ...  per:origin  wikipedia  \n",
              "1    {'word': '청나라', 'start_idx': 19, 'end_idx': 21...  per:origin  wikipedia  \n",
              "2    {'word': '캐나다', 'start_idx': 26, 'end_idx': 28...  per:origin  wikipedia  \n",
              "3    {'word': '오스트레일리아', 'start_idx': 54, 'end_idx'...  per:origin  wikipedia  \n",
              "4    {'word': '대한민국', 'start_idx': 51, 'end_idx': 5...  per:origin  wikipedia  \n",
              "..                                                 ...         ...        ...  \n",
              "991  {'word': '핀란드', 'start_idx': 14, 'end_idx': 16...  per:origin  wikipedia  \n",
              "992  {'word': '멕시코', 'start_idx': 11, 'end_idx': 13...  per:origin  wikipedia  \n",
              "993  {'word': '청나라', 'start_idx': 18, 'end_idx': 20...  per:origin  wikipedia  \n",
              "994  {'word': '스위스', 'start_idx': 67, 'end_idx': 69...  per:origin  wikipedia  \n",
              "995  {'word': '잉글랜드', 'start_idx': 0, 'end_idx': 3,...  per:origin  wikipedia  \n",
              "\n",
              "[996 rows x 5 columns]"
            ],
            "text/html": [
              "\n",
              "  <div id=\"df-366ebeb9-099d-481d-a241-81b1c5d5a7a9\">\n",
              "    <div class=\"colab-df-container\">\n",
              "      <div>\n",
              "<style scoped>\n",
              "    .dataframe tbody tr th:only-of-type {\n",
              "        vertical-align: middle;\n",
              "    }\n",
              "\n",
              "    .dataframe tbody tr th {\n",
              "        vertical-align: top;\n",
              "    }\n",
              "\n",
              "    .dataframe thead th {\n",
              "        text-align: right;\n",
              "    }\n",
              "</style>\n",
              "<table border=\"1\" class=\"dataframe\">\n",
              "  <thead>\n",
              "    <tr style=\"text-align: right;\">\n",
              "      <th></th>\n",
              "      <th>sentence</th>\n",
              "      <th>subject_entity</th>\n",
              "      <th>object_entity</th>\n",
              "      <th>label</th>\n",
              "      <th>source</th>\n",
              "    </tr>\n",
              "  </thead>\n",
              "  <tbody>\n",
              "    <tr>\n",
              "      <th>0</th>\n",
              "      <td>하비에르 파스토레는 아르헨티나 아르헨티나인 어머니 프란치스카 프루소 사이에서 태어났다.</td>\n",
              "      <td>{'word': '하비에르 파스토레', 'start_idx': 0, 'end_idx...</td>\n",
              "      <td>{'word': '아르헨티나', 'start_idx': 11, 'end_idx': ...</td>\n",
              "      <td>per:origin</td>\n",
              "      <td>wikipedia</td>\n",
              "    </tr>\n",
              "    <tr>\n",
              "      <th>1</th>\n",
              "      <td>1900년, 의화단의 난이 일어나 청나라 조정이 열강에 선전 포고를 했을 때에, 이...</td>\n",
              "      <td>{'word': '유곤일', 'start_idx': 55, 'end_idx': 57...</td>\n",
              "      <td>{'word': '청나라', 'start_idx': 19, 'end_idx': 21...</td>\n",
              "      <td>per:origin</td>\n",
              "      <td>wikipedia</td>\n",
              "    </tr>\n",
              "    <tr>\n",
              "      <th>2</th>\n",
              "      <td>민 리(1977년 6월 27일 ~)는 베트남계 캐나다인 배우이다.</td>\n",
              "      <td>{'word': '민 리', 'start_idx': 0, 'end_idx': 2, ...</td>\n",
              "      <td>{'word': '캐나다', 'start_idx': 26, 'end_idx': 28...</td>\n",
              "      <td>per:origin</td>\n",
              "      <td>wikipedia</td>\n",
              "    </tr>\n",
              "    <tr>\n",
              "      <th>3</th>\n",
              "      <td>리사 디 배나는 중국에서 개최된 2007년 FIFA 여자 월드컵에서 노르웨이와의 조...</td>\n",
              "      <td>{'word': '리사 디 배나', 'start_idx': 0, 'end_idx':...</td>\n",
              "      <td>{'word': '오스트레일리아', 'start_idx': 54, 'end_idx'...</td>\n",
              "      <td>per:origin</td>\n",
              "      <td>wikipedia</td>\n",
              "    </tr>\n",
              "    <tr>\n",
              "      <th>4</th>\n",
              "      <td>김영삼 대통령 퇴임 후 미국 아이오와 주립대학 객원연구원으로 있다가, 1999년 귀...</td>\n",
              "      <td>{'word': '노무현', 'start_idx': 95, 'end_idx': 97...</td>\n",
              "      <td>{'word': '대한민국', 'start_idx': 51, 'end_idx': 5...</td>\n",
              "      <td>per:origin</td>\n",
              "      <td>wikipedia</td>\n",
              "    </tr>\n",
              "    <tr>\n",
              "      <th>...</th>\n",
              "      <td>...</td>\n",
              "      <td>...</td>\n",
              "      <td>...</td>\n",
              "      <td>...</td>\n",
              "      <td>...</td>\n",
              "    </tr>\n",
              "    <tr>\n",
              "      <th>991</th>\n",
              "      <td>키라 코르피는 2005년 핀란드 스웨덴어인 타란토어 단어 garanto 에서 유래한...</td>\n",
              "      <td>{'word': '키라 코르피', 'start_idx': 0, 'end_idx': ...</td>\n",
              "      <td>{'word': '핀란드', 'start_idx': 14, 'end_idx': 16...</td>\n",
              "      <td>per:origin</td>\n",
              "      <td>wikipedia</td>\n",
              "    </tr>\n",
              "    <tr>\n",
              "      <th>992</th>\n",
              "      <td>2016년 20세기 멕시코를 대표하는 부부 프리다 칼로와 카를로스 슬림, 카를로스 ...</td>\n",
              "      <td>{'word': '프리다 칼로', 'start_idx': 24, 'end_idx':...</td>\n",
              "      <td>{'word': '멕시코', 'start_idx': 11, 'end_idx': 13...</td>\n",
              "      <td>per:origin</td>\n",
              "      <td>wikipedia</td>\n",
              "    </tr>\n",
              "    <tr>\n",
              "      <th>993</th>\n",
              "      <td>이들은 1882년 6월 6일자로 청나라 마건충(馬建忠)·정여창 아편 흡연자 건륭제의...</td>\n",
              "      <td>{'word': '마건충', 'start_idx': 22, 'end_idx': 24...</td>\n",
              "      <td>{'word': '청나라', 'start_idx': 18, 'end_idx': 20...</td>\n",
              "      <td>per:origin</td>\n",
              "      <td>wikipedia</td>\n",
              "    </tr>\n",
              "    <tr>\n",
              "      <th>994</th>\n",
              "      <td>그 어떤 수학자들보다 많은 책을 집필한 것으로 유명한 레온하르트 오일러, 오일러에게...</td>\n",
              "      <td>{'word': '레온하르트 오일러', 'start_idx': 30, 'end_id...</td>\n",
              "      <td>{'word': '스위스', 'start_idx': 67, 'end_idx': 69...</td>\n",
              "      <td>per:origin</td>\n",
              "      <td>wikipedia</td>\n",
              "    </tr>\n",
              "    <tr>\n",
              "      <th>995</th>\n",
              "      <td>잉글랜드 귀국 이전 몬트리올 점령전에서도 제프리 애머스트 프랑스 포(Pau) 출신이...</td>\n",
              "      <td>{'word': '제프리 애머스트', 'start_idx': 23, 'end_idx...</td>\n",
              "      <td>{'word': '잉글랜드', 'start_idx': 0, 'end_idx': 3,...</td>\n",
              "      <td>per:origin</td>\n",
              "      <td>wikipedia</td>\n",
              "    </tr>\n",
              "  </tbody>\n",
              "</table>\n",
              "<p>996 rows × 5 columns</p>\n",
              "</div>\n",
              "      <button class=\"colab-df-convert\" onclick=\"convertToInteractive('df-366ebeb9-099d-481d-a241-81b1c5d5a7a9')\"\n",
              "              title=\"Convert this dataframe to an interactive table.\"\n",
              "              style=\"display:none;\">\n",
              "        \n",
              "  <svg xmlns=\"http://www.w3.org/2000/svg\" height=\"24px\"viewBox=\"0 0 24 24\"\n",
              "       width=\"24px\">\n",
              "    <path d=\"M0 0h24v24H0V0z\" fill=\"none\"/>\n",
              "    <path d=\"M18.56 5.44l.94 2.06.94-2.06 2.06-.94-2.06-.94-.94-2.06-.94 2.06-2.06.94zm-11 1L8.5 8.5l.94-2.06 2.06-.94-2.06-.94L8.5 2.5l-.94 2.06-2.06.94zm10 10l.94 2.06.94-2.06 2.06-.94-2.06-.94-.94-2.06-.94 2.06-2.06.94z\"/><path d=\"M17.41 7.96l-1.37-1.37c-.4-.4-.92-.59-1.43-.59-.52 0-1.04.2-1.43.59L10.3 9.45l-7.72 7.72c-.78.78-.78 2.05 0 2.83L4 21.41c.39.39.9.59 1.41.59.51 0 1.02-.2 1.41-.59l7.78-7.78 2.81-2.81c.8-.78.8-2.07 0-2.86zM5.41 20L4 18.59l7.72-7.72 1.47 1.35L5.41 20z\"/>\n",
              "  </svg>\n",
              "      </button>\n",
              "      \n",
              "  <style>\n",
              "    .colab-df-container {\n",
              "      display:flex;\n",
              "      flex-wrap:wrap;\n",
              "      gap: 12px;\n",
              "    }\n",
              "\n",
              "    .colab-df-convert {\n",
              "      background-color: #E8F0FE;\n",
              "      border: none;\n",
              "      border-radius: 50%;\n",
              "      cursor: pointer;\n",
              "      display: none;\n",
              "      fill: #1967D2;\n",
              "      height: 32px;\n",
              "      padding: 0 0 0 0;\n",
              "      width: 32px;\n",
              "    }\n",
              "\n",
              "    .colab-df-convert:hover {\n",
              "      background-color: #E2EBFA;\n",
              "      box-shadow: 0px 1px 2px rgba(60, 64, 67, 0.3), 0px 1px 3px 1px rgba(60, 64, 67, 0.15);\n",
              "      fill: #174EA6;\n",
              "    }\n",
              "\n",
              "    [theme=dark] .colab-df-convert {\n",
              "      background-color: #3B4455;\n",
              "      fill: #D2E3FC;\n",
              "    }\n",
              "\n",
              "    [theme=dark] .colab-df-convert:hover {\n",
              "      background-color: #434B5C;\n",
              "      box-shadow: 0px 1px 3px 1px rgba(0, 0, 0, 0.15);\n",
              "      filter: drop-shadow(0px 1px 2px rgba(0, 0, 0, 0.3));\n",
              "      fill: #FFFFFF;\n",
              "    }\n",
              "  </style>\n",
              "\n",
              "      <script>\n",
              "        const buttonEl =\n",
              "          document.querySelector('#df-366ebeb9-099d-481d-a241-81b1c5d5a7a9 button.colab-df-convert');\n",
              "        buttonEl.style.display =\n",
              "          google.colab.kernel.accessAllowed ? 'block' : 'none';\n",
              "\n",
              "        async function convertToInteractive(key) {\n",
              "          const element = document.querySelector('#df-366ebeb9-099d-481d-a241-81b1c5d5a7a9');\n",
              "          const dataTable =\n",
              "            await google.colab.kernel.invokeFunction('convertToInteractive',\n",
              "                                                     [key], {});\n",
              "          if (!dataTable) return;\n",
              "\n",
              "          const docLinkHtml = 'Like what you see? Visit the ' +\n",
              "            '<a target=\"_blank\" href=https://colab.research.google.com/notebooks/data_table.ipynb>data table notebook</a>'\n",
              "            + ' to learn more about interactive tables.';\n",
              "          element.innerHTML = '';\n",
              "          dataTable['output_type'] = 'display_data';\n",
              "          await google.colab.output.renderOutput(dataTable, element);\n",
              "          const docLink = document.createElement('div');\n",
              "          docLink.innerHTML = docLinkHtml;\n",
              "          element.appendChild(docLink);\n",
              "        }\n",
              "      </script>\n",
              "    </div>\n",
              "  </div>\n",
              "  "
            ]
          },
          "metadata": {},
          "execution_count": 93
        }
      ]
    },
    {
      "cell_type": "code",
      "source": [
        "to_generated_df.to_csv('per:origin.csv')"
      ],
      "metadata": {
        "id": "kE8e4wMg5P-d"
      },
      "execution_count": null,
      "outputs": []
    }
  ]
}