{
  "nbformat": 4,
  "nbformat_minor": 0,
  "metadata": {
    "colab": {
      "provenance": []
    },
    "kernelspec": {
      "name": "python3",
      "display_name": "Python 3"
    },
    "language_info": {
      "name": "python"
    },
    "accelerator": "GPU",
    "gpuClass": "premium",
    "widgets": {
      "application/vnd.jupyter.widget-state+json": {
        "75e8bf3fc8594eb5aa70659f9a7a3114": {
          "model_module": "@jupyter-widgets/controls",
          "model_name": "HBoxModel",
          "model_module_version": "1.5.0",
          "state": {
            "_dom_classes": [],
            "_model_module": "@jupyter-widgets/controls",
            "_model_module_version": "1.5.0",
            "_model_name": "HBoxModel",
            "_view_count": null,
            "_view_module": "@jupyter-widgets/controls",
            "_view_module_version": "1.5.0",
            "_view_name": "HBoxView",
            "box_style": "",
            "children": [
              "IPY_MODEL_8bf1b7d4e89842ae8491ea05fe9a8937",
              "IPY_MODEL_b1987a4d2f63470b89a5251b34ccda0b",
              "IPY_MODEL_b84d432117744f24ba752770a8eda982"
            ],
            "layout": "IPY_MODEL_44c2cd9ddc4a4b0881875f45ade0a1c9"
          }
        },
        "8bf1b7d4e89842ae8491ea05fe9a8937": {
          "model_module": "@jupyter-widgets/controls",
          "model_name": "HTMLModel",
          "model_module_version": "1.5.0",
          "state": {
            "_dom_classes": [],
            "_model_module": "@jupyter-widgets/controls",
            "_model_module_version": "1.5.0",
            "_model_name": "HTMLModel",
            "_view_count": null,
            "_view_module": "@jupyter-widgets/controls",
            "_view_module_version": "1.5.0",
            "_view_name": "HTMLView",
            "description": "",
            "description_tooltip": null,
            "layout": "IPY_MODEL_389aaf34dfb14989a82fb529bdbf9a12",
            "placeholder": "​",
            "style": "IPY_MODEL_401d65b206c04152acf520b1bba4fed0",
            "value": "tokenizing: 100%"
          }
        },
        "b1987a4d2f63470b89a5251b34ccda0b": {
          "model_module": "@jupyter-widgets/controls",
          "model_name": "FloatProgressModel",
          "model_module_version": "1.5.0",
          "state": {
            "_dom_classes": [],
            "_model_module": "@jupyter-widgets/controls",
            "_model_module_version": "1.5.0",
            "_model_name": "FloatProgressModel",
            "_view_count": null,
            "_view_module": "@jupyter-widgets/controls",
            "_view_module_version": "1.5.0",
            "_view_name": "ProgressView",
            "bar_style": "success",
            "description": "",
            "description_tooltip": null,
            "layout": "IPY_MODEL_b44c1d050bf04befb0466100d90add88",
            "max": 25976,
            "min": 0,
            "orientation": "horizontal",
            "style": "IPY_MODEL_6dafe96fba2547ba9b31a1fa9dd4b2fe",
            "value": 25976
          }
        },
        "b84d432117744f24ba752770a8eda982": {
          "model_module": "@jupyter-widgets/controls",
          "model_name": "HTMLModel",
          "model_module_version": "1.5.0",
          "state": {
            "_dom_classes": [],
            "_model_module": "@jupyter-widgets/controls",
            "_model_module_version": "1.5.0",
            "_model_name": "HTMLModel",
            "_view_count": null,
            "_view_module": "@jupyter-widgets/controls",
            "_view_module_version": "1.5.0",
            "_view_name": "HTMLView",
            "description": "",
            "description_tooltip": null,
            "layout": "IPY_MODEL_e24d731eb2494a3cb5ac5776b9b44e7e",
            "placeholder": "​",
            "style": "IPY_MODEL_8ca522338d1342698868ab8c317e0686",
            "value": " 25976/25976 [00:10&lt;00:00, 2472.63it/s]"
          }
        },
        "44c2cd9ddc4a4b0881875f45ade0a1c9": {
          "model_module": "@jupyter-widgets/base",
          "model_name": "LayoutModel",
          "model_module_version": "1.2.0",
          "state": {
            "_model_module": "@jupyter-widgets/base",
            "_model_module_version": "1.2.0",
            "_model_name": "LayoutModel",
            "_view_count": null,
            "_view_module": "@jupyter-widgets/base",
            "_view_module_version": "1.2.0",
            "_view_name": "LayoutView",
            "align_content": null,
            "align_items": null,
            "align_self": null,
            "border": null,
            "bottom": null,
            "display": null,
            "flex": null,
            "flex_flow": null,
            "grid_area": null,
            "grid_auto_columns": null,
            "grid_auto_flow": null,
            "grid_auto_rows": null,
            "grid_column": null,
            "grid_gap": null,
            "grid_row": null,
            "grid_template_areas": null,
            "grid_template_columns": null,
            "grid_template_rows": null,
            "height": null,
            "justify_content": null,
            "justify_items": null,
            "left": null,
            "margin": null,
            "max_height": null,
            "max_width": null,
            "min_height": null,
            "min_width": null,
            "object_fit": null,
            "object_position": null,
            "order": null,
            "overflow": null,
            "overflow_x": null,
            "overflow_y": null,
            "padding": null,
            "right": null,
            "top": null,
            "visibility": null,
            "width": null
          }
        },
        "389aaf34dfb14989a82fb529bdbf9a12": {
          "model_module": "@jupyter-widgets/base",
          "model_name": "LayoutModel",
          "model_module_version": "1.2.0",
          "state": {
            "_model_module": "@jupyter-widgets/base",
            "_model_module_version": "1.2.0",
            "_model_name": "LayoutModel",
            "_view_count": null,
            "_view_module": "@jupyter-widgets/base",
            "_view_module_version": "1.2.0",
            "_view_name": "LayoutView",
            "align_content": null,
            "align_items": null,
            "align_self": null,
            "border": null,
            "bottom": null,
            "display": null,
            "flex": null,
            "flex_flow": null,
            "grid_area": null,
            "grid_auto_columns": null,
            "grid_auto_flow": null,
            "grid_auto_rows": null,
            "grid_column": null,
            "grid_gap": null,
            "grid_row": null,
            "grid_template_areas": null,
            "grid_template_columns": null,
            "grid_template_rows": null,
            "height": null,
            "justify_content": null,
            "justify_items": null,
            "left": null,
            "margin": null,
            "max_height": null,
            "max_width": null,
            "min_height": null,
            "min_width": null,
            "object_fit": null,
            "object_position": null,
            "order": null,
            "overflow": null,
            "overflow_x": null,
            "overflow_y": null,
            "padding": null,
            "right": null,
            "top": null,
            "visibility": null,
            "width": null
          }
        },
        "401d65b206c04152acf520b1bba4fed0": {
          "model_module": "@jupyter-widgets/controls",
          "model_name": "DescriptionStyleModel",
          "model_module_version": "1.5.0",
          "state": {
            "_model_module": "@jupyter-widgets/controls",
            "_model_module_version": "1.5.0",
            "_model_name": "DescriptionStyleModel",
            "_view_count": null,
            "_view_module": "@jupyter-widgets/base",
            "_view_module_version": "1.2.0",
            "_view_name": "StyleView",
            "description_width": ""
          }
        },
        "b44c1d050bf04befb0466100d90add88": {
          "model_module": "@jupyter-widgets/base",
          "model_name": "LayoutModel",
          "model_module_version": "1.2.0",
          "state": {
            "_model_module": "@jupyter-widgets/base",
            "_model_module_version": "1.2.0",
            "_model_name": "LayoutModel",
            "_view_count": null,
            "_view_module": "@jupyter-widgets/base",
            "_view_module_version": "1.2.0",
            "_view_name": "LayoutView",
            "align_content": null,
            "align_items": null,
            "align_self": null,
            "border": null,
            "bottom": null,
            "display": null,
            "flex": null,
            "flex_flow": null,
            "grid_area": null,
            "grid_auto_columns": null,
            "grid_auto_flow": null,
            "grid_auto_rows": null,
            "grid_column": null,
            "grid_gap": null,
            "grid_row": null,
            "grid_template_areas": null,
            "grid_template_columns": null,
            "grid_template_rows": null,
            "height": null,
            "justify_content": null,
            "justify_items": null,
            "left": null,
            "margin": null,
            "max_height": null,
            "max_width": null,
            "min_height": null,
            "min_width": null,
            "object_fit": null,
            "object_position": null,
            "order": null,
            "overflow": null,
            "overflow_x": null,
            "overflow_y": null,
            "padding": null,
            "right": null,
            "top": null,
            "visibility": null,
            "width": null
          }
        },
        "6dafe96fba2547ba9b31a1fa9dd4b2fe": {
          "model_module": "@jupyter-widgets/controls",
          "model_name": "ProgressStyleModel",
          "model_module_version": "1.5.0",
          "state": {
            "_model_module": "@jupyter-widgets/controls",
            "_model_module_version": "1.5.0",
            "_model_name": "ProgressStyleModel",
            "_view_count": null,
            "_view_module": "@jupyter-widgets/base",
            "_view_module_version": "1.2.0",
            "_view_name": "StyleView",
            "bar_color": null,
            "description_width": ""
          }
        },
        "e24d731eb2494a3cb5ac5776b9b44e7e": {
          "model_module": "@jupyter-widgets/base",
          "model_name": "LayoutModel",
          "model_module_version": "1.2.0",
          "state": {
            "_model_module": "@jupyter-widgets/base",
            "_model_module_version": "1.2.0",
            "_model_name": "LayoutModel",
            "_view_count": null,
            "_view_module": "@jupyter-widgets/base",
            "_view_module_version": "1.2.0",
            "_view_name": "LayoutView",
            "align_content": null,
            "align_items": null,
            "align_self": null,
            "border": null,
            "bottom": null,
            "display": null,
            "flex": null,
            "flex_flow": null,
            "grid_area": null,
            "grid_auto_columns": null,
            "grid_auto_flow": null,
            "grid_auto_rows": null,
            "grid_column": null,
            "grid_gap": null,
            "grid_row": null,
            "grid_template_areas": null,
            "grid_template_columns": null,
            "grid_template_rows": null,
            "height": null,
            "justify_content": null,
            "justify_items": null,
            "left": null,
            "margin": null,
            "max_height": null,
            "max_width": null,
            "min_height": null,
            "min_width": null,
            "object_fit": null,
            "object_position": null,
            "order": null,
            "overflow": null,
            "overflow_x": null,
            "overflow_y": null,
            "padding": null,
            "right": null,
            "top": null,
            "visibility": null,
            "width": null
          }
        },
        "8ca522338d1342698868ab8c317e0686": {
          "model_module": "@jupyter-widgets/controls",
          "model_name": "DescriptionStyleModel",
          "model_module_version": "1.5.0",
          "state": {
            "_model_module": "@jupyter-widgets/controls",
            "_model_module_version": "1.5.0",
            "_model_name": "DescriptionStyleModel",
            "_view_count": null,
            "_view_module": "@jupyter-widgets/base",
            "_view_module_version": "1.2.0",
            "_view_name": "StyleView",
            "description_width": ""
          }
        },
        "5fc7e9d09d6444d9a26bfd2d03d3f8c5": {
          "model_module": "@jupyter-widgets/controls",
          "model_name": "HBoxModel",
          "model_module_version": "1.5.0",
          "state": {
            "_dom_classes": [],
            "_model_module": "@jupyter-widgets/controls",
            "_model_module_version": "1.5.0",
            "_model_name": "HBoxModel",
            "_view_count": null,
            "_view_module": "@jupyter-widgets/controls",
            "_view_module_version": "1.5.0",
            "_view_name": "HBoxView",
            "box_style": "",
            "children": [
              "IPY_MODEL_742a5bc01b4b400e9ec528845595c2a3",
              "IPY_MODEL_06f709ffae1f4924bfad6a7fe2bb6020",
              "IPY_MODEL_7cfc25b888e944d5aeb62df5125f8156"
            ],
            "layout": "IPY_MODEL_24a6e585dd5a4d258a3d003f498ebbd0"
          }
        },
        "742a5bc01b4b400e9ec528845595c2a3": {
          "model_module": "@jupyter-widgets/controls",
          "model_name": "HTMLModel",
          "model_module_version": "1.5.0",
          "state": {
            "_dom_classes": [],
            "_model_module": "@jupyter-widgets/controls",
            "_model_module_version": "1.5.0",
            "_model_name": "HTMLModel",
            "_view_count": null,
            "_view_module": "@jupyter-widgets/controls",
            "_view_module_version": "1.5.0",
            "_view_name": "HTMLView",
            "description": "",
            "description_tooltip": null,
            "layout": "IPY_MODEL_3dd4cf448bf4433f8424525fe2a91033",
            "placeholder": "​",
            "style": "IPY_MODEL_90fa40c1679446b19cac4ad961ab14f0",
            "value": "100%"
          }
        },
        "06f709ffae1f4924bfad6a7fe2bb6020": {
          "model_module": "@jupyter-widgets/controls",
          "model_name": "FloatProgressModel",
          "model_module_version": "1.5.0",
          "state": {
            "_dom_classes": [],
            "_model_module": "@jupyter-widgets/controls",
            "_model_module_version": "1.5.0",
            "_model_name": "FloatProgressModel",
            "_view_count": null,
            "_view_module": "@jupyter-widgets/controls",
            "_view_module_version": "1.5.0",
            "_view_name": "ProgressView",
            "bar_style": "success",
            "description": "",
            "description_tooltip": null,
            "layout": "IPY_MODEL_8c9b593fe84145aa83f3b983266963b7",
            "max": 25976,
            "min": 0,
            "orientation": "horizontal",
            "style": "IPY_MODEL_2faefbf6f3b24230aaa4e669ce8ae98b",
            "value": 25976
          }
        },
        "7cfc25b888e944d5aeb62df5125f8156": {
          "model_module": "@jupyter-widgets/controls",
          "model_name": "HTMLModel",
          "model_module_version": "1.5.0",
          "state": {
            "_dom_classes": [],
            "_model_module": "@jupyter-widgets/controls",
            "_model_module_version": "1.5.0",
            "_model_name": "HTMLModel",
            "_view_count": null,
            "_view_module": "@jupyter-widgets/controls",
            "_view_module_version": "1.5.0",
            "_view_name": "HTMLView",
            "description": "",
            "description_tooltip": null,
            "layout": "IPY_MODEL_d6c7ce7252764c03853dcadbf4cb48e2",
            "placeholder": "​",
            "style": "IPY_MODEL_7053d30eb57e4c0c8f825b432ad3ecef",
            "value": " 25976/25976 [1:24:39&lt;00:00,  4.92it/s]"
          }
        },
        "24a6e585dd5a4d258a3d003f498ebbd0": {
          "model_module": "@jupyter-widgets/base",
          "model_name": "LayoutModel",
          "model_module_version": "1.2.0",
          "state": {
            "_model_module": "@jupyter-widgets/base",
            "_model_module_version": "1.2.0",
            "_model_name": "LayoutModel",
            "_view_count": null,
            "_view_module": "@jupyter-widgets/base",
            "_view_module_version": "1.2.0",
            "_view_name": "LayoutView",
            "align_content": null,
            "align_items": null,
            "align_self": null,
            "border": null,
            "bottom": null,
            "display": null,
            "flex": null,
            "flex_flow": null,
            "grid_area": null,
            "grid_auto_columns": null,
            "grid_auto_flow": null,
            "grid_auto_rows": null,
            "grid_column": null,
            "grid_gap": null,
            "grid_row": null,
            "grid_template_areas": null,
            "grid_template_columns": null,
            "grid_template_rows": null,
            "height": null,
            "justify_content": null,
            "justify_items": null,
            "left": null,
            "margin": null,
            "max_height": null,
            "max_width": null,
            "min_height": null,
            "min_width": null,
            "object_fit": null,
            "object_position": null,
            "order": null,
            "overflow": null,
            "overflow_x": null,
            "overflow_y": null,
            "padding": null,
            "right": null,
            "top": null,
            "visibility": null,
            "width": null
          }
        },
        "3dd4cf448bf4433f8424525fe2a91033": {
          "model_module": "@jupyter-widgets/base",
          "model_name": "LayoutModel",
          "model_module_version": "1.2.0",
          "state": {
            "_model_module": "@jupyter-widgets/base",
            "_model_module_version": "1.2.0",
            "_model_name": "LayoutModel",
            "_view_count": null,
            "_view_module": "@jupyter-widgets/base",
            "_view_module_version": "1.2.0",
            "_view_name": "LayoutView",
            "align_content": null,
            "align_items": null,
            "align_self": null,
            "border": null,
            "bottom": null,
            "display": null,
            "flex": null,
            "flex_flow": null,
            "grid_area": null,
            "grid_auto_columns": null,
            "grid_auto_flow": null,
            "grid_auto_rows": null,
            "grid_column": null,
            "grid_gap": null,
            "grid_row": null,
            "grid_template_areas": null,
            "grid_template_columns": null,
            "grid_template_rows": null,
            "height": null,
            "justify_content": null,
            "justify_items": null,
            "left": null,
            "margin": null,
            "max_height": null,
            "max_width": null,
            "min_height": null,
            "min_width": null,
            "object_fit": null,
            "object_position": null,
            "order": null,
            "overflow": null,
            "overflow_x": null,
            "overflow_y": null,
            "padding": null,
            "right": null,
            "top": null,
            "visibility": null,
            "width": null
          }
        },
        "90fa40c1679446b19cac4ad961ab14f0": {
          "model_module": "@jupyter-widgets/controls",
          "model_name": "DescriptionStyleModel",
          "model_module_version": "1.5.0",
          "state": {
            "_model_module": "@jupyter-widgets/controls",
            "_model_module_version": "1.5.0",
            "_model_name": "DescriptionStyleModel",
            "_view_count": null,
            "_view_module": "@jupyter-widgets/base",
            "_view_module_version": "1.2.0",
            "_view_name": "StyleView",
            "description_width": ""
          }
        },
        "8c9b593fe84145aa83f3b983266963b7": {
          "model_module": "@jupyter-widgets/base",
          "model_name": "LayoutModel",
          "model_module_version": "1.2.0",
          "state": {
            "_model_module": "@jupyter-widgets/base",
            "_model_module_version": "1.2.0",
            "_model_name": "LayoutModel",
            "_view_count": null,
            "_view_module": "@jupyter-widgets/base",
            "_view_module_version": "1.2.0",
            "_view_name": "LayoutView",
            "align_content": null,
            "align_items": null,
            "align_self": null,
            "border": null,
            "bottom": null,
            "display": null,
            "flex": null,
            "flex_flow": null,
            "grid_area": null,
            "grid_auto_columns": null,
            "grid_auto_flow": null,
            "grid_auto_rows": null,
            "grid_column": null,
            "grid_gap": null,
            "grid_row": null,
            "grid_template_areas": null,
            "grid_template_columns": null,
            "grid_template_rows": null,
            "height": null,
            "justify_content": null,
            "justify_items": null,
            "left": null,
            "margin": null,
            "max_height": null,
            "max_width": null,
            "min_height": null,
            "min_width": null,
            "object_fit": null,
            "object_position": null,
            "order": null,
            "overflow": null,
            "overflow_x": null,
            "overflow_y": null,
            "padding": null,
            "right": null,
            "top": null,
            "visibility": null,
            "width": null
          }
        },
        "2faefbf6f3b24230aaa4e669ce8ae98b": {
          "model_module": "@jupyter-widgets/controls",
          "model_name": "ProgressStyleModel",
          "model_module_version": "1.5.0",
          "state": {
            "_model_module": "@jupyter-widgets/controls",
            "_model_module_version": "1.5.0",
            "_model_name": "ProgressStyleModel",
            "_view_count": null,
            "_view_module": "@jupyter-widgets/base",
            "_view_module_version": "1.2.0",
            "_view_name": "StyleView",
            "bar_color": null,
            "description_width": ""
          }
        },
        "d6c7ce7252764c03853dcadbf4cb48e2": {
          "model_module": "@jupyter-widgets/base",
          "model_name": "LayoutModel",
          "model_module_version": "1.2.0",
          "state": {
            "_model_module": "@jupyter-widgets/base",
            "_model_module_version": "1.2.0",
            "_model_name": "LayoutModel",
            "_view_count": null,
            "_view_module": "@jupyter-widgets/base",
            "_view_module_version": "1.2.0",
            "_view_name": "LayoutView",
            "align_content": null,
            "align_items": null,
            "align_self": null,
            "border": null,
            "bottom": null,
            "display": null,
            "flex": null,
            "flex_flow": null,
            "grid_area": null,
            "grid_auto_columns": null,
            "grid_auto_flow": null,
            "grid_auto_rows": null,
            "grid_column": null,
            "grid_gap": null,
            "grid_row": null,
            "grid_template_areas": null,
            "grid_template_columns": null,
            "grid_template_rows": null,
            "height": null,
            "justify_content": null,
            "justify_items": null,
            "left": null,
            "margin": null,
            "max_height": null,
            "max_width": null,
            "min_height": null,
            "min_width": null,
            "object_fit": null,
            "object_position": null,
            "order": null,
            "overflow": null,
            "overflow_x": null,
            "overflow_y": null,
            "padding": null,
            "right": null,
            "top": null,
            "visibility": null,
            "width": null
          }
        },
        "7053d30eb57e4c0c8f825b432ad3ecef": {
          "model_module": "@jupyter-widgets/controls",
          "model_name": "DescriptionStyleModel",
          "model_module_version": "1.5.0",
          "state": {
            "_model_module": "@jupyter-widgets/controls",
            "_model_module_version": "1.5.0",
            "_model_name": "DescriptionStyleModel",
            "_view_count": null,
            "_view_module": "@jupyter-widgets/base",
            "_view_module_version": "1.2.0",
            "_view_name": "StyleView",
            "description_width": ""
          }
        }
      }
    }
  },
  "cells": [
    {
      "cell_type": "markdown",
      "source": [
        "# Package Import\n"
      ],
      "metadata": {
        "id": "TLWh1fUS-Gr5"
      }
    },
    {
      "cell_type": "code",
      "source": [
        "!pip install transformers --quiet"
      ],
      "metadata": {
        "id": "scJ_awvI-BhQ",
        "colab": {
          "base_uri": "https://localhost:8080/"
        },
        "outputId": "4731f383-ce4b-4ed2-8d8f-d85b7385759b"
      },
      "execution_count": 1,
      "outputs": [
        {
          "output_type": "stream",
          "name": "stdout",
          "text": [
            "\u001b[2K     \u001b[90m━━━━━━━━━━━━━━━━━━━━━━━━━━━━━━━━━━━━━━━━\u001b[0m \u001b[32m5.8/5.8 MB\u001b[0m \u001b[31m52.0 MB/s\u001b[0m eta \u001b[36m0:00:00\u001b[0m\n",
            "\u001b[2K     \u001b[90m━━━━━━━━━━━━━━━━━━━━━━━━━━━━━━━━━━━━━━\u001b[0m \u001b[32m182.4/182.4 KB\u001b[0m \u001b[31m20.9 MB/s\u001b[0m eta \u001b[36m0:00:00\u001b[0m\n",
            "\u001b[2K     \u001b[90m━━━━━━━━━━━━━━━━━━━━━━━━━━━━━━━━━━━━━━━━\u001b[0m \u001b[32m7.6/7.6 MB\u001b[0m \u001b[31m105.2 MB/s\u001b[0m eta \u001b[36m0:00:00\u001b[0m\n",
            "\u001b[?25h"
          ]
        }
      ]
    },
    {
      "cell_type": "code",
      "source": [
        "import pandas as pd\n",
        "import numpy as np"
      ],
      "metadata": {
        "id": "SSJUJFlD-Fxl"
      },
      "execution_count": 2,
      "outputs": []
    },
    {
      "cell_type": "code",
      "source": [
        "from google.colab import drive\n",
        "drive.mount('/content/drive')"
      ],
      "metadata": {
        "id": "YjBX-Cr9-EJ0",
        "colab": {
          "base_uri": "https://localhost:8080/"
        },
        "outputId": "d502be02-a6db-4604-91c7-7895ec4f5f72"
      },
      "execution_count": 3,
      "outputs": [
        {
          "output_type": "stream",
          "name": "stdout",
          "text": [
            "Mounted at /content/drive\n"
          ]
        }
      ]
    },
    {
      "cell_type": "markdown",
      "source": [
        "# DataLoader"
      ],
      "metadata": {
        "id": "RReosD0rQ_jH"
      }
    },
    {
      "cell_type": "code",
      "source": [
        "import torch\n",
        "from tqdm.auto import tqdm"
      ],
      "metadata": {
        "id": "js9V8wOi9_Tt"
      },
      "execution_count": 4,
      "outputs": []
    },
    {
      "cell_type": "code",
      "source": [
        "class RE_Dataset(torch.utils.data.Dataset):\n",
        "    def __init__(self, dataset):\n",
        "        self.example = []\n",
        "\n",
        "        for each in dataset:\n",
        "            self.example.append({k: torch.tensor(v) for k, v in each.items()})\n",
        "    def __getitem__(self, idx):\n",
        "        return self.example[idx]\n",
        "\n",
        "    def __len__(self):\n",
        "        return len(self.example)\n",
        "\n",
        "def tokenized_dataset(dataset, tokenizer):\n",
        "\n",
        "    data = []\n",
        "    for _, item in tqdm(dataset.iterrows(), desc=\"tokenizing\", total=len(dataset)):\n",
        "        output = tokenizer(item[\"sentence\"], padding=True, truncation=True, max_length=256, add_special_tokens=True)\n",
        "        data.append(output)\n",
        "\n",
        "    return data\n",
        "\n",
        "def load_dataset(tokenizer, data_path):\n",
        "    dataset = pd.read_csv(data_path, index_col=0)\n",
        "    tokenized_data = tokenized_dataset(dataset, tokenizer)\n",
        "    RE_dataset = RE_Dataset(tokenized_data)\n",
        "    return RE_dataset"
      ],
      "metadata": {
        "id": "R_ZzHNkRJaDC"
      },
      "execution_count": 5,
      "outputs": []
    },
    {
      "cell_type": "markdown",
      "source": [
        "# Pre train을 시행하지 않고 데이터가 어떻게 생성되는지 관찰"
      ],
      "metadata": {
        "id": "FophG_HhGfv1"
      }
    },
    {
      "cell_type": "code",
      "source": [
        "from transformers import AutoTokenizer, BertForMaskedLM, pipeline, DataCollatorForLanguageModeling, LineByLineTextDataset"
      ],
      "metadata": {
        "id": "T4KunK1I-iev"
      },
      "execution_count": 6,
      "outputs": []
    },
    {
      "cell_type": "code",
      "source": [
        "# tokenizer and model import\n",
        "model_name = 'klue/roberta-large'\n",
        "my_model = BertForMaskedLM.from_pretrained(model_name)\n",
        "tokenizer = AutoTokenizer.from_pretrained(model_name)\n",
        "tokenizer.add_special_tokens({'mask_token':'[MASK]'})"
      ],
      "metadata": {
        "id": "zAFYjS29GMZw"
      },
      "execution_count": null,
      "outputs": []
    },
    {
      "cell_type": "code",
      "source": [
        "# Data import and make dataloader\n",
        "train_data = '/content/drive/MyDrive/level2_RE/train.csv'\n",
        "\n",
        "data_collator = DataCollatorForLanguageModeling(\n",
        "    tokenizer=tokenizer, mlm=True, mlm_probability=0.3\n",
        ")\n",
        "\n",
        "dataset = load_dataset(tokenizer,train_data)"
      ],
      "metadata": {
        "id": "jM6pb_4aJOm_"
      },
      "execution_count": null,
      "outputs": []
    },
    {
      "cell_type": "code",
      "source": [
        "# masked_data 된 데이터를 만들어 줍니다. 생성된 데이터의 다양성을 위해서 mlm_probability는 0.3으로 맞춥니다.\n",
        "masked_data = data_collator(dataset.example)"
      ],
      "metadata": {
        "id": "ID19OCXbOKuZ"
      },
      "execution_count": null,
      "outputs": []
    },
    {
      "cell_type": "code",
      "source": [
        "masked_text = []\n",
        "for each in masked_data['input_ids']:\n",
        "    tmp = tokenizer.decode(each.tolist())\n",
        "    tmp = tmp.replace('[CLS]','')\n",
        "    tmp = tmp.replace('[SEP]','')\n",
        "    tmp = tmp.replace('[PAD]','')\n",
        "    tmp = tmp.strip()\n",
        "    masked_text.append(tmp)"
      ],
      "metadata": {
        "id": "rcYc-Yn5RaB2"
      },
      "execution_count": 10,
      "outputs": []
    },
    {
      "cell_type": "code",
      "source": [
        "nlp_fill = pipeline('fill-mask', top_k=5, model=my_model, tokenizer=tokenizer)"
      ],
      "metadata": {
        "id": "uCTWuqvyT4gM"
      },
      "execution_count": 11,
      "outputs": []
    },
    {
      "cell_type": "code",
      "source": [
        "sentence_wo_pretrain = []\n",
        "for idx, each in enumerate(tqdm(masked_text)):\n",
        "    try:\n",
        "        tmp_result = nlp_fill(each)\n",
        "        token_list = []\n",
        "        for k in tmp_result:\n",
        "            index = np.random.randint(3,size=1)[0]\n",
        "            token_list.append(k[index]['token'])\n",
        "\n",
        "        tmp = tokenizer.encode(each)\n",
        "\n",
        "        count = 0\n",
        "        for idx2, j in enumerate(tmp):\n",
        "            if j == 4:\n",
        "                tmp[idx2] = token_list[count]\n",
        "                count += 1\n",
        "        sentence_wo_pretrain.append(tokenizer.decode(tmp[1:-1]))\n",
        "    except:\n",
        "        sentence_wo_pretrain.append(\"None\")\n",
        "        pass"
      ],
      "metadata": {
        "id": "wvFrbAeWA0eO"
      },
      "execution_count": null,
      "outputs": []
    },
    {
      "cell_type": "code",
      "source": [
        "sentence_wo_pretrain[9]"
      ],
      "metadata": {
        "id": "6U5IlVrtq4Dl"
      },
      "execution_count": null,
      "outputs": []
    },
    {
      "cell_type": "markdown",
      "source": [
        "## for data collator redefine (mlm probability 0.3 -> 0.15)\n"
      ],
      "metadata": {
        "id": "N0Edw3nhF5BL"
      }
    },
    {
      "cell_type": "code",
      "source": [
        "data_collator = DataCollatorForLanguageModeling(\n",
        "    tokenizer=tokenizer, mlm=True, mlm_probability=0.15\n",
        ")"
      ],
      "metadata": {
        "id": "b0haPYgRF32S"
      },
      "execution_count": null,
      "outputs": []
    },
    {
      "cell_type": "markdown",
      "source": [
        "# Pretrain"
      ],
      "metadata": {
        "id": "n_jeE1kbWh9j"
      }
    },
    {
      "cell_type": "code",
      "source": [
        "from transformers import Trainer, TrainingArguments, RobertaForMaskedLM\n",
        "\n",
        "epoch = 15\n",
        "warmup_ratio = 0.1\n",
        "\n",
        "model_name = 'klue/roberta-large'\n",
        "my_model = RobertaForMaskedLM.from_pretrained(model_name)\n",
        "\n",
        "training_args = TrainingArguments(\n",
        "    output_dir='model_output',\n",
        "    overwrite_output_dir=True,\n",
        "    num_train_epochs=15,\n",
        "    learning_rate=2e-5,\n",
        "    warmup_steps=1000,\n",
        "    per_gpu_train_batch_size=32,\n",
        "    save_steps=1000,\n",
        "    save_total_limit=2,\n",
        "    logging_steps=100\n",
        ")\n",
        "\n",
        "trainer = Trainer(\n",
        "    model=my_model,\n",
        "    args=training_args,\n",
        "    data_collator=data_collator,\n",
        "    train_dataset=dataset\n",
        ")\n",
        "\n",
        "trainer.train()"
      ],
      "metadata": {
        "id": "L2mGq_rHWjA9"
      },
      "execution_count": null,
      "outputs": []
    },
    {
      "cell_type": "code",
      "source": [
        "trainer.save_model('/content/drive/MyDrive/level2_RE')"
      ],
      "metadata": {
        "id": "nSQkkQv-DOfX"
      },
      "execution_count": null,
      "outputs": []
    },
    {
      "cell_type": "code",
      "source": [
        "# 생성된 데이터 확인\n",
        "my_model = RobertaForMaskedLM.from_pretrained('/content/drive/MyDrive/level2_RE')\n",
        "nlp_fill = pipeline('fill-mask', top_k=3, model=my_model, tokenizer=tokenizer)"
      ],
      "metadata": {
        "id": "1oSP4CUIDSy-"
      },
      "execution_count": null,
      "outputs": []
    },
    {
      "cell_type": "code",
      "source": [
        "sentence_w_pretrain = []\n",
        "for idx, each in enumerate(tqdm(masked_text)):\n",
        "    try:\n",
        "        tmp_result = nlp_fill(each)\n",
        "        token_list = []\n",
        "        for k in tmp_result:\n",
        "            index = np.random.randint(3,size=1)[0]\n",
        "            token_list.append(k[index]['token'])\n",
        "\n",
        "        tmp = tokenizer.encode(each)\n",
        "\n",
        "        count = 0\n",
        "        for idx2, j in enumerate(tmp):\n",
        "            if j == 4:\n",
        "                tmp[idx2] = token_list[count]\n",
        "                count += 1\n",
        "        sentence_w_pretrain.append(tokenizer.decode(tmp[1:-1]))\n",
        "    except:\n",
        "        sentence_w_pretrain.append(\"None\")\n",
        "        pass"
      ],
      "metadata": {
        "id": "lQ-P_bteDZuh"
      },
      "execution_count": null,
      "outputs": []
    },
    {
      "cell_type": "markdown",
      "source": [
        "# pretrain with bert expand dataloader"
      ],
      "metadata": {
        "id": "kJWFDu3CQgSt"
      }
    },
    {
      "cell_type": "code",
      "source": [
        "def tokenized_dataset_expand(dataset, tokenizer):\n",
        "\n",
        "    data = []\n",
        "    for _, item in tqdm(dataset.iterrows(), desc=\"tokenizing\", total=len(dataset)):\n",
        "\n",
        "        # tokenizer에 라벨정보도 같이 포함\n",
        "        subj = eval(item[\"subject_entity\"])[\"word\"]\n",
        "        obj = eval(item[\"object_entity\"])[\"word\"]\n",
        "        label = item['label']\n",
        "        concat_entity = tokenizer.sep_token.join([subj, obj])\n",
        "        sentence = tokenizer.sep_token.join([item['sentence'],label])\n",
        "\n",
        "        output = tokenizer(concat_entity,\n",
        "                            sentence, \n",
        "                           padding=True, truncation=True, max_length=256, add_special_tokens=True)\n",
        "        data.append(output)\n",
        "\n",
        "    return data\n",
        "\n",
        "def load_dataset_expand(tokenizer, data_path):\n",
        "    dataset = pd.read_csv(data_path, index_col=0)\n",
        "    label = list(dataset.label.unique())\n",
        "    # vocab에 라벨들을 포함해줌\n",
        "    tokenizer.add_tokens(label)\n",
        "\n",
        "    tokenized_data = tokenized_dataset_expand(dataset, tokenizer)\n",
        "    RE_dataset = RE_Dataset(tokenized_data)\n",
        "    \n",
        "    return RE_dataset"
      ],
      "metadata": {
        "id": "-v2XdjsR99P8"
      },
      "execution_count": null,
      "outputs": []
    },
    {
      "cell_type": "code",
      "source": [
        "new_dataset = load_dataset_expand(tokenizer,train_data)"
      ],
      "metadata": {
        "id": "LwF0UXxGQ7mj",
        "colab": {
          "base_uri": "https://localhost:8080/",
          "height": 49,
          "referenced_widgets": [
            "75e8bf3fc8594eb5aa70659f9a7a3114",
            "8bf1b7d4e89842ae8491ea05fe9a8937",
            "b1987a4d2f63470b89a5251b34ccda0b",
            "b84d432117744f24ba752770a8eda982",
            "44c2cd9ddc4a4b0881875f45ade0a1c9",
            "389aaf34dfb14989a82fb529bdbf9a12",
            "401d65b206c04152acf520b1bba4fed0",
            "b44c1d050bf04befb0466100d90add88",
            "6dafe96fba2547ba9b31a1fa9dd4b2fe",
            "e24d731eb2494a3cb5ac5776b9b44e7e",
            "8ca522338d1342698868ab8c317e0686"
          ]
        },
        "outputId": "01f82db1-6236-4aec-f316-660a61f9d9c8"
      },
      "execution_count": null,
      "outputs": [
        {
          "output_type": "display_data",
          "data": {
            "text/plain": [
              "tokenizing:   0%|          | 0/25976 [00:00<?, ?it/s]"
            ],
            "application/vnd.jupyter.widget-view+json": {
              "version_major": 2,
              "version_minor": 0,
              "model_id": "75e8bf3fc8594eb5aa70659f9a7a3114"
            }
          },
          "metadata": {}
        }
      ]
    },
    {
      "cell_type": "code",
      "source": [
        "# check tokens and length of tokenizer\n",
        "print(dataset.example[0])\n",
        "print(len(tokenizer))"
      ],
      "metadata": {
        "id": "SEKrNL2Nykj1"
      },
      "execution_count": null,
      "outputs": []
    },
    {
      "cell_type": "code",
      "source": [
        "from transformers import Trainer, TrainingArguments, RobertaForMaskedLM\n",
        "epoch = 15\n",
        "warmup_ratio = 0.1\n",
        "\n",
        "model_name = 'klue/roberta-large'\n",
        "my_model = RobertaForMaskedLM.from_pretrained(model_name)\n",
        "my_model.resize_token_embeddings(len(tokenizer))\n",
        "\n",
        "training_args = TrainingArguments(\n",
        "    output_dir='model_output',\n",
        "    overwrite_output_dir=True,\n",
        "    num_train_epochs=epoch,\n",
        "    learning_rate=2e-5,\n",
        "    warmup_steps=1000,\n",
        "    per_gpu_train_batch_size=32,\n",
        "    save_steps=1000,\n",
        "    save_total_limit=2,\n",
        "    logging_steps=100\n",
        ")\n",
        "\n",
        "trainer = Trainer(\n",
        "    model=my_model,\n",
        "    args=training_args,\n",
        "    data_collator=data_collator,\n",
        "    train_dataset=new_dataset\n",
        ")\n",
        "\n",
        "trainer.train()"
      ],
      "metadata": {
        "colab": {
          "base_uri": "https://localhost:8080/"
        },
        "id": "9uMErNZuvyr9",
        "outputId": "1083f288-bedc-46b7-d9a6-6f80c190e41d"
      },
      "execution_count": null,
      "outputs": [
        {
          "output_type": "execute_result",
          "data": {
            "text/plain": [
              "Embedding(32030, 1024)"
            ]
          },
          "metadata": {},
          "execution_count": 14
        }
      ]
    },
    {
      "cell_type": "code",
      "source": [
        "trainer.save_model('/content/drive/MyDrive/level2_RE/bert_expand')"
      ],
      "metadata": {
        "id": "YavLOgbTv_hu"
      },
      "execution_count": null,
      "outputs": []
    },
    {
      "cell_type": "code",
      "source": [
        "# data generate with bert_expand model\n",
        "my_model = RobertaForMaskedLM.from_pretrained('/content/drive/MyDrive/level2_RE/bert_expand')"
      ],
      "metadata": {
        "id": "1Ic6_SIu0JEi"
      },
      "execution_count": null,
      "outputs": []
    },
    {
      "cell_type": "code",
      "source": [
        "nlp_fill = pipeline('fill-mask', top_k=3, model=my_model, tokenizer=tokenizer)"
      ],
      "metadata": {
        "id": "xdD0N7t7Z9J6"
      },
      "execution_count": null,
      "outputs": []
    },
    {
      "cell_type": "code",
      "source": [
        "bert_expand_sentence = []\n",
        "for idx, each in enumerate(tqdm(masked_text)):\n",
        "\n",
        "    try:\n",
        "        tmp_result = nlp_fill(each)\n",
        "        token_list = []\n",
        "        for k in tmp_result:\n",
        "            index = np.random.randint(3,size=1)[0]\n",
        "            token_list.append(k[index]['token'])\n",
        "\n",
        "        tmp = tokenizer.encode(each)\n",
        "\n",
        "        count = 0\n",
        "        for idx2, j in enumerate(tmp):\n",
        "            if j == 4:\n",
        "                tmp[idx2] = token_list[count]\n",
        "                count += 1\n",
        "        bert_expand_sentence.append(tokenizer.decode(tmp[1:-1]))\n",
        "    except:\n",
        "        sentencebert_expand_sentence.append(\"None\")\n",
        "        pass"
      ],
      "metadata": {
        "id": "VLiHBUp3Ff1B"
      },
      "execution_count": null,
      "outputs": []
    },
    {
      "cell_type": "markdown",
      "source": [
        "# Make csv file"
      ],
      "metadata": {
        "id": "B38wjzZsGUz-"
      }
    },
    {
      "cell_type": "code",
      "source": [
        "sentence = []\n",
        "for idx, each in enumerate(tqdm(result)):\n",
        "\n",
        "    try:\n",
        "        tmp_result = nlp_fill(each)\n",
        "        token_list = []\n",
        "        for k in tmp_result:\n",
        "            index = np.random.randint(3,size=1)[0]\n",
        "            token_list.append(k[index]['token'])\n",
        "\n",
        "        tmp = tokenizer.encode(each)\n",
        "\n",
        "        count = 0\n",
        "        for idx2, j in enumerate(tmp):\n",
        "            if j == 4:\n",
        "                tmp[idx2] = token_list[count]\n",
        "                count += 1\n",
        "        sentence.append(tokenizer.decode(tmp[1:-1]))\n",
        "    except:\n",
        "        sentence.append(\"None\")\n",
        "        pass"
      ],
      "metadata": {
        "colab": {
          "base_uri": "https://localhost:8080/",
          "height": 49,
          "referenced_widgets": [
            "5fc7e9d09d6444d9a26bfd2d03d3f8c5",
            "742a5bc01b4b400e9ec528845595c2a3",
            "06f709ffae1f4924bfad6a7fe2bb6020",
            "7cfc25b888e944d5aeb62df5125f8156",
            "24a6e585dd5a4d258a3d003f498ebbd0",
            "3dd4cf448bf4433f8424525fe2a91033",
            "90fa40c1679446b19cac4ad961ab14f0",
            "8c9b593fe84145aa83f3b983266963b7",
            "2faefbf6f3b24230aaa4e669ce8ae98b",
            "d6c7ce7252764c03853dcadbf4cb48e2",
            "7053d30eb57e4c0c8f825b432ad3ecef"
          ]
        },
        "id": "M_-_HMU7i1nF",
        "outputId": "58143b83-558a-42a4-8fca-04ffc1f1c8b7"
      },
      "execution_count": null,
      "outputs": [
        {
          "output_type": "display_data",
          "data": {
            "text/plain": [
              "  0%|          | 0/25976 [00:00<?, ?it/s]"
            ],
            "application/vnd.jupyter.widget-view+json": {
              "version_major": 2,
              "version_minor": 0,
              "model_id": "5fc7e9d09d6444d9a26bfd2d03d3f8c5"
            }
          },
          "metadata": {}
        }
      ]
    },
    {
      "cell_type": "code",
      "source": [
        "len(sentence)"
      ],
      "metadata": {
        "id": "Zbjm8s1hi7n7"
      },
      "execution_count": null,
      "outputs": []
    },
    {
      "cell_type": "code",
      "source": [
        "train_df = pd.read_csv(train_data,index_col=0)"
      ],
      "metadata": {
        "id": "nLz4ReQEAigt"
      },
      "execution_count": null,
      "outputs": []
    },
    {
      "cell_type": "code",
      "source": [
        "train_df['generated_1'] = sentence"
      ],
      "metadata": {
        "id": "htfxadVVULpl"
      },
      "execution_count": null,
      "outputs": []
    },
    {
      "cell_type": "code",
      "source": [
        "train_df['generated_wo_pretrain'] = sentence_wo_pretrain"
      ],
      "metadata": {
        "id": "HhjI__yzr9ce"
      },
      "execution_count": null,
      "outputs": []
    },
    {
      "cell_type": "code",
      "source": [
        "train_df.to_csv('/content/drive/MyDrive/level2_RE/bert_generated.csv')"
      ],
      "metadata": {
        "id": "jqyl4G6fWuBl"
      },
      "execution_count": null,
      "outputs": []
    },
    {
      "cell_type": "code",
      "source": [],
      "metadata": {
        "id": "RJstJE0kWzpk"
      },
      "execution_count": null,
      "outputs": []
    }
  ]
}